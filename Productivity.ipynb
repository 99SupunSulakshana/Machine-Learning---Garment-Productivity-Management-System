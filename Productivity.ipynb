{
  "cells": [
    {
      "cell_type": "markdown",
      "metadata": {
        "id": "oTzNdPi8PeDQ"
      },
      "source": [
        "Depedencies Adding"
      ]
    },
    {
      "cell_type": "code",
      "execution_count": 1,
      "metadata": {
        "id": "gj51g31_Pio-"
      },
      "outputs": [],
      "source": [
        "import numpy as np\n",
        "import pandas as pd\n",
        "import matplotlib.pyplot as plt\n",
        "import seaborn as sns\n",
        "from sklearn.model_selection import train_test_split\n",
        "from sklearn.model_selection import cross_val_score\n",
        "from sklearn.metrics import accuracy_score\n",
        "from sklearn import metrics"
      ]
    },
    {
      "cell_type": "markdown",
      "source": [
        "Importing the models"
      ],
      "metadata": {
        "id": "yDDA4m3YKvHN"
      }
    },
    {
      "cell_type": "code",
      "source": [
        "from sklearn.linear_model import LinearRegression\n",
        "from sklearn.linear_model import Lasso\n",
        "from sklearn.linear_model import LogisticRegression\n",
        "from sklearn.svm import SVR \n",
        "from sklearn.neighbors import KNeighborsClassifier\n",
        "from sklearn.ensemble import RandomForestRegressor\n",
        "from sklearn.tree import DecisionTreeRegressor"
      ],
      "metadata": {
        "id": "dkMxY6cVKumn"
      },
      "execution_count": 118,
      "outputs": []
    },
    {
      "cell_type": "markdown",
      "metadata": {
        "id": "jPJKT1u3R3OR"
      },
      "source": [
        "Data Set Importing"
      ]
    },
    {
      "cell_type": "code",
      "execution_count": 3,
      "metadata": {
        "id": "8zn_6YnCRvta"
      },
      "outputs": [],
      "source": [
        "# loading the disbetes dataset to a pandas DataFrame\n",
        "dset = pd.read_csv('/content/garments_worker_productivity (1).csv')"
      ]
    },
    {
      "cell_type": "code",
      "execution_count": 4,
      "metadata": {
        "colab": {
          "base_uri": "https://localhost:8080/",
          "height": 270
        },
        "id": "vqi9pOzcU7GM",
        "outputId": "17d2d9f5-fb11-4d0f-ae35-6ae30f559a34"
      },
      "outputs": [
        {
          "output_type": "execute_result",
          "data": {
            "text/html": [
              "\n",
              "  <div id=\"df-0346e9d6-74b9-4a5f-92d5-2e85e6ebf74e\">\n",
              "    <div class=\"colab-df-container\">\n",
              "      <div>\n",
              "<style scoped>\n",
              "    .dataframe tbody tr th:only-of-type {\n",
              "        vertical-align: middle;\n",
              "    }\n",
              "\n",
              "    .dataframe tbody tr th {\n",
              "        vertical-align: top;\n",
              "    }\n",
              "\n",
              "    .dataframe thead th {\n",
              "        text-align: right;\n",
              "    }\n",
              "</style>\n",
              "<table border=\"1\" class=\"dataframe\">\n",
              "  <thead>\n",
              "    <tr style=\"text-align: right;\">\n",
              "      <th></th>\n",
              "      <th>date</th>\n",
              "      <th>quarter</th>\n",
              "      <th>department</th>\n",
              "      <th>day</th>\n",
              "      <th>team</th>\n",
              "      <th>targeted_productivity</th>\n",
              "      <th>smv</th>\n",
              "      <th>wip</th>\n",
              "      <th>over_time</th>\n",
              "      <th>incentive</th>\n",
              "      <th>idle_time</th>\n",
              "      <th>idle_men</th>\n",
              "      <th>no_of_style_change</th>\n",
              "      <th>no_of_workers</th>\n",
              "      <th>actual_productivity</th>\n",
              "    </tr>\n",
              "  </thead>\n",
              "  <tbody>\n",
              "    <tr>\n",
              "      <th>0</th>\n",
              "      <td>1/1/2015</td>\n",
              "      <td>Quarter1</td>\n",
              "      <td>sweing</td>\n",
              "      <td>Thursday</td>\n",
              "      <td>8</td>\n",
              "      <td>0.80</td>\n",
              "      <td>26.16</td>\n",
              "      <td>1108.0</td>\n",
              "      <td>7080</td>\n",
              "      <td>98</td>\n",
              "      <td>0.0</td>\n",
              "      <td>0</td>\n",
              "      <td>0</td>\n",
              "      <td>59.0</td>\n",
              "      <td>0.940725</td>\n",
              "    </tr>\n",
              "    <tr>\n",
              "      <th>1</th>\n",
              "      <td>1/1/2015</td>\n",
              "      <td>Quarter1</td>\n",
              "      <td>finishing</td>\n",
              "      <td>Thursday</td>\n",
              "      <td>1</td>\n",
              "      <td>0.75</td>\n",
              "      <td>3.94</td>\n",
              "      <td>NaN</td>\n",
              "      <td>960</td>\n",
              "      <td>0</td>\n",
              "      <td>0.0</td>\n",
              "      <td>0</td>\n",
              "      <td>0</td>\n",
              "      <td>8.0</td>\n",
              "      <td>0.886500</td>\n",
              "    </tr>\n",
              "    <tr>\n",
              "      <th>2</th>\n",
              "      <td>1/1/2015</td>\n",
              "      <td>Quarter1</td>\n",
              "      <td>sweing</td>\n",
              "      <td>Thursday</td>\n",
              "      <td>11</td>\n",
              "      <td>0.80</td>\n",
              "      <td>11.41</td>\n",
              "      <td>968.0</td>\n",
              "      <td>3660</td>\n",
              "      <td>50</td>\n",
              "      <td>0.0</td>\n",
              "      <td>0</td>\n",
              "      <td>0</td>\n",
              "      <td>30.5</td>\n",
              "      <td>0.800570</td>\n",
              "    </tr>\n",
              "    <tr>\n",
              "      <th>3</th>\n",
              "      <td>1/1/2015</td>\n",
              "      <td>Quarter1</td>\n",
              "      <td>sweing</td>\n",
              "      <td>Thursday</td>\n",
              "      <td>12</td>\n",
              "      <td>0.80</td>\n",
              "      <td>11.41</td>\n",
              "      <td>968.0</td>\n",
              "      <td>3660</td>\n",
              "      <td>50</td>\n",
              "      <td>0.0</td>\n",
              "      <td>0</td>\n",
              "      <td>0</td>\n",
              "      <td>30.5</td>\n",
              "      <td>0.800570</td>\n",
              "    </tr>\n",
              "    <tr>\n",
              "      <th>4</th>\n",
              "      <td>1/1/2015</td>\n",
              "      <td>Quarter1</td>\n",
              "      <td>sweing</td>\n",
              "      <td>Thursday</td>\n",
              "      <td>6</td>\n",
              "      <td>0.80</td>\n",
              "      <td>25.90</td>\n",
              "      <td>1170.0</td>\n",
              "      <td>1920</td>\n",
              "      <td>50</td>\n",
              "      <td>0.0</td>\n",
              "      <td>0</td>\n",
              "      <td>0</td>\n",
              "      <td>56.0</td>\n",
              "      <td>0.800382</td>\n",
              "    </tr>\n",
              "  </tbody>\n",
              "</table>\n",
              "</div>\n",
              "      <button class=\"colab-df-convert\" onclick=\"convertToInteractive('df-0346e9d6-74b9-4a5f-92d5-2e85e6ebf74e')\"\n",
              "              title=\"Convert this dataframe to an interactive table.\"\n",
              "              style=\"display:none;\">\n",
              "        \n",
              "  <svg xmlns=\"http://www.w3.org/2000/svg\" height=\"24px\"viewBox=\"0 0 24 24\"\n",
              "       width=\"24px\">\n",
              "    <path d=\"M0 0h24v24H0V0z\" fill=\"none\"/>\n",
              "    <path d=\"M18.56 5.44l.94 2.06.94-2.06 2.06-.94-2.06-.94-.94-2.06-.94 2.06-2.06.94zm-11 1L8.5 8.5l.94-2.06 2.06-.94-2.06-.94L8.5 2.5l-.94 2.06-2.06.94zm10 10l.94 2.06.94-2.06 2.06-.94-2.06-.94-.94-2.06-.94 2.06-2.06.94z\"/><path d=\"M17.41 7.96l-1.37-1.37c-.4-.4-.92-.59-1.43-.59-.52 0-1.04.2-1.43.59L10.3 9.45l-7.72 7.72c-.78.78-.78 2.05 0 2.83L4 21.41c.39.39.9.59 1.41.59.51 0 1.02-.2 1.41-.59l7.78-7.78 2.81-2.81c.8-.78.8-2.07 0-2.86zM5.41 20L4 18.59l7.72-7.72 1.47 1.35L5.41 20z\"/>\n",
              "  </svg>\n",
              "      </button>\n",
              "      \n",
              "  <style>\n",
              "    .colab-df-container {\n",
              "      display:flex;\n",
              "      flex-wrap:wrap;\n",
              "      gap: 12px;\n",
              "    }\n",
              "\n",
              "    .colab-df-convert {\n",
              "      background-color: #E8F0FE;\n",
              "      border: none;\n",
              "      border-radius: 50%;\n",
              "      cursor: pointer;\n",
              "      display: none;\n",
              "      fill: #1967D2;\n",
              "      height: 32px;\n",
              "      padding: 0 0 0 0;\n",
              "      width: 32px;\n",
              "    }\n",
              "\n",
              "    .colab-df-convert:hover {\n",
              "      background-color: #E2EBFA;\n",
              "      box-shadow: 0px 1px 2px rgba(60, 64, 67, 0.3), 0px 1px 3px 1px rgba(60, 64, 67, 0.15);\n",
              "      fill: #174EA6;\n",
              "    }\n",
              "\n",
              "    [theme=dark] .colab-df-convert {\n",
              "      background-color: #3B4455;\n",
              "      fill: #D2E3FC;\n",
              "    }\n",
              "\n",
              "    [theme=dark] .colab-df-convert:hover {\n",
              "      background-color: #434B5C;\n",
              "      box-shadow: 0px 1px 3px 1px rgba(0, 0, 0, 0.15);\n",
              "      filter: drop-shadow(0px 1px 2px rgba(0, 0, 0, 0.3));\n",
              "      fill: #FFFFFF;\n",
              "    }\n",
              "  </style>\n",
              "\n",
              "      <script>\n",
              "        const buttonEl =\n",
              "          document.querySelector('#df-0346e9d6-74b9-4a5f-92d5-2e85e6ebf74e button.colab-df-convert');\n",
              "        buttonEl.style.display =\n",
              "          google.colab.kernel.accessAllowed ? 'block' : 'none';\n",
              "\n",
              "        async function convertToInteractive(key) {\n",
              "          const element = document.querySelector('#df-0346e9d6-74b9-4a5f-92d5-2e85e6ebf74e');\n",
              "          const dataTable =\n",
              "            await google.colab.kernel.invokeFunction('convertToInteractive',\n",
              "                                                     [key], {});\n",
              "          if (!dataTable) return;\n",
              "\n",
              "          const docLinkHtml = 'Like what you see? Visit the ' +\n",
              "            '<a target=\"_blank\" href=https://colab.research.google.com/notebooks/data_table.ipynb>data table notebook</a>'\n",
              "            + ' to learn more about interactive tables.';\n",
              "          element.innerHTML = '';\n",
              "          dataTable['output_type'] = 'display_data';\n",
              "          await google.colab.output.renderOutput(dataTable, element);\n",
              "          const docLink = document.createElement('div');\n",
              "          docLink.innerHTML = docLinkHtml;\n",
              "          element.appendChild(docLink);\n",
              "        }\n",
              "      </script>\n",
              "    </div>\n",
              "  </div>\n",
              "  "
            ],
            "text/plain": [
              "       date   quarter  department       day  team  targeted_productivity  \\\n",
              "0  1/1/2015  Quarter1      sweing  Thursday     8                   0.80   \n",
              "1  1/1/2015  Quarter1  finishing   Thursday     1                   0.75   \n",
              "2  1/1/2015  Quarter1      sweing  Thursday    11                   0.80   \n",
              "3  1/1/2015  Quarter1      sweing  Thursday    12                   0.80   \n",
              "4  1/1/2015  Quarter1      sweing  Thursday     6                   0.80   \n",
              "\n",
              "     smv     wip  over_time  incentive  idle_time  idle_men  \\\n",
              "0  26.16  1108.0       7080         98        0.0         0   \n",
              "1   3.94     NaN        960          0        0.0         0   \n",
              "2  11.41   968.0       3660         50        0.0         0   \n",
              "3  11.41   968.0       3660         50        0.0         0   \n",
              "4  25.90  1170.0       1920         50        0.0         0   \n",
              "\n",
              "   no_of_style_change  no_of_workers  actual_productivity  \n",
              "0                   0           59.0             0.940725  \n",
              "1                   0            8.0             0.886500  \n",
              "2                   0           30.5             0.800570  \n",
              "3                   0           30.5             0.800570  \n",
              "4                   0           56.0             0.800382  "
            ]
          },
          "metadata": {},
          "execution_count": 4
        }
      ],
      "source": [
        "# printing the first 5 rows of the datasets\n",
        "dset.head()"
      ]
    },
    {
      "cell_type": "code",
      "source": [
        "dset.tail()"
      ],
      "metadata": {
        "colab": {
          "base_uri": "https://localhost:8080/",
          "height": 270
        },
        "id": "Ea5XMpoJ0vaW",
        "outputId": "b540ce4b-9cff-428f-ea6c-be34116e3d7f"
      },
      "execution_count": 5,
      "outputs": [
        {
          "output_type": "execute_result",
          "data": {
            "text/html": [
              "\n",
              "  <div id=\"df-c8de023b-9326-40a9-83c1-cfd7f2058258\">\n",
              "    <div class=\"colab-df-container\">\n",
              "      <div>\n",
              "<style scoped>\n",
              "    .dataframe tbody tr th:only-of-type {\n",
              "        vertical-align: middle;\n",
              "    }\n",
              "\n",
              "    .dataframe tbody tr th {\n",
              "        vertical-align: top;\n",
              "    }\n",
              "\n",
              "    .dataframe thead th {\n",
              "        text-align: right;\n",
              "    }\n",
              "</style>\n",
              "<table border=\"1\" class=\"dataframe\">\n",
              "  <thead>\n",
              "    <tr style=\"text-align: right;\">\n",
              "      <th></th>\n",
              "      <th>date</th>\n",
              "      <th>quarter</th>\n",
              "      <th>department</th>\n",
              "      <th>day</th>\n",
              "      <th>team</th>\n",
              "      <th>targeted_productivity</th>\n",
              "      <th>smv</th>\n",
              "      <th>wip</th>\n",
              "      <th>over_time</th>\n",
              "      <th>incentive</th>\n",
              "      <th>idle_time</th>\n",
              "      <th>idle_men</th>\n",
              "      <th>no_of_style_change</th>\n",
              "      <th>no_of_workers</th>\n",
              "      <th>actual_productivity</th>\n",
              "    </tr>\n",
              "  </thead>\n",
              "  <tbody>\n",
              "    <tr>\n",
              "      <th>1192</th>\n",
              "      <td>3/11/2015</td>\n",
              "      <td>Quarter2</td>\n",
              "      <td>finishing</td>\n",
              "      <td>Wednesday</td>\n",
              "      <td>10</td>\n",
              "      <td>0.75</td>\n",
              "      <td>2.9</td>\n",
              "      <td>NaN</td>\n",
              "      <td>960</td>\n",
              "      <td>0</td>\n",
              "      <td>0.0</td>\n",
              "      <td>0</td>\n",
              "      <td>0</td>\n",
              "      <td>8.0</td>\n",
              "      <td>0.628333</td>\n",
              "    </tr>\n",
              "    <tr>\n",
              "      <th>1193</th>\n",
              "      <td>3/11/2015</td>\n",
              "      <td>Quarter2</td>\n",
              "      <td>finishing</td>\n",
              "      <td>Wednesday</td>\n",
              "      <td>8</td>\n",
              "      <td>0.70</td>\n",
              "      <td>3.9</td>\n",
              "      <td>NaN</td>\n",
              "      <td>960</td>\n",
              "      <td>0</td>\n",
              "      <td>0.0</td>\n",
              "      <td>0</td>\n",
              "      <td>0</td>\n",
              "      <td>8.0</td>\n",
              "      <td>0.625625</td>\n",
              "    </tr>\n",
              "    <tr>\n",
              "      <th>1194</th>\n",
              "      <td>3/11/2015</td>\n",
              "      <td>Quarter2</td>\n",
              "      <td>finishing</td>\n",
              "      <td>Wednesday</td>\n",
              "      <td>7</td>\n",
              "      <td>0.65</td>\n",
              "      <td>3.9</td>\n",
              "      <td>NaN</td>\n",
              "      <td>960</td>\n",
              "      <td>0</td>\n",
              "      <td>0.0</td>\n",
              "      <td>0</td>\n",
              "      <td>0</td>\n",
              "      <td>8.0</td>\n",
              "      <td>0.625625</td>\n",
              "    </tr>\n",
              "    <tr>\n",
              "      <th>1195</th>\n",
              "      <td>3/11/2015</td>\n",
              "      <td>Quarter2</td>\n",
              "      <td>finishing</td>\n",
              "      <td>Wednesday</td>\n",
              "      <td>9</td>\n",
              "      <td>0.75</td>\n",
              "      <td>2.9</td>\n",
              "      <td>NaN</td>\n",
              "      <td>1800</td>\n",
              "      <td>0</td>\n",
              "      <td>0.0</td>\n",
              "      <td>0</td>\n",
              "      <td>0</td>\n",
              "      <td>15.0</td>\n",
              "      <td>0.505889</td>\n",
              "    </tr>\n",
              "    <tr>\n",
              "      <th>1196</th>\n",
              "      <td>3/11/2015</td>\n",
              "      <td>Quarter2</td>\n",
              "      <td>finishing</td>\n",
              "      <td>Wednesday</td>\n",
              "      <td>6</td>\n",
              "      <td>0.70</td>\n",
              "      <td>2.9</td>\n",
              "      <td>NaN</td>\n",
              "      <td>720</td>\n",
              "      <td>0</td>\n",
              "      <td>0.0</td>\n",
              "      <td>0</td>\n",
              "      <td>0</td>\n",
              "      <td>6.0</td>\n",
              "      <td>0.394722</td>\n",
              "    </tr>\n",
              "  </tbody>\n",
              "</table>\n",
              "</div>\n",
              "      <button class=\"colab-df-convert\" onclick=\"convertToInteractive('df-c8de023b-9326-40a9-83c1-cfd7f2058258')\"\n",
              "              title=\"Convert this dataframe to an interactive table.\"\n",
              "              style=\"display:none;\">\n",
              "        \n",
              "  <svg xmlns=\"http://www.w3.org/2000/svg\" height=\"24px\"viewBox=\"0 0 24 24\"\n",
              "       width=\"24px\">\n",
              "    <path d=\"M0 0h24v24H0V0z\" fill=\"none\"/>\n",
              "    <path d=\"M18.56 5.44l.94 2.06.94-2.06 2.06-.94-2.06-.94-.94-2.06-.94 2.06-2.06.94zm-11 1L8.5 8.5l.94-2.06 2.06-.94-2.06-.94L8.5 2.5l-.94 2.06-2.06.94zm10 10l.94 2.06.94-2.06 2.06-.94-2.06-.94-.94-2.06-.94 2.06-2.06.94z\"/><path d=\"M17.41 7.96l-1.37-1.37c-.4-.4-.92-.59-1.43-.59-.52 0-1.04.2-1.43.59L10.3 9.45l-7.72 7.72c-.78.78-.78 2.05 0 2.83L4 21.41c.39.39.9.59 1.41.59.51 0 1.02-.2 1.41-.59l7.78-7.78 2.81-2.81c.8-.78.8-2.07 0-2.86zM5.41 20L4 18.59l7.72-7.72 1.47 1.35L5.41 20z\"/>\n",
              "  </svg>\n",
              "      </button>\n",
              "      \n",
              "  <style>\n",
              "    .colab-df-container {\n",
              "      display:flex;\n",
              "      flex-wrap:wrap;\n",
              "      gap: 12px;\n",
              "    }\n",
              "\n",
              "    .colab-df-convert {\n",
              "      background-color: #E8F0FE;\n",
              "      border: none;\n",
              "      border-radius: 50%;\n",
              "      cursor: pointer;\n",
              "      display: none;\n",
              "      fill: #1967D2;\n",
              "      height: 32px;\n",
              "      padding: 0 0 0 0;\n",
              "      width: 32px;\n",
              "    }\n",
              "\n",
              "    .colab-df-convert:hover {\n",
              "      background-color: #E2EBFA;\n",
              "      box-shadow: 0px 1px 2px rgba(60, 64, 67, 0.3), 0px 1px 3px 1px rgba(60, 64, 67, 0.15);\n",
              "      fill: #174EA6;\n",
              "    }\n",
              "\n",
              "    [theme=dark] .colab-df-convert {\n",
              "      background-color: #3B4455;\n",
              "      fill: #D2E3FC;\n",
              "    }\n",
              "\n",
              "    [theme=dark] .colab-df-convert:hover {\n",
              "      background-color: #434B5C;\n",
              "      box-shadow: 0px 1px 3px 1px rgba(0, 0, 0, 0.15);\n",
              "      filter: drop-shadow(0px 1px 2px rgba(0, 0, 0, 0.3));\n",
              "      fill: #FFFFFF;\n",
              "    }\n",
              "  </style>\n",
              "\n",
              "      <script>\n",
              "        const buttonEl =\n",
              "          document.querySelector('#df-c8de023b-9326-40a9-83c1-cfd7f2058258 button.colab-df-convert');\n",
              "        buttonEl.style.display =\n",
              "          google.colab.kernel.accessAllowed ? 'block' : 'none';\n",
              "\n",
              "        async function convertToInteractive(key) {\n",
              "          const element = document.querySelector('#df-c8de023b-9326-40a9-83c1-cfd7f2058258');\n",
              "          const dataTable =\n",
              "            await google.colab.kernel.invokeFunction('convertToInteractive',\n",
              "                                                     [key], {});\n",
              "          if (!dataTable) return;\n",
              "\n",
              "          const docLinkHtml = 'Like what you see? Visit the ' +\n",
              "            '<a target=\"_blank\" href=https://colab.research.google.com/notebooks/data_table.ipynb>data table notebook</a>'\n",
              "            + ' to learn more about interactive tables.';\n",
              "          element.innerHTML = '';\n",
              "          dataTable['output_type'] = 'display_data';\n",
              "          await google.colab.output.renderOutput(dataTable, element);\n",
              "          const docLink = document.createElement('div');\n",
              "          docLink.innerHTML = docLinkHtml;\n",
              "          element.appendChild(docLink);\n",
              "        }\n",
              "      </script>\n",
              "    </div>\n",
              "  </div>\n",
              "  "
            ],
            "text/plain": [
              "           date   quarter department        day  team  targeted_productivity  \\\n",
              "1192  3/11/2015  Quarter2  finishing  Wednesday    10                   0.75   \n",
              "1193  3/11/2015  Quarter2  finishing  Wednesday     8                   0.70   \n",
              "1194  3/11/2015  Quarter2  finishing  Wednesday     7                   0.65   \n",
              "1195  3/11/2015  Quarter2  finishing  Wednesday     9                   0.75   \n",
              "1196  3/11/2015  Quarter2  finishing  Wednesday     6                   0.70   \n",
              "\n",
              "      smv  wip  over_time  incentive  idle_time  idle_men  no_of_style_change  \\\n",
              "1192  2.9  NaN        960          0        0.0         0                   0   \n",
              "1193  3.9  NaN        960          0        0.0         0                   0   \n",
              "1194  3.9  NaN        960          0        0.0         0                   0   \n",
              "1195  2.9  NaN       1800          0        0.0         0                   0   \n",
              "1196  2.9  NaN        720          0        0.0         0                   0   \n",
              "\n",
              "      no_of_workers  actual_productivity  \n",
              "1192            8.0             0.628333  \n",
              "1193            8.0             0.625625  \n",
              "1194            8.0             0.625625  \n",
              "1195           15.0             0.505889  \n",
              "1196            6.0             0.394722  "
            ]
          },
          "metadata": {},
          "execution_count": 5
        }
      ]
    },
    {
      "cell_type": "code",
      "source": [
        "# Looking at the columns\n",
        "dset.columns"
      ],
      "metadata": {
        "colab": {
          "base_uri": "https://localhost:8080/"
        },
        "id": "FjPsPjf4YVth",
        "outputId": "048eb96b-2017-4fad-eac8-b6b4fa894a75"
      },
      "execution_count": 6,
      "outputs": [
        {
          "output_type": "execute_result",
          "data": {
            "text/plain": [
              "Index(['date', 'quarter', 'department', 'day', 'team', 'targeted_productivity',\n",
              "       'smv', 'wip', 'over_time', 'incentive', 'idle_time', 'idle_men',\n",
              "       'no_of_style_change', 'no_of_workers', 'actual_productivity'],\n",
              "      dtype='object')"
            ]
          },
          "metadata": {},
          "execution_count": 6
        }
      ]
    },
    {
      "cell_type": "code",
      "source": [
        "dset.info()"
      ],
      "metadata": {
        "colab": {
          "base_uri": "https://localhost:8080/"
        },
        "id": "ORTlAoxbotxf",
        "outputId": "c40a6c17-b6f8-4393-c9d6-49a4f350f756"
      },
      "execution_count": 7,
      "outputs": [
        {
          "output_type": "stream",
          "name": "stdout",
          "text": [
            "<class 'pandas.core.frame.DataFrame'>\n",
            "RangeIndex: 1197 entries, 0 to 1196\n",
            "Data columns (total 15 columns):\n",
            " #   Column                 Non-Null Count  Dtype  \n",
            "---  ------                 --------------  -----  \n",
            " 0   date                   1197 non-null   object \n",
            " 1   quarter                1197 non-null   object \n",
            " 2   department             1197 non-null   object \n",
            " 3   day                    1197 non-null   object \n",
            " 4   team                   1197 non-null   int64  \n",
            " 5   targeted_productivity  1197 non-null   float64\n",
            " 6   smv                    1197 non-null   float64\n",
            " 7   wip                    691 non-null    float64\n",
            " 8   over_time              1197 non-null   int64  \n",
            " 9   incentive              1197 non-null   int64  \n",
            " 10  idle_time              1197 non-null   float64\n",
            " 11  idle_men               1197 non-null   int64  \n",
            " 12  no_of_style_change     1197 non-null   int64  \n",
            " 13  no_of_workers          1197 non-null   float64\n",
            " 14  actual_productivity    1197 non-null   float64\n",
            "dtypes: float64(6), int64(5), object(4)\n",
            "memory usage: 140.4+ KB\n"
          ]
        }
      ]
    },
    {
      "cell_type": "code",
      "source": [
        "# Checking the number of missing values\n",
        "dset.isnull().sum()"
      ],
      "metadata": {
        "colab": {
          "base_uri": "https://localhost:8080/"
        },
        "id": "VAOygMP2qDX7",
        "outputId": "5a443d4f-ccd8-438f-e439-8bf403ebba2e"
      },
      "execution_count": 8,
      "outputs": [
        {
          "output_type": "execute_result",
          "data": {
            "text/plain": [
              "date                       0\n",
              "quarter                    0\n",
              "department                 0\n",
              "day                        0\n",
              "team                       0\n",
              "targeted_productivity      0\n",
              "smv                        0\n",
              "wip                      506\n",
              "over_time                  0\n",
              "incentive                  0\n",
              "idle_time                  0\n",
              "idle_men                   0\n",
              "no_of_style_change         0\n",
              "no_of_workers              0\n",
              "actual_productivity        0\n",
              "dtype: int64"
            ]
          },
          "metadata": {},
          "execution_count": 8
        }
      ]
    },
    {
      "cell_type": "code",
      "source": [
        "print(dset.department.value_counts())\n",
        "print(dset.quarter.value_counts())\n",
        "print(dset.day.value_counts())"
      ],
      "metadata": {
        "colab": {
          "base_uri": "https://localhost:8080/"
        },
        "id": "wlyVxhPtXaqT",
        "outputId": "01a9e60a-1b94-46b5-a287-00d58a11ec62"
      },
      "execution_count": 9,
      "outputs": [
        {
          "output_type": "stream",
          "name": "stdout",
          "text": [
            "sweing        691\n",
            "finishing     257\n",
            "finishing     249\n",
            "Name: department, dtype: int64\n",
            "Quarter1    360\n",
            "Quarter2    335\n",
            "Quarter4    248\n",
            "Quarter3    210\n",
            "Quarter5     44\n",
            "Name: quarter, dtype: int64\n",
            "Wednesday    208\n",
            "Sunday       203\n",
            "Tuesday      201\n",
            "Thursday     199\n",
            "Monday       199\n",
            "Saturday     187\n",
            "Name: day, dtype: int64\n"
          ]
        }
      ]
    },
    {
      "cell_type": "code",
      "source": [
        "dset['wip'].fillna(int(dset['wip'].mean()), inplace=True)"
      ],
      "metadata": {
        "id": "z61V5j1Sepae"
      },
      "execution_count": 10,
      "outputs": []
    },
    {
      "cell_type": "code",
      "source": [
        "dset=dset.replace(['finishing '], ['finishing'])"
      ],
      "metadata": {
        "id": "lSirGquOdC3N"
      },
      "execution_count": 11,
      "outputs": []
    },
    {
      "cell_type": "code",
      "source": [
        "print(dset.department.value_counts())"
      ],
      "metadata": {
        "colab": {
          "base_uri": "https://localhost:8080/"
        },
        "id": "AGIybiEsdG5i",
        "outputId": "b6b06168-f8c6-4907-c6da-93609325876a"
      },
      "execution_count": 12,
      "outputs": [
        {
          "output_type": "stream",
          "name": "stdout",
          "text": [
            "sweing       691\n",
            "finishing    506\n",
            "Name: department, dtype: int64\n"
          ]
        }
      ]
    },
    {
      "cell_type": "code",
      "execution_count": 13,
      "metadata": {
        "colab": {
          "base_uri": "https://localhost:8080/"
        },
        "id": "xBqFqWbuVDNj",
        "outputId": "22593dec-1684-4403-fbaf-41714c699857"
      },
      "outputs": [
        {
          "output_type": "execute_result",
          "data": {
            "text/plain": [
              "(1197, 15)"
            ]
          },
          "metadata": {},
          "execution_count": 13
        }
      ],
      "source": [
        "# number of rows and columns in this dataset\n",
        "dset.shape"
      ]
    },
    {
      "cell_type": "code",
      "execution_count": 14,
      "metadata": {
        "colab": {
          "base_uri": "https://localhost:8080/"
        },
        "id": "XmTiEmf8VOIZ",
        "outputId": "33d2546e-345c-4306-e02d-99f9a7b8a572"
      },
      "outputs": [
        {
          "output_type": "execute_result",
          "data": {
            "text/plain": [
              "<bound method NDFrame.describe of            date   quarter department        day  team  targeted_productivity  \\\n",
              "0      1/1/2015  Quarter1     sweing   Thursday     8                   0.80   \n",
              "1      1/1/2015  Quarter1  finishing   Thursday     1                   0.75   \n",
              "2      1/1/2015  Quarter1     sweing   Thursday    11                   0.80   \n",
              "3      1/1/2015  Quarter1     sweing   Thursday    12                   0.80   \n",
              "4      1/1/2015  Quarter1     sweing   Thursday     6                   0.80   \n",
              "...         ...       ...        ...        ...   ...                    ...   \n",
              "1192  3/11/2015  Quarter2  finishing  Wednesday    10                   0.75   \n",
              "1193  3/11/2015  Quarter2  finishing  Wednesday     8                   0.70   \n",
              "1194  3/11/2015  Quarter2  finishing  Wednesday     7                   0.65   \n",
              "1195  3/11/2015  Quarter2  finishing  Wednesday     9                   0.75   \n",
              "1196  3/11/2015  Quarter2  finishing  Wednesday     6                   0.70   \n",
              "\n",
              "        smv     wip  over_time  incentive  idle_time  idle_men  \\\n",
              "0     26.16  1108.0       7080         98        0.0         0   \n",
              "1      3.94  1190.0        960          0        0.0         0   \n",
              "2     11.41   968.0       3660         50        0.0         0   \n",
              "3     11.41   968.0       3660         50        0.0         0   \n",
              "4     25.90  1170.0       1920         50        0.0         0   \n",
              "...     ...     ...        ...        ...        ...       ...   \n",
              "1192   2.90  1190.0        960          0        0.0         0   \n",
              "1193   3.90  1190.0        960          0        0.0         0   \n",
              "1194   3.90  1190.0        960          0        0.0         0   \n",
              "1195   2.90  1190.0       1800          0        0.0         0   \n",
              "1196   2.90  1190.0        720          0        0.0         0   \n",
              "\n",
              "      no_of_style_change  no_of_workers  actual_productivity  \n",
              "0                      0           59.0             0.940725  \n",
              "1                      0            8.0             0.886500  \n",
              "2                      0           30.5             0.800570  \n",
              "3                      0           30.5             0.800570  \n",
              "4                      0           56.0             0.800382  \n",
              "...                  ...            ...                  ...  \n",
              "1192                   0            8.0             0.628333  \n",
              "1193                   0            8.0             0.625625  \n",
              "1194                   0            8.0             0.625625  \n",
              "1195                   0           15.0             0.505889  \n",
              "1196                   0            6.0             0.394722  \n",
              "\n",
              "[1197 rows x 15 columns]>"
            ]
          },
          "metadata": {},
          "execution_count": 14
        }
      ],
      "source": [
        "# getting the statical measures of the data\n",
        "dset.describe"
      ]
    },
    {
      "cell_type": "code",
      "execution_count": 15,
      "metadata": {
        "id": "OpYVL_5PWCJo"
      },
      "outputs": [],
      "source": [
        "# loading the dataset to a pandas dataframe\n",
        "p_dataframe = pd.DataFrame(dset)"
      ]
    },
    {
      "cell_type": "code",
      "execution_count": 16,
      "metadata": {
        "colab": {
          "base_uri": "https://localhost:8080/",
          "height": 270
        },
        "id": "jZjRtZ10Yb77",
        "outputId": "962493f7-41fe-4665-dd09-92f89c3df06e"
      },
      "outputs": [
        {
          "output_type": "execute_result",
          "data": {
            "text/html": [
              "\n",
              "  <div id=\"df-6eb7e3e7-4c17-48fd-b988-f6fb9bf5fe1c\">\n",
              "    <div class=\"colab-df-container\">\n",
              "      <div>\n",
              "<style scoped>\n",
              "    .dataframe tbody tr th:only-of-type {\n",
              "        vertical-align: middle;\n",
              "    }\n",
              "\n",
              "    .dataframe tbody tr th {\n",
              "        vertical-align: top;\n",
              "    }\n",
              "\n",
              "    .dataframe thead th {\n",
              "        text-align: right;\n",
              "    }\n",
              "</style>\n",
              "<table border=\"1\" class=\"dataframe\">\n",
              "  <thead>\n",
              "    <tr style=\"text-align: right;\">\n",
              "      <th></th>\n",
              "      <th>date</th>\n",
              "      <th>quarter</th>\n",
              "      <th>department</th>\n",
              "      <th>day</th>\n",
              "      <th>team</th>\n",
              "      <th>targeted_productivity</th>\n",
              "      <th>smv</th>\n",
              "      <th>wip</th>\n",
              "      <th>over_time</th>\n",
              "      <th>incentive</th>\n",
              "      <th>idle_time</th>\n",
              "      <th>idle_men</th>\n",
              "      <th>no_of_style_change</th>\n",
              "      <th>no_of_workers</th>\n",
              "      <th>actual_productivity</th>\n",
              "    </tr>\n",
              "  </thead>\n",
              "  <tbody>\n",
              "    <tr>\n",
              "      <th>0</th>\n",
              "      <td>1/1/2015</td>\n",
              "      <td>Quarter1</td>\n",
              "      <td>sweing</td>\n",
              "      <td>Thursday</td>\n",
              "      <td>8</td>\n",
              "      <td>0.80</td>\n",
              "      <td>26.16</td>\n",
              "      <td>1108.0</td>\n",
              "      <td>7080</td>\n",
              "      <td>98</td>\n",
              "      <td>0.0</td>\n",
              "      <td>0</td>\n",
              "      <td>0</td>\n",
              "      <td>59.0</td>\n",
              "      <td>0.940725</td>\n",
              "    </tr>\n",
              "    <tr>\n",
              "      <th>1</th>\n",
              "      <td>1/1/2015</td>\n",
              "      <td>Quarter1</td>\n",
              "      <td>finishing</td>\n",
              "      <td>Thursday</td>\n",
              "      <td>1</td>\n",
              "      <td>0.75</td>\n",
              "      <td>3.94</td>\n",
              "      <td>1190.0</td>\n",
              "      <td>960</td>\n",
              "      <td>0</td>\n",
              "      <td>0.0</td>\n",
              "      <td>0</td>\n",
              "      <td>0</td>\n",
              "      <td>8.0</td>\n",
              "      <td>0.886500</td>\n",
              "    </tr>\n",
              "    <tr>\n",
              "      <th>2</th>\n",
              "      <td>1/1/2015</td>\n",
              "      <td>Quarter1</td>\n",
              "      <td>sweing</td>\n",
              "      <td>Thursday</td>\n",
              "      <td>11</td>\n",
              "      <td>0.80</td>\n",
              "      <td>11.41</td>\n",
              "      <td>968.0</td>\n",
              "      <td>3660</td>\n",
              "      <td>50</td>\n",
              "      <td>0.0</td>\n",
              "      <td>0</td>\n",
              "      <td>0</td>\n",
              "      <td>30.5</td>\n",
              "      <td>0.800570</td>\n",
              "    </tr>\n",
              "    <tr>\n",
              "      <th>3</th>\n",
              "      <td>1/1/2015</td>\n",
              "      <td>Quarter1</td>\n",
              "      <td>sweing</td>\n",
              "      <td>Thursday</td>\n",
              "      <td>12</td>\n",
              "      <td>0.80</td>\n",
              "      <td>11.41</td>\n",
              "      <td>968.0</td>\n",
              "      <td>3660</td>\n",
              "      <td>50</td>\n",
              "      <td>0.0</td>\n",
              "      <td>0</td>\n",
              "      <td>0</td>\n",
              "      <td>30.5</td>\n",
              "      <td>0.800570</td>\n",
              "    </tr>\n",
              "    <tr>\n",
              "      <th>4</th>\n",
              "      <td>1/1/2015</td>\n",
              "      <td>Quarter1</td>\n",
              "      <td>sweing</td>\n",
              "      <td>Thursday</td>\n",
              "      <td>6</td>\n",
              "      <td>0.80</td>\n",
              "      <td>25.90</td>\n",
              "      <td>1170.0</td>\n",
              "      <td>1920</td>\n",
              "      <td>50</td>\n",
              "      <td>0.0</td>\n",
              "      <td>0</td>\n",
              "      <td>0</td>\n",
              "      <td>56.0</td>\n",
              "      <td>0.800382</td>\n",
              "    </tr>\n",
              "  </tbody>\n",
              "</table>\n",
              "</div>\n",
              "      <button class=\"colab-df-convert\" onclick=\"convertToInteractive('df-6eb7e3e7-4c17-48fd-b988-f6fb9bf5fe1c')\"\n",
              "              title=\"Convert this dataframe to an interactive table.\"\n",
              "              style=\"display:none;\">\n",
              "        \n",
              "  <svg xmlns=\"http://www.w3.org/2000/svg\" height=\"24px\"viewBox=\"0 0 24 24\"\n",
              "       width=\"24px\">\n",
              "    <path d=\"M0 0h24v24H0V0z\" fill=\"none\"/>\n",
              "    <path d=\"M18.56 5.44l.94 2.06.94-2.06 2.06-.94-2.06-.94-.94-2.06-.94 2.06-2.06.94zm-11 1L8.5 8.5l.94-2.06 2.06-.94-2.06-.94L8.5 2.5l-.94 2.06-2.06.94zm10 10l.94 2.06.94-2.06 2.06-.94-2.06-.94-.94-2.06-.94 2.06-2.06.94z\"/><path d=\"M17.41 7.96l-1.37-1.37c-.4-.4-.92-.59-1.43-.59-.52 0-1.04.2-1.43.59L10.3 9.45l-7.72 7.72c-.78.78-.78 2.05 0 2.83L4 21.41c.39.39.9.59 1.41.59.51 0 1.02-.2 1.41-.59l7.78-7.78 2.81-2.81c.8-.78.8-2.07 0-2.86zM5.41 20L4 18.59l7.72-7.72 1.47 1.35L5.41 20z\"/>\n",
              "  </svg>\n",
              "      </button>\n",
              "      \n",
              "  <style>\n",
              "    .colab-df-container {\n",
              "      display:flex;\n",
              "      flex-wrap:wrap;\n",
              "      gap: 12px;\n",
              "    }\n",
              "\n",
              "    .colab-df-convert {\n",
              "      background-color: #E8F0FE;\n",
              "      border: none;\n",
              "      border-radius: 50%;\n",
              "      cursor: pointer;\n",
              "      display: none;\n",
              "      fill: #1967D2;\n",
              "      height: 32px;\n",
              "      padding: 0 0 0 0;\n",
              "      width: 32px;\n",
              "    }\n",
              "\n",
              "    .colab-df-convert:hover {\n",
              "      background-color: #E2EBFA;\n",
              "      box-shadow: 0px 1px 2px rgba(60, 64, 67, 0.3), 0px 1px 3px 1px rgba(60, 64, 67, 0.15);\n",
              "      fill: #174EA6;\n",
              "    }\n",
              "\n",
              "    [theme=dark] .colab-df-convert {\n",
              "      background-color: #3B4455;\n",
              "      fill: #D2E3FC;\n",
              "    }\n",
              "\n",
              "    [theme=dark] .colab-df-convert:hover {\n",
              "      background-color: #434B5C;\n",
              "      box-shadow: 0px 1px 3px 1px rgba(0, 0, 0, 0.15);\n",
              "      filter: drop-shadow(0px 1px 2px rgba(0, 0, 0, 0.3));\n",
              "      fill: #FFFFFF;\n",
              "    }\n",
              "  </style>\n",
              "\n",
              "      <script>\n",
              "        const buttonEl =\n",
              "          document.querySelector('#df-6eb7e3e7-4c17-48fd-b988-f6fb9bf5fe1c button.colab-df-convert');\n",
              "        buttonEl.style.display =\n",
              "          google.colab.kernel.accessAllowed ? 'block' : 'none';\n",
              "\n",
              "        async function convertToInteractive(key) {\n",
              "          const element = document.querySelector('#df-6eb7e3e7-4c17-48fd-b988-f6fb9bf5fe1c');\n",
              "          const dataTable =\n",
              "            await google.colab.kernel.invokeFunction('convertToInteractive',\n",
              "                                                     [key], {});\n",
              "          if (!dataTable) return;\n",
              "\n",
              "          const docLinkHtml = 'Like what you see? Visit the ' +\n",
              "            '<a target=\"_blank\" href=https://colab.research.google.com/notebooks/data_table.ipynb>data table notebook</a>'\n",
              "            + ' to learn more about interactive tables.';\n",
              "          element.innerHTML = '';\n",
              "          dataTable['output_type'] = 'display_data';\n",
              "          await google.colab.output.renderOutput(dataTable, element);\n",
              "          const docLink = document.createElement('div');\n",
              "          docLink.innerHTML = docLinkHtml;\n",
              "          element.appendChild(docLink);\n",
              "        }\n",
              "      </script>\n",
              "    </div>\n",
              "  </div>\n",
              "  "
            ],
            "text/plain": [
              "       date   quarter department       day  team  targeted_productivity  \\\n",
              "0  1/1/2015  Quarter1     sweing  Thursday     8                   0.80   \n",
              "1  1/1/2015  Quarter1  finishing  Thursday     1                   0.75   \n",
              "2  1/1/2015  Quarter1     sweing  Thursday    11                   0.80   \n",
              "3  1/1/2015  Quarter1     sweing  Thursday    12                   0.80   \n",
              "4  1/1/2015  Quarter1     sweing  Thursday     6                   0.80   \n",
              "\n",
              "     smv     wip  over_time  incentive  idle_time  idle_men  \\\n",
              "0  26.16  1108.0       7080         98        0.0         0   \n",
              "1   3.94  1190.0        960          0        0.0         0   \n",
              "2  11.41   968.0       3660         50        0.0         0   \n",
              "3  11.41   968.0       3660         50        0.0         0   \n",
              "4  25.90  1170.0       1920         50        0.0         0   \n",
              "\n",
              "   no_of_style_change  no_of_workers  actual_productivity  \n",
              "0                   0           59.0             0.940725  \n",
              "1                   0            8.0             0.886500  \n",
              "2                   0           30.5             0.800570  \n",
              "3                   0           30.5             0.800570  \n",
              "4                   0           56.0             0.800382  "
            ]
          },
          "metadata": {},
          "execution_count": 16
        }
      ],
      "source": [
        "# Print first 5 rows of dataframe\n",
        "p_dataframe.head()"
      ]
    },
    {
      "cell_type": "code",
      "execution_count": 20,
      "metadata": {
        "colab": {
          "base_uri": "https://localhost:8080/"
        },
        "id": "_S0oDS7bYmli",
        "outputId": "2fb6ade9-cd03-41fc-b9e8-eb1eaf1b67c9"
      },
      "outputs": [
        {
          "output_type": "execute_result",
          "data": {
            "text/plain": [
              "date                     0\n",
              "quarter                  0\n",
              "department               0\n",
              "day                      0\n",
              "team                     0\n",
              "targeted_productivity    0\n",
              "smv                      0\n",
              "wip                      0\n",
              "over_time                0\n",
              "incentive                0\n",
              "idle_time                0\n",
              "idle_men                 0\n",
              "no_of_style_change       0\n",
              "no_of_workers            0\n",
              "actual_productivity      0\n",
              "dtype: int64"
            ]
          },
          "metadata": {},
          "execution_count": 20
        }
      ],
      "source": [
        "# check for missing values\n",
        "p_dataframe.isnull().sum()\n"
      ]
    },
    {
      "cell_type": "markdown",
      "source": [
        "Data Encoding part"
      ],
      "metadata": {
        "id": "moseuDEotnCZ"
      }
    },
    {
      "cell_type": "code",
      "source": [
        "print(dset.department.value_counts())\n",
        "print(dset.quarter.value_counts())\n",
        "print(dset.day.value_counts())"
      ],
      "metadata": {
        "colab": {
          "base_uri": "https://localhost:8080/"
        },
        "id": "COi7gPjc6YX9",
        "outputId": "40ee51df-7e6d-4871-dcf5-0068369f92b6"
      },
      "execution_count": 21,
      "outputs": [
        {
          "output_type": "stream",
          "name": "stdout",
          "text": [
            "sweing       691\n",
            "finishing    506\n",
            "Name: department, dtype: int64\n",
            "Quarter1    360\n",
            "Quarter2    335\n",
            "Quarter4    248\n",
            "Quarter3    210\n",
            "Quarter5     44\n",
            "Name: quarter, dtype: int64\n",
            "Wednesday    208\n",
            "Sunday       203\n",
            "Tuesday      201\n",
            "Thursday     199\n",
            "Monday       199\n",
            "Saturday     187\n",
            "Name: day, dtype: int64\n"
          ]
        }
      ]
    },
    {
      "cell_type": "code",
      "source": [
        "p_dataframe.replace({'department':{'sweing':0,'finishing':1}},inplace=True)\n",
        "p_dataframe.replace({'quarter':{'Quarter1':0,'Quarter2':1,'Quarter3':2,'Quarter4':3,'Quarter5':4}},inplace=True)\n",
        "p_dataframe.replace({'day':{'Sunday':0,'Monday':1,'Tuesday':2,'Wednesday':3,'Thursday':4,'Saturday':5}},inplace=True)"
      ],
      "metadata": {
        "id": "ZcBngCFstkRB"
      },
      "execution_count": 22,
      "outputs": []
    },
    {
      "cell_type": "code",
      "source": [
        "p_dataframe.head()"
      ],
      "metadata": {
        "colab": {
          "base_uri": "https://localhost:8080/",
          "height": 270
        },
        "id": "jDHpTFvO0nZb",
        "outputId": "17c411e3-e3fd-4397-db44-090a95c6f6b4"
      },
      "execution_count": 23,
      "outputs": [
        {
          "output_type": "execute_result",
          "data": {
            "text/html": [
              "\n",
              "  <div id=\"df-c2ab53f0-92ba-4681-8b54-4b83d41e2898\">\n",
              "    <div class=\"colab-df-container\">\n",
              "      <div>\n",
              "<style scoped>\n",
              "    .dataframe tbody tr th:only-of-type {\n",
              "        vertical-align: middle;\n",
              "    }\n",
              "\n",
              "    .dataframe tbody tr th {\n",
              "        vertical-align: top;\n",
              "    }\n",
              "\n",
              "    .dataframe thead th {\n",
              "        text-align: right;\n",
              "    }\n",
              "</style>\n",
              "<table border=\"1\" class=\"dataframe\">\n",
              "  <thead>\n",
              "    <tr style=\"text-align: right;\">\n",
              "      <th></th>\n",
              "      <th>date</th>\n",
              "      <th>quarter</th>\n",
              "      <th>department</th>\n",
              "      <th>day</th>\n",
              "      <th>team</th>\n",
              "      <th>targeted_productivity</th>\n",
              "      <th>smv</th>\n",
              "      <th>wip</th>\n",
              "      <th>over_time</th>\n",
              "      <th>incentive</th>\n",
              "      <th>idle_time</th>\n",
              "      <th>idle_men</th>\n",
              "      <th>no_of_style_change</th>\n",
              "      <th>no_of_workers</th>\n",
              "      <th>actual_productivity</th>\n",
              "    </tr>\n",
              "  </thead>\n",
              "  <tbody>\n",
              "    <tr>\n",
              "      <th>0</th>\n",
              "      <td>1/1/2015</td>\n",
              "      <td>0</td>\n",
              "      <td>0</td>\n",
              "      <td>4</td>\n",
              "      <td>8</td>\n",
              "      <td>0.80</td>\n",
              "      <td>26.16</td>\n",
              "      <td>1108.0</td>\n",
              "      <td>7080</td>\n",
              "      <td>98</td>\n",
              "      <td>0.0</td>\n",
              "      <td>0</td>\n",
              "      <td>0</td>\n",
              "      <td>59.0</td>\n",
              "      <td>0.940725</td>\n",
              "    </tr>\n",
              "    <tr>\n",
              "      <th>1</th>\n",
              "      <td>1/1/2015</td>\n",
              "      <td>0</td>\n",
              "      <td>1</td>\n",
              "      <td>4</td>\n",
              "      <td>1</td>\n",
              "      <td>0.75</td>\n",
              "      <td>3.94</td>\n",
              "      <td>1190.0</td>\n",
              "      <td>960</td>\n",
              "      <td>0</td>\n",
              "      <td>0.0</td>\n",
              "      <td>0</td>\n",
              "      <td>0</td>\n",
              "      <td>8.0</td>\n",
              "      <td>0.886500</td>\n",
              "    </tr>\n",
              "    <tr>\n",
              "      <th>2</th>\n",
              "      <td>1/1/2015</td>\n",
              "      <td>0</td>\n",
              "      <td>0</td>\n",
              "      <td>4</td>\n",
              "      <td>11</td>\n",
              "      <td>0.80</td>\n",
              "      <td>11.41</td>\n",
              "      <td>968.0</td>\n",
              "      <td>3660</td>\n",
              "      <td>50</td>\n",
              "      <td>0.0</td>\n",
              "      <td>0</td>\n",
              "      <td>0</td>\n",
              "      <td>30.5</td>\n",
              "      <td>0.800570</td>\n",
              "    </tr>\n",
              "    <tr>\n",
              "      <th>3</th>\n",
              "      <td>1/1/2015</td>\n",
              "      <td>0</td>\n",
              "      <td>0</td>\n",
              "      <td>4</td>\n",
              "      <td>12</td>\n",
              "      <td>0.80</td>\n",
              "      <td>11.41</td>\n",
              "      <td>968.0</td>\n",
              "      <td>3660</td>\n",
              "      <td>50</td>\n",
              "      <td>0.0</td>\n",
              "      <td>0</td>\n",
              "      <td>0</td>\n",
              "      <td>30.5</td>\n",
              "      <td>0.800570</td>\n",
              "    </tr>\n",
              "    <tr>\n",
              "      <th>4</th>\n",
              "      <td>1/1/2015</td>\n",
              "      <td>0</td>\n",
              "      <td>0</td>\n",
              "      <td>4</td>\n",
              "      <td>6</td>\n",
              "      <td>0.80</td>\n",
              "      <td>25.90</td>\n",
              "      <td>1170.0</td>\n",
              "      <td>1920</td>\n",
              "      <td>50</td>\n",
              "      <td>0.0</td>\n",
              "      <td>0</td>\n",
              "      <td>0</td>\n",
              "      <td>56.0</td>\n",
              "      <td>0.800382</td>\n",
              "    </tr>\n",
              "  </tbody>\n",
              "</table>\n",
              "</div>\n",
              "      <button class=\"colab-df-convert\" onclick=\"convertToInteractive('df-c2ab53f0-92ba-4681-8b54-4b83d41e2898')\"\n",
              "              title=\"Convert this dataframe to an interactive table.\"\n",
              "              style=\"display:none;\">\n",
              "        \n",
              "  <svg xmlns=\"http://www.w3.org/2000/svg\" height=\"24px\"viewBox=\"0 0 24 24\"\n",
              "       width=\"24px\">\n",
              "    <path d=\"M0 0h24v24H0V0z\" fill=\"none\"/>\n",
              "    <path d=\"M18.56 5.44l.94 2.06.94-2.06 2.06-.94-2.06-.94-.94-2.06-.94 2.06-2.06.94zm-11 1L8.5 8.5l.94-2.06 2.06-.94-2.06-.94L8.5 2.5l-.94 2.06-2.06.94zm10 10l.94 2.06.94-2.06 2.06-.94-2.06-.94-.94-2.06-.94 2.06-2.06.94z\"/><path d=\"M17.41 7.96l-1.37-1.37c-.4-.4-.92-.59-1.43-.59-.52 0-1.04.2-1.43.59L10.3 9.45l-7.72 7.72c-.78.78-.78 2.05 0 2.83L4 21.41c.39.39.9.59 1.41.59.51 0 1.02-.2 1.41-.59l7.78-7.78 2.81-2.81c.8-.78.8-2.07 0-2.86zM5.41 20L4 18.59l7.72-7.72 1.47 1.35L5.41 20z\"/>\n",
              "  </svg>\n",
              "      </button>\n",
              "      \n",
              "  <style>\n",
              "    .colab-df-container {\n",
              "      display:flex;\n",
              "      flex-wrap:wrap;\n",
              "      gap: 12px;\n",
              "    }\n",
              "\n",
              "    .colab-df-convert {\n",
              "      background-color: #E8F0FE;\n",
              "      border: none;\n",
              "      border-radius: 50%;\n",
              "      cursor: pointer;\n",
              "      display: none;\n",
              "      fill: #1967D2;\n",
              "      height: 32px;\n",
              "      padding: 0 0 0 0;\n",
              "      width: 32px;\n",
              "    }\n",
              "\n",
              "    .colab-df-convert:hover {\n",
              "      background-color: #E2EBFA;\n",
              "      box-shadow: 0px 1px 2px rgba(60, 64, 67, 0.3), 0px 1px 3px 1px rgba(60, 64, 67, 0.15);\n",
              "      fill: #174EA6;\n",
              "    }\n",
              "\n",
              "    [theme=dark] .colab-df-convert {\n",
              "      background-color: #3B4455;\n",
              "      fill: #D2E3FC;\n",
              "    }\n",
              "\n",
              "    [theme=dark] .colab-df-convert:hover {\n",
              "      background-color: #434B5C;\n",
              "      box-shadow: 0px 1px 3px 1px rgba(0, 0, 0, 0.15);\n",
              "      filter: drop-shadow(0px 1px 2px rgba(0, 0, 0, 0.3));\n",
              "      fill: #FFFFFF;\n",
              "    }\n",
              "  </style>\n",
              "\n",
              "      <script>\n",
              "        const buttonEl =\n",
              "          document.querySelector('#df-c2ab53f0-92ba-4681-8b54-4b83d41e2898 button.colab-df-convert');\n",
              "        buttonEl.style.display =\n",
              "          google.colab.kernel.accessAllowed ? 'block' : 'none';\n",
              "\n",
              "        async function convertToInteractive(key) {\n",
              "          const element = document.querySelector('#df-c2ab53f0-92ba-4681-8b54-4b83d41e2898');\n",
              "          const dataTable =\n",
              "            await google.colab.kernel.invokeFunction('convertToInteractive',\n",
              "                                                     [key], {});\n",
              "          if (!dataTable) return;\n",
              "\n",
              "          const docLinkHtml = 'Like what you see? Visit the ' +\n",
              "            '<a target=\"_blank\" href=https://colab.research.google.com/notebooks/data_table.ipynb>data table notebook</a>'\n",
              "            + ' to learn more about interactive tables.';\n",
              "          element.innerHTML = '';\n",
              "          dataTable['output_type'] = 'display_data';\n",
              "          await google.colab.output.renderOutput(dataTable, element);\n",
              "          const docLink = document.createElement('div');\n",
              "          docLink.innerHTML = docLinkHtml;\n",
              "          element.appendChild(docLink);\n",
              "        }\n",
              "      </script>\n",
              "    </div>\n",
              "  </div>\n",
              "  "
            ],
            "text/plain": [
              "       date  quarter  department  day  team  targeted_productivity    smv  \\\n",
              "0  1/1/2015        0           0    4     8                   0.80  26.16   \n",
              "1  1/1/2015        0           1    4     1                   0.75   3.94   \n",
              "2  1/1/2015        0           0    4    11                   0.80  11.41   \n",
              "3  1/1/2015        0           0    4    12                   0.80  11.41   \n",
              "4  1/1/2015        0           0    4     6                   0.80  25.90   \n",
              "\n",
              "      wip  over_time  incentive  idle_time  idle_men  no_of_style_change  \\\n",
              "0  1108.0       7080         98        0.0         0                   0   \n",
              "1  1190.0        960          0        0.0         0                   0   \n",
              "2   968.0       3660         50        0.0         0                   0   \n",
              "3   968.0       3660         50        0.0         0                   0   \n",
              "4  1170.0       1920         50        0.0         0                   0   \n",
              "\n",
              "   no_of_workers  actual_productivity  \n",
              "0           59.0             0.940725  \n",
              "1            8.0             0.886500  \n",
              "2           30.5             0.800570  \n",
              "3           30.5             0.800570  \n",
              "4           56.0             0.800382  "
            ]
          },
          "metadata": {},
          "execution_count": 23
        }
      ]
    },
    {
      "cell_type": "code",
      "source": [
        "p_dataframe.tail()"
      ],
      "metadata": {
        "colab": {
          "base_uri": "https://localhost:8080/",
          "height": 270
        },
        "id": "Ro0QZk879aa5",
        "outputId": "de60f31a-9859-4acf-9485-bacd9cf5b228"
      },
      "execution_count": 25,
      "outputs": [
        {
          "output_type": "execute_result",
          "data": {
            "text/html": [
              "\n",
              "  <div id=\"df-bd59f9a1-6683-4b71-bc39-2fc65279ebb0\">\n",
              "    <div class=\"colab-df-container\">\n",
              "      <div>\n",
              "<style scoped>\n",
              "    .dataframe tbody tr th:only-of-type {\n",
              "        vertical-align: middle;\n",
              "    }\n",
              "\n",
              "    .dataframe tbody tr th {\n",
              "        vertical-align: top;\n",
              "    }\n",
              "\n",
              "    .dataframe thead th {\n",
              "        text-align: right;\n",
              "    }\n",
              "</style>\n",
              "<table border=\"1\" class=\"dataframe\">\n",
              "  <thead>\n",
              "    <tr style=\"text-align: right;\">\n",
              "      <th></th>\n",
              "      <th>date</th>\n",
              "      <th>quarter</th>\n",
              "      <th>department</th>\n",
              "      <th>day</th>\n",
              "      <th>team</th>\n",
              "      <th>targeted_productivity</th>\n",
              "      <th>smv</th>\n",
              "      <th>wip</th>\n",
              "      <th>over_time</th>\n",
              "      <th>incentive</th>\n",
              "      <th>idle_time</th>\n",
              "      <th>idle_men</th>\n",
              "      <th>no_of_style_change</th>\n",
              "      <th>no_of_workers</th>\n",
              "      <th>actual_productivity</th>\n",
              "    </tr>\n",
              "  </thead>\n",
              "  <tbody>\n",
              "    <tr>\n",
              "      <th>1192</th>\n",
              "      <td>3/11/2015</td>\n",
              "      <td>1</td>\n",
              "      <td>1</td>\n",
              "      <td>3</td>\n",
              "      <td>10</td>\n",
              "      <td>0.75</td>\n",
              "      <td>2.9</td>\n",
              "      <td>1190.0</td>\n",
              "      <td>960</td>\n",
              "      <td>0</td>\n",
              "      <td>0.0</td>\n",
              "      <td>0</td>\n",
              "      <td>0</td>\n",
              "      <td>8.0</td>\n",
              "      <td>0.628333</td>\n",
              "    </tr>\n",
              "    <tr>\n",
              "      <th>1193</th>\n",
              "      <td>3/11/2015</td>\n",
              "      <td>1</td>\n",
              "      <td>1</td>\n",
              "      <td>3</td>\n",
              "      <td>8</td>\n",
              "      <td>0.70</td>\n",
              "      <td>3.9</td>\n",
              "      <td>1190.0</td>\n",
              "      <td>960</td>\n",
              "      <td>0</td>\n",
              "      <td>0.0</td>\n",
              "      <td>0</td>\n",
              "      <td>0</td>\n",
              "      <td>8.0</td>\n",
              "      <td>0.625625</td>\n",
              "    </tr>\n",
              "    <tr>\n",
              "      <th>1194</th>\n",
              "      <td>3/11/2015</td>\n",
              "      <td>1</td>\n",
              "      <td>1</td>\n",
              "      <td>3</td>\n",
              "      <td>7</td>\n",
              "      <td>0.65</td>\n",
              "      <td>3.9</td>\n",
              "      <td>1190.0</td>\n",
              "      <td>960</td>\n",
              "      <td>0</td>\n",
              "      <td>0.0</td>\n",
              "      <td>0</td>\n",
              "      <td>0</td>\n",
              "      <td>8.0</td>\n",
              "      <td>0.625625</td>\n",
              "    </tr>\n",
              "    <tr>\n",
              "      <th>1195</th>\n",
              "      <td>3/11/2015</td>\n",
              "      <td>1</td>\n",
              "      <td>1</td>\n",
              "      <td>3</td>\n",
              "      <td>9</td>\n",
              "      <td>0.75</td>\n",
              "      <td>2.9</td>\n",
              "      <td>1190.0</td>\n",
              "      <td>1800</td>\n",
              "      <td>0</td>\n",
              "      <td>0.0</td>\n",
              "      <td>0</td>\n",
              "      <td>0</td>\n",
              "      <td>15.0</td>\n",
              "      <td>0.505889</td>\n",
              "    </tr>\n",
              "    <tr>\n",
              "      <th>1196</th>\n",
              "      <td>3/11/2015</td>\n",
              "      <td>1</td>\n",
              "      <td>1</td>\n",
              "      <td>3</td>\n",
              "      <td>6</td>\n",
              "      <td>0.70</td>\n",
              "      <td>2.9</td>\n",
              "      <td>1190.0</td>\n",
              "      <td>720</td>\n",
              "      <td>0</td>\n",
              "      <td>0.0</td>\n",
              "      <td>0</td>\n",
              "      <td>0</td>\n",
              "      <td>6.0</td>\n",
              "      <td>0.394722</td>\n",
              "    </tr>\n",
              "  </tbody>\n",
              "</table>\n",
              "</div>\n",
              "      <button class=\"colab-df-convert\" onclick=\"convertToInteractive('df-bd59f9a1-6683-4b71-bc39-2fc65279ebb0')\"\n",
              "              title=\"Convert this dataframe to an interactive table.\"\n",
              "              style=\"display:none;\">\n",
              "        \n",
              "  <svg xmlns=\"http://www.w3.org/2000/svg\" height=\"24px\"viewBox=\"0 0 24 24\"\n",
              "       width=\"24px\">\n",
              "    <path d=\"M0 0h24v24H0V0z\" fill=\"none\"/>\n",
              "    <path d=\"M18.56 5.44l.94 2.06.94-2.06 2.06-.94-2.06-.94-.94-2.06-.94 2.06-2.06.94zm-11 1L8.5 8.5l.94-2.06 2.06-.94-2.06-.94L8.5 2.5l-.94 2.06-2.06.94zm10 10l.94 2.06.94-2.06 2.06-.94-2.06-.94-.94-2.06-.94 2.06-2.06.94z\"/><path d=\"M17.41 7.96l-1.37-1.37c-.4-.4-.92-.59-1.43-.59-.52 0-1.04.2-1.43.59L10.3 9.45l-7.72 7.72c-.78.78-.78 2.05 0 2.83L4 21.41c.39.39.9.59 1.41.59.51 0 1.02-.2 1.41-.59l7.78-7.78 2.81-2.81c.8-.78.8-2.07 0-2.86zM5.41 20L4 18.59l7.72-7.72 1.47 1.35L5.41 20z\"/>\n",
              "  </svg>\n",
              "      </button>\n",
              "      \n",
              "  <style>\n",
              "    .colab-df-container {\n",
              "      display:flex;\n",
              "      flex-wrap:wrap;\n",
              "      gap: 12px;\n",
              "    }\n",
              "\n",
              "    .colab-df-convert {\n",
              "      background-color: #E8F0FE;\n",
              "      border: none;\n",
              "      border-radius: 50%;\n",
              "      cursor: pointer;\n",
              "      display: none;\n",
              "      fill: #1967D2;\n",
              "      height: 32px;\n",
              "      padding: 0 0 0 0;\n",
              "      width: 32px;\n",
              "    }\n",
              "\n",
              "    .colab-df-convert:hover {\n",
              "      background-color: #E2EBFA;\n",
              "      box-shadow: 0px 1px 2px rgba(60, 64, 67, 0.3), 0px 1px 3px 1px rgba(60, 64, 67, 0.15);\n",
              "      fill: #174EA6;\n",
              "    }\n",
              "\n",
              "    [theme=dark] .colab-df-convert {\n",
              "      background-color: #3B4455;\n",
              "      fill: #D2E3FC;\n",
              "    }\n",
              "\n",
              "    [theme=dark] .colab-df-convert:hover {\n",
              "      background-color: #434B5C;\n",
              "      box-shadow: 0px 1px 3px 1px rgba(0, 0, 0, 0.15);\n",
              "      filter: drop-shadow(0px 1px 2px rgba(0, 0, 0, 0.3));\n",
              "      fill: #FFFFFF;\n",
              "    }\n",
              "  </style>\n",
              "\n",
              "      <script>\n",
              "        const buttonEl =\n",
              "          document.querySelector('#df-bd59f9a1-6683-4b71-bc39-2fc65279ebb0 button.colab-df-convert');\n",
              "        buttonEl.style.display =\n",
              "          google.colab.kernel.accessAllowed ? 'block' : 'none';\n",
              "\n",
              "        async function convertToInteractive(key) {\n",
              "          const element = document.querySelector('#df-bd59f9a1-6683-4b71-bc39-2fc65279ebb0');\n",
              "          const dataTable =\n",
              "            await google.colab.kernel.invokeFunction('convertToInteractive',\n",
              "                                                     [key], {});\n",
              "          if (!dataTable) return;\n",
              "\n",
              "          const docLinkHtml = 'Like what you see? Visit the ' +\n",
              "            '<a target=\"_blank\" href=https://colab.research.google.com/notebooks/data_table.ipynb>data table notebook</a>'\n",
              "            + ' to learn more about interactive tables.';\n",
              "          element.innerHTML = '';\n",
              "          dataTable['output_type'] = 'display_data';\n",
              "          await google.colab.output.renderOutput(dataTable, element);\n",
              "          const docLink = document.createElement('div');\n",
              "          docLink.innerHTML = docLinkHtml;\n",
              "          element.appendChild(docLink);\n",
              "        }\n",
              "      </script>\n",
              "    </div>\n",
              "  </div>\n",
              "  "
            ],
            "text/plain": [
              "           date  quarter  department  day  team  targeted_productivity  smv  \\\n",
              "1192  3/11/2015        1           1    3    10                   0.75  2.9   \n",
              "1193  3/11/2015        1           1    3     8                   0.70  3.9   \n",
              "1194  3/11/2015        1           1    3     7                   0.65  3.9   \n",
              "1195  3/11/2015        1           1    3     9                   0.75  2.9   \n",
              "1196  3/11/2015        1           1    3     6                   0.70  2.9   \n",
              "\n",
              "         wip  over_time  incentive  idle_time  idle_men  no_of_style_change  \\\n",
              "1192  1190.0        960          0        0.0         0                   0   \n",
              "1193  1190.0        960          0        0.0         0                   0   \n",
              "1194  1190.0        960          0        0.0         0                   0   \n",
              "1195  1190.0       1800          0        0.0         0                   0   \n",
              "1196  1190.0        720          0        0.0         0                   0   \n",
              "\n",
              "      no_of_workers  actual_productivity  \n",
              "1192            8.0             0.628333  \n",
              "1193            8.0             0.625625  \n",
              "1194            8.0             0.625625  \n",
              "1195           15.0             0.505889  \n",
              "1196            6.0             0.394722  "
            ]
          },
          "metadata": {},
          "execution_count": 25
        }
      ]
    },
    {
      "cell_type": "code",
      "source": [
        "# getting statistical measures of the data\n",
        "p_dataframe.describe()\n"
      ],
      "metadata": {
        "colab": {
          "base_uri": "https://localhost:8080/",
          "height": 364
        },
        "id": "Zw9OBTHH9sJY",
        "outputId": "f9c74034-c5ab-472e-ce3e-875c22f3509f"
      },
      "execution_count": 26,
      "outputs": [
        {
          "output_type": "execute_result",
          "data": {
            "text/html": [
              "\n",
              "  <div id=\"df-e409aeb8-40ad-4974-a63b-563bb7ace892\">\n",
              "    <div class=\"colab-df-container\">\n",
              "      <div>\n",
              "<style scoped>\n",
              "    .dataframe tbody tr th:only-of-type {\n",
              "        vertical-align: middle;\n",
              "    }\n",
              "\n",
              "    .dataframe tbody tr th {\n",
              "        vertical-align: top;\n",
              "    }\n",
              "\n",
              "    .dataframe thead th {\n",
              "        text-align: right;\n",
              "    }\n",
              "</style>\n",
              "<table border=\"1\" class=\"dataframe\">\n",
              "  <thead>\n",
              "    <tr style=\"text-align: right;\">\n",
              "      <th></th>\n",
              "      <th>quarter</th>\n",
              "      <th>department</th>\n",
              "      <th>day</th>\n",
              "      <th>team</th>\n",
              "      <th>targeted_productivity</th>\n",
              "      <th>smv</th>\n",
              "      <th>wip</th>\n",
              "      <th>over_time</th>\n",
              "      <th>incentive</th>\n",
              "      <th>idle_time</th>\n",
              "      <th>idle_men</th>\n",
              "      <th>no_of_style_change</th>\n",
              "      <th>no_of_workers</th>\n",
              "      <th>actual_productivity</th>\n",
              "    </tr>\n",
              "  </thead>\n",
              "  <tbody>\n",
              "    <tr>\n",
              "      <th>count</th>\n",
              "      <td>1197.000000</td>\n",
              "      <td>1197.000000</td>\n",
              "      <td>1197.000000</td>\n",
              "      <td>1197.000000</td>\n",
              "      <td>1197.000000</td>\n",
              "      <td>1197.000000</td>\n",
              "      <td>1197.000000</td>\n",
              "      <td>1197.000000</td>\n",
              "      <td>1197.000000</td>\n",
              "      <td>1197.000000</td>\n",
              "      <td>1197.000000</td>\n",
              "      <td>1197.000000</td>\n",
              "      <td>1197.000000</td>\n",
              "      <td>1197.000000</td>\n",
              "    </tr>\n",
              "    <tr>\n",
              "      <th>mean</th>\n",
              "      <td>1.399332</td>\n",
              "      <td>0.422723</td>\n",
              "      <td>2.469507</td>\n",
              "      <td>6.426901</td>\n",
              "      <td>0.729632</td>\n",
              "      <td>15.062172</td>\n",
              "      <td>1190.269006</td>\n",
              "      <td>4567.460317</td>\n",
              "      <td>38.210526</td>\n",
              "      <td>0.730159</td>\n",
              "      <td>0.369256</td>\n",
              "      <td>0.150376</td>\n",
              "      <td>34.609858</td>\n",
              "      <td>0.735091</td>\n",
              "    </tr>\n",
              "    <tr>\n",
              "      <th>std</th>\n",
              "      <td>1.215535</td>\n",
              "      <td>0.494199</td>\n",
              "      <td>1.694506</td>\n",
              "      <td>3.463963</td>\n",
              "      <td>0.097891</td>\n",
              "      <td>10.943219</td>\n",
              "      <td>1395.647280</td>\n",
              "      <td>3348.823563</td>\n",
              "      <td>160.182643</td>\n",
              "      <td>12.709757</td>\n",
              "      <td>3.268987</td>\n",
              "      <td>0.427848</td>\n",
              "      <td>22.197687</td>\n",
              "      <td>0.174488</td>\n",
              "    </tr>\n",
              "    <tr>\n",
              "      <th>min</th>\n",
              "      <td>0.000000</td>\n",
              "      <td>0.000000</td>\n",
              "      <td>0.000000</td>\n",
              "      <td>1.000000</td>\n",
              "      <td>0.070000</td>\n",
              "      <td>2.900000</td>\n",
              "      <td>7.000000</td>\n",
              "      <td>0.000000</td>\n",
              "      <td>0.000000</td>\n",
              "      <td>0.000000</td>\n",
              "      <td>0.000000</td>\n",
              "      <td>0.000000</td>\n",
              "      <td>2.000000</td>\n",
              "      <td>0.233705</td>\n",
              "    </tr>\n",
              "    <tr>\n",
              "      <th>25%</th>\n",
              "      <td>0.000000</td>\n",
              "      <td>0.000000</td>\n",
              "      <td>1.000000</td>\n",
              "      <td>3.000000</td>\n",
              "      <td>0.700000</td>\n",
              "      <td>3.940000</td>\n",
              "      <td>970.000000</td>\n",
              "      <td>1440.000000</td>\n",
              "      <td>0.000000</td>\n",
              "      <td>0.000000</td>\n",
              "      <td>0.000000</td>\n",
              "      <td>0.000000</td>\n",
              "      <td>9.000000</td>\n",
              "      <td>0.650307</td>\n",
              "    </tr>\n",
              "    <tr>\n",
              "      <th>50%</th>\n",
              "      <td>1.000000</td>\n",
              "      <td>0.000000</td>\n",
              "      <td>2.000000</td>\n",
              "      <td>6.000000</td>\n",
              "      <td>0.750000</td>\n",
              "      <td>15.260000</td>\n",
              "      <td>1190.000000</td>\n",
              "      <td>3960.000000</td>\n",
              "      <td>0.000000</td>\n",
              "      <td>0.000000</td>\n",
              "      <td>0.000000</td>\n",
              "      <td>0.000000</td>\n",
              "      <td>34.000000</td>\n",
              "      <td>0.773333</td>\n",
              "    </tr>\n",
              "    <tr>\n",
              "      <th>75%</th>\n",
              "      <td>2.000000</td>\n",
              "      <td>1.000000</td>\n",
              "      <td>4.000000</td>\n",
              "      <td>9.000000</td>\n",
              "      <td>0.800000</td>\n",
              "      <td>24.260000</td>\n",
              "      <td>1190.000000</td>\n",
              "      <td>6960.000000</td>\n",
              "      <td>50.000000</td>\n",
              "      <td>0.000000</td>\n",
              "      <td>0.000000</td>\n",
              "      <td>0.000000</td>\n",
              "      <td>57.000000</td>\n",
              "      <td>0.850253</td>\n",
              "    </tr>\n",
              "    <tr>\n",
              "      <th>max</th>\n",
              "      <td>4.000000</td>\n",
              "      <td>1.000000</td>\n",
              "      <td>5.000000</td>\n",
              "      <td>12.000000</td>\n",
              "      <td>0.800000</td>\n",
              "      <td>54.560000</td>\n",
              "      <td>23122.000000</td>\n",
              "      <td>25920.000000</td>\n",
              "      <td>3600.000000</td>\n",
              "      <td>300.000000</td>\n",
              "      <td>45.000000</td>\n",
              "      <td>2.000000</td>\n",
              "      <td>89.000000</td>\n",
              "      <td>1.120437</td>\n",
              "    </tr>\n",
              "  </tbody>\n",
              "</table>\n",
              "</div>\n",
              "      <button class=\"colab-df-convert\" onclick=\"convertToInteractive('df-e409aeb8-40ad-4974-a63b-563bb7ace892')\"\n",
              "              title=\"Convert this dataframe to an interactive table.\"\n",
              "              style=\"display:none;\">\n",
              "        \n",
              "  <svg xmlns=\"http://www.w3.org/2000/svg\" height=\"24px\"viewBox=\"0 0 24 24\"\n",
              "       width=\"24px\">\n",
              "    <path d=\"M0 0h24v24H0V0z\" fill=\"none\"/>\n",
              "    <path d=\"M18.56 5.44l.94 2.06.94-2.06 2.06-.94-2.06-.94-.94-2.06-.94 2.06-2.06.94zm-11 1L8.5 8.5l.94-2.06 2.06-.94-2.06-.94L8.5 2.5l-.94 2.06-2.06.94zm10 10l.94 2.06.94-2.06 2.06-.94-2.06-.94-.94-2.06-.94 2.06-2.06.94z\"/><path d=\"M17.41 7.96l-1.37-1.37c-.4-.4-.92-.59-1.43-.59-.52 0-1.04.2-1.43.59L10.3 9.45l-7.72 7.72c-.78.78-.78 2.05 0 2.83L4 21.41c.39.39.9.59 1.41.59.51 0 1.02-.2 1.41-.59l7.78-7.78 2.81-2.81c.8-.78.8-2.07 0-2.86zM5.41 20L4 18.59l7.72-7.72 1.47 1.35L5.41 20z\"/>\n",
              "  </svg>\n",
              "      </button>\n",
              "      \n",
              "  <style>\n",
              "    .colab-df-container {\n",
              "      display:flex;\n",
              "      flex-wrap:wrap;\n",
              "      gap: 12px;\n",
              "    }\n",
              "\n",
              "    .colab-df-convert {\n",
              "      background-color: #E8F0FE;\n",
              "      border: none;\n",
              "      border-radius: 50%;\n",
              "      cursor: pointer;\n",
              "      display: none;\n",
              "      fill: #1967D2;\n",
              "      height: 32px;\n",
              "      padding: 0 0 0 0;\n",
              "      width: 32px;\n",
              "    }\n",
              "\n",
              "    .colab-df-convert:hover {\n",
              "      background-color: #E2EBFA;\n",
              "      box-shadow: 0px 1px 2px rgba(60, 64, 67, 0.3), 0px 1px 3px 1px rgba(60, 64, 67, 0.15);\n",
              "      fill: #174EA6;\n",
              "    }\n",
              "\n",
              "    [theme=dark] .colab-df-convert {\n",
              "      background-color: #3B4455;\n",
              "      fill: #D2E3FC;\n",
              "    }\n",
              "\n",
              "    [theme=dark] .colab-df-convert:hover {\n",
              "      background-color: #434B5C;\n",
              "      box-shadow: 0px 1px 3px 1px rgba(0, 0, 0, 0.15);\n",
              "      filter: drop-shadow(0px 1px 2px rgba(0, 0, 0, 0.3));\n",
              "      fill: #FFFFFF;\n",
              "    }\n",
              "  </style>\n",
              "\n",
              "      <script>\n",
              "        const buttonEl =\n",
              "          document.querySelector('#df-e409aeb8-40ad-4974-a63b-563bb7ace892 button.colab-df-convert');\n",
              "        buttonEl.style.display =\n",
              "          google.colab.kernel.accessAllowed ? 'block' : 'none';\n",
              "\n",
              "        async function convertToInteractive(key) {\n",
              "          const element = document.querySelector('#df-e409aeb8-40ad-4974-a63b-563bb7ace892');\n",
              "          const dataTable =\n",
              "            await google.colab.kernel.invokeFunction('convertToInteractive',\n",
              "                                                     [key], {});\n",
              "          if (!dataTable) return;\n",
              "\n",
              "          const docLinkHtml = 'Like what you see? Visit the ' +\n",
              "            '<a target=\"_blank\" href=https://colab.research.google.com/notebooks/data_table.ipynb>data table notebook</a>'\n",
              "            + ' to learn more about interactive tables.';\n",
              "          element.innerHTML = '';\n",
              "          dataTable['output_type'] = 'display_data';\n",
              "          await google.colab.output.renderOutput(dataTable, element);\n",
              "          const docLink = document.createElement('div');\n",
              "          docLink.innerHTML = docLinkHtml;\n",
              "          element.appendChild(docLink);\n",
              "        }\n",
              "      </script>\n",
              "    </div>\n",
              "  </div>\n",
              "  "
            ],
            "text/plain": [
              "           quarter   department          day         team  \\\n",
              "count  1197.000000  1197.000000  1197.000000  1197.000000   \n",
              "mean      1.399332     0.422723     2.469507     6.426901   \n",
              "std       1.215535     0.494199     1.694506     3.463963   \n",
              "min       0.000000     0.000000     0.000000     1.000000   \n",
              "25%       0.000000     0.000000     1.000000     3.000000   \n",
              "50%       1.000000     0.000000     2.000000     6.000000   \n",
              "75%       2.000000     1.000000     4.000000     9.000000   \n",
              "max       4.000000     1.000000     5.000000    12.000000   \n",
              "\n",
              "       targeted_productivity          smv           wip     over_time  \\\n",
              "count            1197.000000  1197.000000   1197.000000   1197.000000   \n",
              "mean                0.729632    15.062172   1190.269006   4567.460317   \n",
              "std                 0.097891    10.943219   1395.647280   3348.823563   \n",
              "min                 0.070000     2.900000      7.000000      0.000000   \n",
              "25%                 0.700000     3.940000    970.000000   1440.000000   \n",
              "50%                 0.750000    15.260000   1190.000000   3960.000000   \n",
              "75%                 0.800000    24.260000   1190.000000   6960.000000   \n",
              "max                 0.800000    54.560000  23122.000000  25920.000000   \n",
              "\n",
              "         incentive    idle_time     idle_men  no_of_style_change  \\\n",
              "count  1197.000000  1197.000000  1197.000000         1197.000000   \n",
              "mean     38.210526     0.730159     0.369256            0.150376   \n",
              "std     160.182643    12.709757     3.268987            0.427848   \n",
              "min       0.000000     0.000000     0.000000            0.000000   \n",
              "25%       0.000000     0.000000     0.000000            0.000000   \n",
              "50%       0.000000     0.000000     0.000000            0.000000   \n",
              "75%      50.000000     0.000000     0.000000            0.000000   \n",
              "max    3600.000000   300.000000    45.000000            2.000000   \n",
              "\n",
              "       no_of_workers  actual_productivity  \n",
              "count    1197.000000          1197.000000  \n",
              "mean       34.609858             0.735091  \n",
              "std        22.197687             0.174488  \n",
              "min         2.000000             0.233705  \n",
              "25%         9.000000             0.650307  \n",
              "50%        34.000000             0.773333  \n",
              "75%        57.000000             0.850253  \n",
              "max        89.000000             1.120437  "
            ]
          },
          "metadata": {},
          "execution_count": 26
        }
      ]
    },
    {
      "cell_type": "markdown",
      "source": [
        "Data Analysis "
      ],
      "metadata": {
        "id": "Ac0f3bOqhTZo"
      }
    },
    {
      "cell_type": "markdown",
      "source": [
        "Bar charts"
      ],
      "metadata": {
        "id": "oF72DaBpB6Ze"
      }
    },
    {
      "cell_type": "code",
      "source": [
        "p_dataframe.day.value_counts().plot(kind='bar')\n"
      ],
      "metadata": {
        "colab": {
          "base_uri": "https://localhost:8080/",
          "height": 279
        },
        "id": "heFf2yseB5vW",
        "outputId": "26ad68ac-832c-4351-f2dc-014a301692ba"
      },
      "execution_count": 27,
      "outputs": [
        {
          "output_type": "execute_result",
          "data": {
            "text/plain": [
              "<matplotlib.axes._subplots.AxesSubplot at 0x7fa8d6ea02d0>"
            ]
          },
          "metadata": {},
          "execution_count": 27
        },
        {
          "output_type": "display_data",
          "data": {
            "image/png": "[encoded data removed]",
            "text/plain": [
              "<Figure size 432x288 with 1 Axes>"
            ]
          },
          "metadata": {
            "needs_background": "light"
          }
        }
      ]
    },
    {
      "cell_type": "code",
      "source": [
        "p_dataframe.quarter.value_counts().plot(kind='bar')"
      ],
      "metadata": {
        "colab": {
          "base_uri": "https://localhost:8080/",
          "height": 279
        },
        "id": "81vvmmkZB0ul",
        "outputId": "fc7f7ce3-eade-4e91-d405-a3905f442ec5"
      },
      "execution_count": 29,
      "outputs": [
        {
          "output_type": "execute_result",
          "data": {
            "text/plain": [
              "<matplotlib.axes._subplots.AxesSubplot at 0x7fa8d6dd2dd0>"
            ]
          },
          "metadata": {},
          "execution_count": 29
        },
        {
          "output_type": "display_data",
          "data": {
            "image/png": "[encoded data removed]",
            "text/plain": [
              "<Figure size 432x288 with 1 Axes>"
            ]
          },
          "metadata": {
            "needs_background": "light"
          }
        }
      ]
    },
    {
      "cell_type": "code",
      "source": [
        "p_dataframe.department.value_counts().plot(kind='bar')"
      ],
      "metadata": {
        "colab": {
          "base_uri": "https://localhost:8080/",
          "height": 279
        },
        "id": "LqeHFw2uCKhO",
        "outputId": "336b6bae-7490-454c-90d9-048ef11225f2"
      },
      "execution_count": 30,
      "outputs": [
        {
          "output_type": "execute_result",
          "data": {
            "text/plain": [
              "<matplotlib.axes._subplots.AxesSubplot at 0x7fa8d6d99690>"
            ]
          },
          "metadata": {},
          "execution_count": 30
        },
        {
          "output_type": "display_data",
          "data": {
            "image/png": "[encoded data removed]",
            "text/plain": [
              "<Figure size 432x288 with 1 Axes>"
            ]
          },
          "metadata": {
            "needs_background": "light"
          }
        }
      ]
    },
    {
      "cell_type": "code",
      "source": [
        "p_dataframe.team.value_counts().plot(kind='bar')"
      ],
      "metadata": {
        "colab": {
          "base_uri": "https://localhost:8080/",
          "height": 285
        },
        "id": "dLAGQbK-CQ-1",
        "outputId": "43d60a46-5723-4d7e-8989-b3f8434c4afd"
      },
      "execution_count": 31,
      "outputs": [
        {
          "output_type": "execute_result",
          "data": {
            "text/plain": [
              "<matplotlib.axes._subplots.AxesSubplot at 0x7fa8d68447d0>"
            ]
          },
          "metadata": {},
          "execution_count": 31
        },
        {
          "output_type": "display_data",
          "data": {
            "image/png": "[encoded data removed]",
            "text/plain": [
              "<Figure size 432x288 with 1 Axes>"
            ]
          },
          "metadata": {
            "needs_background": "light"
          }
        }
      ]
    },
    {
      "cell_type": "markdown",
      "source": [
        "Histogram Using"
      ],
      "metadata": {
        "id": "ng-BnK3NDBXD"
      }
    },
    {
      "cell_type": "code",
      "source": [
        "# Separate categorical and numerical data for simplicity in analysis\n",
        "#category = p_dataframe.select_dtypes(include='object')\n",
        "numerical = p_dataframe.select_dtypes(exclude='object')"
      ],
      "metadata": {
        "id": "cqUoQCaFDAlj"
      },
      "execution_count": 34,
      "outputs": []
    },
    {
      "cell_type": "code",
      "source": [
        "numerical.columns"
      ],
      "metadata": {
        "colab": {
          "base_uri": "https://localhost:8080/"
        },
        "id": "uskdak4KCu50",
        "outputId": "a7297b15-1bbd-4bed-c593-3f635bc9eb6a"
      },
      "execution_count": 35,
      "outputs": [
        {
          "output_type": "execute_result",
          "data": {
            "text/plain": [
              "Index(['quarter', 'department', 'day', 'team', 'targeted_productivity', 'smv',\n",
              "       'wip', 'over_time', 'incentive', 'idle_time', 'idle_men',\n",
              "       'no_of_style_change', 'no_of_workers', 'actual_productivity'],\n",
              "      dtype='object')"
            ]
          },
          "metadata": {},
          "execution_count": 35
        }
      ]
    },
    {
      "cell_type": "code",
      "source": [
        "for i in range(len(numerical.columns)):\n",
        "    print(numerical.columns[i])\n",
        "    numerical.iloc[:, i].plot(kind='hist')\n",
        "    plt.show()"
      ],
      "metadata": {
        "colab": {
          "base_uri": "https://localhost:8080/",
          "height": 1000
        },
        "id": "FpEzu_N1Dsny",
        "outputId": "7b64ace2-722f-4825-c1a2-93c2a5e03341"
      },
      "execution_count": 36,
      "outputs": [
        {
          "output_type": "stream",
          "name": "stdout",
          "text": [
            "quarter\n"
          ]
        },
        {
          "output_type": "display_data",
          "data": {
            "image/png": "[encoded data removed]",
            "text/plain": [
              "<Figure size 432x288 with 1 Axes>"
            ]
          },
          "metadata": {
            "needs_background": "light"
          }
        },
        {
          "output_type": "stream",
          "name": "stdout",
          "text": [
            "department\n"
          ]
        },
        {
          "output_type": "display_data",
          "data": {
            "image/png": "[encoded data removed]",
            "text/plain": [
              "<Figure size 432x288 with 1 Axes>"
            ]
          },
          "metadata": {
            "needs_background": "light"
          }
        },
        {
          "output_type": "stream",
          "name": "stdout",
          "text": [
            "day\n"
          ]
        },
        {
          "output_type": "display_data",
          "data": {
            "image/png": "[encoded data removed]",
            "text/plain": [
              "<Figure size 432x288 with 1 Axes>"
            ]
          },
          "metadata": {
            "needs_background": "light"
          }
        },
        {
          "output_type": "stream",
          "name": "stdout",
          "text": [
            "team\n"
          ]
        },
        {
          "output_type": "display_data",
          "data": {
            "image/png": "[encoded data removed]",
            "text/plain": [
              "<Figure size 432x288 with 1 Axes>"
            ]
          },
          "metadata": {
            "needs_background": "light"
          }
        },
        {
          "output_type": "stream",
          "name": "stdout",
          "text": [
            "targeted_productivity\n"
          ]
        },
        {
          "output_type": "display_data",
          "data": {
            "image/png": "[encoded data removed]",
            "text/plain": [
              "<Figure size 432x288 with 1 Axes>"
            ]
          },
          "metadata": {
            "needs_background": "light"
          }
        },
        {
          "output_type": "stream",
          "name": "stdout",
          "text": [
            "smv\n"
          ]
        },
        {
          "output_type": "display_data",
          "data": {
            "image/png": "[encoded data removed]",
            "text/plain": [
              "<Figure size 432x288 with 1 Axes>"
            ]
          },
          "metadata": {
            "needs_background": "light"
          }
        },
        {
          "output_type": "stream",
          "name": "stdout",
          "text": [
            "wip\n"
          ]
        },
        {
          "output_type": "display_data",
          "data": {
            "image/png": "[encoded data removed]",
            "text/plain": [
              "<Figure size 432x288 with 1 Axes>"
            ]
          },
          "metadata": {
            "needs_background": "light"
          }
        },
        {
          "output_type": "stream",
          "name": "stdout",
          "text": [
            "over_time\n"
          ]
        },
        {
          "output_type": "display_data",
          "data": {
            "image/png": "[encoded data removed]",
            "text/plain": [
              "<Figure size 432x288 with 1 Axes>"
            ]
          },
          "metadata": {
            "needs_background": "light"
          }
        },
        {
          "output_type": "stream",
          "name": "stdout",
          "text": [
            "incentive\n"
          ]
        },
        {
          "output_type": "display_data",
          "data": {
            "image/png": "[encoded data removed]",
            "text/plain": [
              "<Figure size 432x288 with 1 Axes>"
            ]
          },
          "metadata": {
            "needs_background": "light"
          }
        },
        {
          "output_type": "stream",
          "name": "stdout",
          "text": [
            "idle_time\n"
          ]
        },
        {
          "output_type": "display_data",
          "data": {
            "image/png": "[encoded data removed]",
            "text/plain": [
              "<Figure size 432x288 with 1 Axes>"
            ]
          },
          "metadata": {
            "needs_background": "light"
          }
        },
        {
          "output_type": "stream",
          "name": "stdout",
          "text": [
            "idle_men\n"
          ]
        },
        {
          "output_type": "display_data",
          "data": {
            "image/png": "[encoded data removed]",
            "text/plain": [
              "<Figure size 432x288 with 1 Axes>"
            ]
          },
          "metadata": {
            "needs_background": "light"
          }
        },
        {
          "output_type": "stream",
          "name": "stdout",
          "text": [
            "no_of_style_change\n"
          ]
        },
        {
          "output_type": "display_data",
          "data": {
            "image/png": "[encoded data removed]",
            "text/plain": [
              "<Figure size 432x288 with 1 Axes>"
            ]
          },
          "metadata": {
            "needs_background": "light"
          }
        },
        {
          "output_type": "stream",
          "name": "stdout",
          "text": [
            "no_of_workers\n"
          ]
        },
        {
          "output_type": "display_data",
          "data": {
            "image/png": "[encoded data removed]",
            "text/plain": [
              "<Figure size 432x288 with 1 Axes>"
            ]
          },
          "metadata": {
            "needs_background": "light"
          }
        },
        {
          "output_type": "stream",
          "name": "stdout",
          "text": [
            "actual_productivity\n"
          ]
        },
        {
          "output_type": "display_data",
          "data": {
            "image/png": "[encoded data removed]",
            "text/plain": [
              "<Figure size 432x288 with 1 Axes>"
            ]
          },
          "metadata": {
            "needs_background": "light"
          }
        }
      ]
    },
    {
      "cell_type": "code",
      "source": [
        "numerical.boxplot(column = [ 'targeted_productivity', 'actual_productivity'],figsize=(8,7))"
      ],
      "metadata": {
        "colab": {
          "base_uri": "https://localhost:8080/",
          "height": 446
        },
        "id": "PSuq7JkcDz9B",
        "outputId": "46149173-ec2e-487a-8af7-2accbc181d21"
      },
      "execution_count": 37,
      "outputs": [
        {
          "output_type": "execute_result",
          "data": {
            "text/plain": [
              "<matplotlib.axes._subplots.AxesSubplot at 0x7fa8d5f3fd10>"
            ]
          },
          "metadata": {},
          "execution_count": 37
        },
        {
          "output_type": "display_data",
          "data": {
            "image/png": "[encoded data removed]",
            "text/plain": [
              "<Figure size 576x504 with 1 Axes>"
            ]
          },
          "metadata": {
            "needs_background": "light"
          }
        }
      ]
    },
    {
      "cell_type": "code",
      "source": [
        "fig, ax = plt.subplots(ncols=2,figsize=(12,5))\n",
        "p_dataframe.groupby(['department']).agg({'wip':['sum']}).plot(ax=ax[0], kind = 'bar')\n",
        "ax[0].set_title('total work in progress for each department')\n",
        "p_dataframe.groupby(['department']).agg({'wip':['mean']}).plot(ax=ax[1], kind = 'bar')\n",
        "ax[1].set_title('average work in progress for each department')"
      ],
      "metadata": {
        "colab": {
          "base_uri": "https://localhost:8080/",
          "height": 363
        },
        "id": "06cbTQbwETOJ",
        "outputId": "a02875a4-9d86-4431-d7ec-681d48188333"
      },
      "execution_count": 38,
      "outputs": [
        {
          "output_type": "execute_result",
          "data": {
            "text/plain": [
              "Text(0.5, 1.0, 'average work in progress for each department')"
            ]
          },
          "metadata": {},
          "execution_count": 38
        },
        {
          "output_type": "display_data",
          "data": {
            "image/png": "[encoded data removed]",
            "text/plain": [
              "<Figure size 864x360 with 2 Axes>"
            ]
          },
          "metadata": {
            "needs_background": "light"
          }
        }
      ]
    },
    {
      "cell_type": "code",
      "source": [
        "fig, ax = plt.subplots(ncols=2,figsize=(12,7))\n",
        "p_dataframe.groupby(['department']).agg({'targeted_productivity':['mean']}).plot(ax=ax[0], kind = 'bar')\n",
        "ax[0].set_title('Average Target Productivity for each department')\n",
        "p_dataframe.groupby(['department']).agg({'actual_productivity':['mean']}).plot(ax=ax[1], kind = 'bar')\n",
        "ax[1].set_title('Average Actual Productivity for each department')"
      ],
      "metadata": {
        "colab": {
          "base_uri": "https://localhost:8080/",
          "height": 472
        },
        "id": "GbcnGhp8EiDZ",
        "outputId": "011453d0-88e4-4a1d-8175-6a63eedd62cc"
      },
      "execution_count": 39,
      "outputs": [
        {
          "output_type": "execute_result",
          "data": {
            "text/plain": [
              "Text(0.5, 1.0, 'Average Actual Productivity for each department')"
            ]
          },
          "metadata": {},
          "execution_count": 39
        },
        {
          "output_type": "display_data",
          "data": {
            "image/png": "[encoded data removed]",
            "text/plain": [
              "<Figure size 864x504 with 2 Axes>"
            ]
          },
          "metadata": {
            "needs_background": "light"
          }
        }
      ]
    },
    {
      "cell_type": "code",
      "source": [
        "fig, ax = plt.subplots(1,1,figsize = (10,5))\n",
        "sns.distplot(p_dataframe['targeted_productivity'], bins = 10, ax = ax)\n",
        "plt.show()"
      ],
      "metadata": {
        "colab": {
          "base_uri": "https://localhost:8080/",
          "height": 390
        },
        "id": "4RCeOgsaE2Rg",
        "outputId": "fa9e7b57-b7ef-4197-ab60-f12d9a160401"
      },
      "execution_count": 40,
      "outputs": [
        {
          "output_type": "stream",
          "name": "stderr",
          "text": [
            "/usr/local/lib/python3.7/dist-packages/seaborn/distributions.py:2619: FutureWarning: `distplot` is a deprecated function and will be removed in a future version. Please adapt your code to use either `displot` (a figure-level function with similar flexibility) or `histplot` (an axes-level function for histograms).\n",
            "  warnings.warn(msg, FutureWarning)\n"
          ]
        },
        {
          "output_type": "display_data",
          "data": {
            "image/png": "[encoded data removed]",
            "text/plain": [
              "<Figure size 720x360 with 1 Axes>"
            ]
          },
          "metadata": {
            "needs_background": "light"
          }
        }
      ]
    },
    {
      "cell_type": "code",
      "source": [
        "fig, ax = plt.subplots(1,1,figsize = (10,5))\n",
        "sns.distplot(p_dataframe['actual_productivity'], bins = 10, ax = ax)\n",
        "plt.show()"
      ],
      "metadata": {
        "colab": {
          "base_uri": "https://localhost:8080/",
          "height": 390
        },
        "id": "Xr5Hh-ZIFBLH",
        "outputId": "6fc36e3b-74c8-4840-d5b9-80c5ac6788b6"
      },
      "execution_count": 41,
      "outputs": [
        {
          "output_type": "stream",
          "name": "stderr",
          "text": [
            "/usr/local/lib/python3.7/dist-packages/seaborn/distributions.py:2619: FutureWarning: `distplot` is a deprecated function and will be removed in a future version. Please adapt your code to use either `displot` (a figure-level function with similar flexibility) or `histplot` (an axes-level function for histograms).\n",
            "  warnings.warn(msg, FutureWarning)\n"
          ]
        },
        {
          "output_type": "display_data",
          "data": {
            "image/png": "[encoded data removed]",
            "text/plain": [
              "<Figure size 720x360 with 1 Axes>"
            ]
          },
          "metadata": {
            "needs_background": "light"
          }
        }
      ]
    },
    {
      "cell_type": "code",
      "source": [
        "# import matplotlib.pyplot as plt\n",
        "fig_dims = (12,7)\n",
        "fig, ax = plt.subplots(figsize=fig_dims)\n",
        "sns.histplot(data=p_dataframe[['targeted_productivity', 'actual_productivity']],ax=ax)\n",
        "plt.show()"
      ],
      "metadata": {
        "colab": {
          "base_uri": "https://localhost:8080/",
          "height": 428
        },
        "id": "GR4Ou5L4E9C3",
        "outputId": "83199c14-578c-4af1-e1a7-3ffb19110954"
      },
      "execution_count": 44,
      "outputs": [
        {
          "output_type": "display_data",
          "data": {
            "image/png": "[encoded data removed]",
            "text/plain": [
              "<Figure size 864x504 with 1 Axes>"
            ]
          },
          "metadata": {
            "needs_background": "light"
          }
        }
      ]
    },
    {
      "cell_type": "code",
      "source": [
        "analysis = p_dataframe.groupby('team').agg(actual = ('actual_productivity','mean'), target = ('targeted_productivity', 'mean'))\n",
        "analysis.plot(kind='line', title=\"Target vs Actual Productivity\").legend(bbox_to_anchor= (1.02, 1));"
      ],
      "metadata": {
        "colab": {
          "base_uri": "https://localhost:8080/",
          "height": 295
        },
        "id": "PPTWnWQyFkPu",
        "outputId": "e4a92cb4-b093-41a2-eac7-9865043b95de"
      },
      "execution_count": 46,
      "outputs": [
        {
          "output_type": "display_data",
          "data": {
            "image/png": "[encoded data removed]",
            "text/plain": [
              "<Figure size 432x288 with 1 Axes>"
            ]
          },
          "metadata": {
            "needs_background": "light"
          }
        }
      ]
    },
    {
      "cell_type": "markdown",
      "source": [
        "Correlation checking"
      ],
      "metadata": {
        "id": "fqyqqqu2hWiJ"
      }
    },
    {
      "cell_type": "code",
      "source": [
        "correlation = p_dataframe.corr()"
      ],
      "metadata": {
        "id": "FwlKP-kThWDv"
      },
      "execution_count": 48,
      "outputs": []
    },
    {
      "cell_type": "code",
      "source": [
        "# create a heatmap \n",
        "plt.figure(figsize = (8,8))\n",
        "sns.heatmap(correlation, cbar=True, square=True, fmt = '.1f', annot=True, annot_kws={'size':8}, cmap = 'Blues')"
      ],
      "metadata": {
        "colab": {
          "base_uri": "https://localhost:8080/",
          "height": 562
        },
        "id": "4rxME6BMhiGH",
        "outputId": "e9bfa55b-8136-40bd-8fc8-4e62d4137fb0"
      },
      "execution_count": 53,
      "outputs": [
        {
          "output_type": "execute_result",
          "data": {
            "text/plain": [
              "<matplotlib.axes._subplots.AxesSubplot at 0x7fa8d62d7890>"
            ]
          },
          "metadata": {},
          "execution_count": 53
        },
        {
          "output_type": "display_data",
          "data": {
            "image/png": "[encoded data removed]",
            "text/plain": [
              "<Figure size 576x576 with 2 Axes>"
            ]
          },
          "metadata": {
            "needs_background": "light"
          }
        }
      ]
    },
    {
      "cell_type": "markdown",
      "source": [
        "Data Scalling"
      ],
      "metadata": {
        "id": "Sj5lsinNHGas"
      }
    },
    {
      "cell_type": "code",
      "source": [
        "from sklearn.preprocessing import MinMaxScaler\n",
        "cols_to_scale  = ['smv', 'wip', 'over_time', 'incentive', 'no_of_workers', 'idle_time', ]\n",
        "min_max_scaler = MinMaxScaler()\n",
        "p_dataframe[cols_to_scale] = min_max_scaler.fit_transform(p_dataframe[cols_to_scale])\n"
      ],
      "metadata": {
        "id": "oe58B7vQHGIw"
      },
      "execution_count": 54,
      "outputs": []
    },
    {
      "cell_type": "code",
      "source": [
        "p_dataframe.head()"
      ],
      "metadata": {
        "colab": {
          "base_uri": "https://localhost:8080/",
          "height": 270
        },
        "id": "R_VnXiJSHGHc",
        "outputId": "d7ad7307-c426-4ba4-f075-e61ef1b42e4f"
      },
      "execution_count": 55,
      "outputs": [
        {
          "output_type": "execute_result",
          "data": {
            "text/html": [
              "\n",
              "  <div id=\"df-de0a4955-abb5-4415-a547-1384f8882ba7\">\n",
              "    <div class=\"colab-df-container\">\n",
              "      <div>\n",
              "<style scoped>\n",
              "    .dataframe tbody tr th:only-of-type {\n",
              "        vertical-align: middle;\n",
              "    }\n",
              "\n",
              "    .dataframe tbody tr th {\n",
              "        vertical-align: top;\n",
              "    }\n",
              "\n",
              "    .dataframe thead th {\n",
              "        text-align: right;\n",
              "    }\n",
              "</style>\n",
              "<table border=\"1\" class=\"dataframe\">\n",
              "  <thead>\n",
              "    <tr style=\"text-align: right;\">\n",
              "      <th></th>\n",
              "      <th>date</th>\n",
              "      <th>quarter</th>\n",
              "      <th>department</th>\n",
              "      <th>day</th>\n",
              "      <th>team</th>\n",
              "      <th>targeted_productivity</th>\n",
              "      <th>smv</th>\n",
              "      <th>wip</th>\n",
              "      <th>over_time</th>\n",
              "      <th>incentive</th>\n",
              "      <th>idle_time</th>\n",
              "      <th>idle_men</th>\n",
              "      <th>no_of_style_change</th>\n",
              "      <th>no_of_workers</th>\n",
              "      <th>actual_productivity</th>\n",
              "    </tr>\n",
              "  </thead>\n",
              "  <tbody>\n",
              "    <tr>\n",
              "      <th>0</th>\n",
              "      <td>1/1/2015</td>\n",
              "      <td>0</td>\n",
              "      <td>0</td>\n",
              "      <td>4</td>\n",
              "      <td>8</td>\n",
              "      <td>0.80</td>\n",
              "      <td>0.450252</td>\n",
              "      <td>0.047631</td>\n",
              "      <td>0.273148</td>\n",
              "      <td>0.027222</td>\n",
              "      <td>0.0</td>\n",
              "      <td>0</td>\n",
              "      <td>0</td>\n",
              "      <td>0.655172</td>\n",
              "      <td>0.940725</td>\n",
              "    </tr>\n",
              "    <tr>\n",
              "      <th>1</th>\n",
              "      <td>1/1/2015</td>\n",
              "      <td>0</td>\n",
              "      <td>1</td>\n",
              "      <td>4</td>\n",
              "      <td>1</td>\n",
              "      <td>0.75</td>\n",
              "      <td>0.020132</td>\n",
              "      <td>0.051179</td>\n",
              "      <td>0.037037</td>\n",
              "      <td>0.000000</td>\n",
              "      <td>0.0</td>\n",
              "      <td>0</td>\n",
              "      <td>0</td>\n",
              "      <td>0.068966</td>\n",
              "      <td>0.886500</td>\n",
              "    </tr>\n",
              "    <tr>\n",
              "      <th>2</th>\n",
              "      <td>1/1/2015</td>\n",
              "      <td>0</td>\n",
              "      <td>0</td>\n",
              "      <td>4</td>\n",
              "      <td>11</td>\n",
              "      <td>0.80</td>\n",
              "      <td>0.164731</td>\n",
              "      <td>0.041575</td>\n",
              "      <td>0.141204</td>\n",
              "      <td>0.013889</td>\n",
              "      <td>0.0</td>\n",
              "      <td>0</td>\n",
              "      <td>0</td>\n",
              "      <td>0.327586</td>\n",
              "      <td>0.800570</td>\n",
              "    </tr>\n",
              "    <tr>\n",
              "      <th>3</th>\n",
              "      <td>1/1/2015</td>\n",
              "      <td>0</td>\n",
              "      <td>0</td>\n",
              "      <td>4</td>\n",
              "      <td>12</td>\n",
              "      <td>0.80</td>\n",
              "      <td>0.164731</td>\n",
              "      <td>0.041575</td>\n",
              "      <td>0.141204</td>\n",
              "      <td>0.013889</td>\n",
              "      <td>0.0</td>\n",
              "      <td>0</td>\n",
              "      <td>0</td>\n",
              "      <td>0.327586</td>\n",
              "      <td>0.800570</td>\n",
              "    </tr>\n",
              "    <tr>\n",
              "      <th>4</th>\n",
              "      <td>1/1/2015</td>\n",
              "      <td>0</td>\n",
              "      <td>0</td>\n",
              "      <td>4</td>\n",
              "      <td>6</td>\n",
              "      <td>0.80</td>\n",
              "      <td>0.445219</td>\n",
              "      <td>0.050314</td>\n",
              "      <td>0.074074</td>\n",
              "      <td>0.013889</td>\n",
              "      <td>0.0</td>\n",
              "      <td>0</td>\n",
              "      <td>0</td>\n",
              "      <td>0.620690</td>\n",
              "      <td>0.800382</td>\n",
              "    </tr>\n",
              "  </tbody>\n",
              "</table>\n",
              "</div>\n",
              "      <button class=\"colab-df-convert\" onclick=\"convertToInteractive('df-de0a4955-abb5-4415-a547-1384f8882ba7')\"\n",
              "              title=\"Convert this dataframe to an interactive table.\"\n",
              "              style=\"display:none;\">\n",
              "        \n",
              "  <svg xmlns=\"http://www.w3.org/2000/svg\" height=\"24px\"viewBox=\"0 0 24 24\"\n",
              "       width=\"24px\">\n",
              "    <path d=\"M0 0h24v24H0V0z\" fill=\"none\"/>\n",
              "    <path d=\"M18.56 5.44l.94 2.06.94-2.06 2.06-.94-2.06-.94-.94-2.06-.94 2.06-2.06.94zm-11 1L8.5 8.5l.94-2.06 2.06-.94-2.06-.94L8.5 2.5l-.94 2.06-2.06.94zm10 10l.94 2.06.94-2.06 2.06-.94-2.06-.94-.94-2.06-.94 2.06-2.06.94z\"/><path d=\"M17.41 7.96l-1.37-1.37c-.4-.4-.92-.59-1.43-.59-.52 0-1.04.2-1.43.59L10.3 9.45l-7.72 7.72c-.78.78-.78 2.05 0 2.83L4 21.41c.39.39.9.59 1.41.59.51 0 1.02-.2 1.41-.59l7.78-7.78 2.81-2.81c.8-.78.8-2.07 0-2.86zM5.41 20L4 18.59l7.72-7.72 1.47 1.35L5.41 20z\"/>\n",
              "  </svg>\n",
              "      </button>\n",
              "      \n",
              "  <style>\n",
              "    .colab-df-container {\n",
              "      display:flex;\n",
              "      flex-wrap:wrap;\n",
              "      gap: 12px;\n",
              "    }\n",
              "\n",
              "    .colab-df-convert {\n",
              "      background-color: #E8F0FE;\n",
              "      border: none;\n",
              "      border-radius: 50%;\n",
              "      cursor: pointer;\n",
              "      display: none;\n",
              "      fill: #1967D2;\n",
              "      height: 32px;\n",
              "      padding: 0 0 0 0;\n",
              "      width: 32px;\n",
              "    }\n",
              "\n",
              "    .colab-df-convert:hover {\n",
              "      background-color: #E2EBFA;\n",
              "      box-shadow: 0px 1px 2px rgba(60, 64, 67, 0.3), 0px 1px 3px 1px rgba(60, 64, 67, 0.15);\n",
              "      fill: #174EA6;\n",
              "    }\n",
              "\n",
              "    [theme=dark] .colab-df-convert {\n",
              "      background-color: #3B4455;\n",
              "      fill: #D2E3FC;\n",
              "    }\n",
              "\n",
              "    [theme=dark] .colab-df-convert:hover {\n",
              "      background-color: #434B5C;\n",
              "      box-shadow: 0px 1px 3px 1px rgba(0, 0, 0, 0.15);\n",
              "      filter: drop-shadow(0px 1px 2px rgba(0, 0, 0, 0.3));\n",
              "      fill: #FFFFFF;\n",
              "    }\n",
              "  </style>\n",
              "\n",
              "      <script>\n",
              "        const buttonEl =\n",
              "          document.querySelector('#df-de0a4955-abb5-4415-a547-1384f8882ba7 button.colab-df-convert');\n",
              "        buttonEl.style.display =\n",
              "          google.colab.kernel.accessAllowed ? 'block' : 'none';\n",
              "\n",
              "        async function convertToInteractive(key) {\n",
              "          const element = document.querySelector('#df-de0a4955-abb5-4415-a547-1384f8882ba7');\n",
              "          const dataTable =\n",
              "            await google.colab.kernel.invokeFunction('convertToInteractive',\n",
              "                                                     [key], {});\n",
              "          if (!dataTable) return;\n",
              "\n",
              "          const docLinkHtml = 'Like what you see? Visit the ' +\n",
              "            '<a target=\"_blank\" href=https://colab.research.google.com/notebooks/data_table.ipynb>data table notebook</a>'\n",
              "            + ' to learn more about interactive tables.';\n",
              "          element.innerHTML = '';\n",
              "          dataTable['output_type'] = 'display_data';\n",
              "          await google.colab.output.renderOutput(dataTable, element);\n",
              "          const docLink = document.createElement('div');\n",
              "          docLink.innerHTML = docLinkHtml;\n",
              "          element.appendChild(docLink);\n",
              "        }\n",
              "      </script>\n",
              "    </div>\n",
              "  </div>\n",
              "  "
            ],
            "text/plain": [
              "       date  quarter  department  day  team  targeted_productivity       smv  \\\n",
              "0  1/1/2015        0           0    4     8                   0.80  0.450252   \n",
              "1  1/1/2015        0           1    4     1                   0.75  0.020132   \n",
              "2  1/1/2015        0           0    4    11                   0.80  0.164731   \n",
              "3  1/1/2015        0           0    4    12                   0.80  0.164731   \n",
              "4  1/1/2015        0           0    4     6                   0.80  0.445219   \n",
              "\n",
              "        wip  over_time  incentive  idle_time  idle_men  no_of_style_change  \\\n",
              "0  0.047631   0.273148   0.027222        0.0         0                   0   \n",
              "1  0.051179   0.037037   0.000000        0.0         0                   0   \n",
              "2  0.041575   0.141204   0.013889        0.0         0                   0   \n",
              "3  0.041575   0.141204   0.013889        0.0         0                   0   \n",
              "4  0.050314   0.074074   0.013889        0.0         0                   0   \n",
              "\n",
              "   no_of_workers  actual_productivity  \n",
              "0       0.655172             0.940725  \n",
              "1       0.068966             0.886500  \n",
              "2       0.327586             0.800570  \n",
              "3       0.327586             0.800570  \n",
              "4       0.620690             0.800382  "
            ]
          },
          "metadata": {},
          "execution_count": 55
        }
      ]
    },
    {
      "cell_type": "markdown",
      "source": [
        "Splitting the data and Target data"
      ],
      "metadata": {
        "id": "Y9l0vi-V2NJ4"
      }
    },
    {
      "cell_type": "code",
      "source": [
        "X = p_dataframe.drop(['date','actual_productivity'],axis=1)\n",
        "Y = p_dataframe['actual_productivity']"
      ],
      "metadata": {
        "id": "1u1p3Nzt2MOI"
      },
      "execution_count": 56,
      "outputs": []
    },
    {
      "cell_type": "code",
      "source": [
        "X.sample(5)"
      ],
      "metadata": {
        "colab": {
          "base_uri": "https://localhost:8080/",
          "height": 270
        },
        "id": "h5cZKkRvEAG_",
        "outputId": "d5faecb5-ef83-421d-a610-d59a6f48df57"
      },
      "execution_count": 57,
      "outputs": [
        {
          "output_type": "execute_result",
          "data": {
            "text/html": [
              "\n",
              "  <div id=\"df-9c1c8651-38ef-415d-945f-a0612d05cc8f\">\n",
              "    <div class=\"colab-df-container\">\n",
              "      <div>\n",
              "<style scoped>\n",
              "    .dataframe tbody tr th:only-of-type {\n",
              "        vertical-align: middle;\n",
              "    }\n",
              "\n",
              "    .dataframe tbody tr th {\n",
              "        vertical-align: top;\n",
              "    }\n",
              "\n",
              "    .dataframe thead th {\n",
              "        text-align: right;\n",
              "    }\n",
              "</style>\n",
              "<table border=\"1\" class=\"dataframe\">\n",
              "  <thead>\n",
              "    <tr style=\"text-align: right;\">\n",
              "      <th></th>\n",
              "      <th>quarter</th>\n",
              "      <th>department</th>\n",
              "      <th>day</th>\n",
              "      <th>team</th>\n",
              "      <th>targeted_productivity</th>\n",
              "      <th>smv</th>\n",
              "      <th>wip</th>\n",
              "      <th>over_time</th>\n",
              "      <th>incentive</th>\n",
              "      <th>idle_time</th>\n",
              "      <th>idle_men</th>\n",
              "      <th>no_of_style_change</th>\n",
              "      <th>no_of_workers</th>\n",
              "    </tr>\n",
              "  </thead>\n",
              "  <tbody>\n",
              "    <tr>\n",
              "      <th>342</th>\n",
              "      <td>2</td>\n",
              "      <td>0</td>\n",
              "      <td>2</td>\n",
              "      <td>10</td>\n",
              "      <td>0.7</td>\n",
              "      <td>0.379791</td>\n",
              "      <td>0.047631</td>\n",
              "      <td>0.388889</td>\n",
              "      <td>0.017500</td>\n",
              "      <td>0.0</td>\n",
              "      <td>0</td>\n",
              "      <td>0</td>\n",
              "      <td>0.620690</td>\n",
              "    </tr>\n",
              "    <tr>\n",
              "      <th>938</th>\n",
              "      <td>3</td>\n",
              "      <td>0</td>\n",
              "      <td>3</td>\n",
              "      <td>5</td>\n",
              "      <td>0.8</td>\n",
              "      <td>0.526520</td>\n",
              "      <td>0.000346</td>\n",
              "      <td>0.046296</td>\n",
              "      <td>0.013611</td>\n",
              "      <td>0.0</td>\n",
              "      <td>0</td>\n",
              "      <td>1</td>\n",
              "      <td>0.655172</td>\n",
              "    </tr>\n",
              "    <tr>\n",
              "      <th>168</th>\n",
              "      <td>1</td>\n",
              "      <td>0</td>\n",
              "      <td>5</td>\n",
              "      <td>5</td>\n",
              "      <td>0.5</td>\n",
              "      <td>0.346303</td>\n",
              "      <td>0.041488</td>\n",
              "      <td>0.296296</td>\n",
              "      <td>0.000000</td>\n",
              "      <td>0.0</td>\n",
              "      <td>0</td>\n",
              "      <td>0</td>\n",
              "      <td>0.620690</td>\n",
              "    </tr>\n",
              "    <tr>\n",
              "      <th>87</th>\n",
              "      <td>0</td>\n",
              "      <td>1</td>\n",
              "      <td>2</td>\n",
              "      <td>9</td>\n",
              "      <td>0.8</td>\n",
              "      <td>0.020132</td>\n",
              "      <td>0.051179</td>\n",
              "      <td>0.055556</td>\n",
              "      <td>0.000000</td>\n",
              "      <td>0.0</td>\n",
              "      <td>0</td>\n",
              "      <td>0</td>\n",
              "      <td>0.068966</td>\n",
              "    </tr>\n",
              "    <tr>\n",
              "      <th>124</th>\n",
              "      <td>0</td>\n",
              "      <td>0</td>\n",
              "      <td>3</td>\n",
              "      <td>11</td>\n",
              "      <td>0.8</td>\n",
              "      <td>0.560008</td>\n",
              "      <td>0.024270</td>\n",
              "      <td>0.381944</td>\n",
              "      <td>0.011111</td>\n",
              "      <td>0.0</td>\n",
              "      <td>0</td>\n",
              "      <td>0</td>\n",
              "      <td>0.609195</td>\n",
              "    </tr>\n",
              "  </tbody>\n",
              "</table>\n",
              "</div>\n",
              "      <button class=\"colab-df-convert\" onclick=\"convertToInteractive('df-9c1c8651-38ef-415d-945f-a0612d05cc8f')\"\n",
              "              title=\"Convert this dataframe to an interactive table.\"\n",
              "              style=\"display:none;\">\n",
              "        \n",
              "  <svg xmlns=\"http://www.w3.org/2000/svg\" height=\"24px\"viewBox=\"0 0 24 24\"\n",
              "       width=\"24px\">\n",
              "    <path d=\"M0 0h24v24H0V0z\" fill=\"none\"/>\n",
              "    <path d=\"M18.56 5.44l.94 2.06.94-2.06 2.06-.94-2.06-.94-.94-2.06-.94 2.06-2.06.94zm-11 1L8.5 8.5l.94-2.06 2.06-.94-2.06-.94L8.5 2.5l-.94 2.06-2.06.94zm10 10l.94 2.06.94-2.06 2.06-.94-2.06-.94-.94-2.06-.94 2.06-2.06.94z\"/><path d=\"M17.41 7.96l-1.37-1.37c-.4-.4-.92-.59-1.43-.59-.52 0-1.04.2-1.43.59L10.3 9.45l-7.72 7.72c-.78.78-.78 2.05 0 2.83L4 21.41c.39.39.9.59 1.41.59.51 0 1.02-.2 1.41-.59l7.78-7.78 2.81-2.81c.8-.78.8-2.07 0-2.86zM5.41 20L4 18.59l7.72-7.72 1.47 1.35L5.41 20z\"/>\n",
              "  </svg>\n",
              "      </button>\n",
              "      \n",
              "  <style>\n",
              "    .colab-df-container {\n",
              "      display:flex;\n",
              "      flex-wrap:wrap;\n",
              "      gap: 12px;\n",
              "    }\n",
              "\n",
              "    .colab-df-convert {\n",
              "      background-color: #E8F0FE;\n",
              "      border: none;\n",
              "      border-radius: 50%;\n",
              "      cursor: pointer;\n",
              "      display: none;\n",
              "      fill: #1967D2;\n",
              "      height: 32px;\n",
              "      padding: 0 0 0 0;\n",
              "      width: 32px;\n",
              "    }\n",
              "\n",
              "    .colab-df-convert:hover {\n",
              "      background-color: #E2EBFA;\n",
              "      box-shadow: 0px 1px 2px rgba(60, 64, 67, 0.3), 0px 1px 3px 1px rgba(60, 64, 67, 0.15);\n",
              "      fill: #174EA6;\n",
              "    }\n",
              "\n",
              "    [theme=dark] .colab-df-convert {\n",
              "      background-color: #3B4455;\n",
              "      fill: #D2E3FC;\n",
              "    }\n",
              "\n",
              "    [theme=dark] .colab-df-convert:hover {\n",
              "      background-color: #434B5C;\n",
              "      box-shadow: 0px 1px 3px 1px rgba(0, 0, 0, 0.15);\n",
              "      filter: drop-shadow(0px 1px 2px rgba(0, 0, 0, 0.3));\n",
              "      fill: #FFFFFF;\n",
              "    }\n",
              "  </style>\n",
              "\n",
              "      <script>\n",
              "        const buttonEl =\n",
              "          document.querySelector('#df-9c1c8651-38ef-415d-945f-a0612d05cc8f button.colab-df-convert');\n",
              "        buttonEl.style.display =\n",
              "          google.colab.kernel.accessAllowed ? 'block' : 'none';\n",
              "\n",
              "        async function convertToInteractive(key) {\n",
              "          const element = document.querySelector('#df-9c1c8651-38ef-415d-945f-a0612d05cc8f');\n",
              "          const dataTable =\n",
              "            await google.colab.kernel.invokeFunction('convertToInteractive',\n",
              "                                                     [key], {});\n",
              "          if (!dataTable) return;\n",
              "\n",
              "          const docLinkHtml = 'Like what you see? Visit the ' +\n",
              "            '<a target=\"_blank\" href=https://colab.research.google.com/notebooks/data_table.ipynb>data table notebook</a>'\n",
              "            + ' to learn more about interactive tables.';\n",
              "          element.innerHTML = '';\n",
              "          dataTable['output_type'] = 'display_data';\n",
              "          await google.colab.output.renderOutput(dataTable, element);\n",
              "          const docLink = document.createElement('div');\n",
              "          docLink.innerHTML = docLinkHtml;\n",
              "          element.appendChild(docLink);\n",
              "        }\n",
              "      </script>\n",
              "    </div>\n",
              "  </div>\n",
              "  "
            ],
            "text/plain": [
              "     quarter  department  day  team  targeted_productivity       smv  \\\n",
              "342        2           0    2    10                    0.7  0.379791   \n",
              "938        3           0    3     5                    0.8  0.526520   \n",
              "168        1           0    5     5                    0.5  0.346303   \n",
              "87         0           1    2     9                    0.8  0.020132   \n",
              "124        0           0    3    11                    0.8  0.560008   \n",
              "\n",
              "          wip  over_time  incentive  idle_time  idle_men  no_of_style_change  \\\n",
              "342  0.047631   0.388889   0.017500        0.0         0                   0   \n",
              "938  0.000346   0.046296   0.013611        0.0         0                   1   \n",
              "168  0.041488   0.296296   0.000000        0.0         0                   0   \n",
              "87   0.051179   0.055556   0.000000        0.0         0                   0   \n",
              "124  0.024270   0.381944   0.011111        0.0         0                   0   \n",
              "\n",
              "     no_of_workers  \n",
              "342       0.620690  \n",
              "938       0.655172  \n",
              "168       0.620690  \n",
              "87        0.068966  \n",
              "124       0.609195  "
            ]
          },
          "metadata": {},
          "execution_count": 57
        }
      ]
    },
    {
      "cell_type": "code",
      "source": [
        "print(X)"
      ],
      "metadata": {
        "colab": {
          "base_uri": "https://localhost:8080/"
        },
        "id": "_PAN0Q9z36MK",
        "outputId": "60bb813f-3e32-4c99-a4cb-feeb5e17ecce"
      },
      "execution_count": 58,
      "outputs": [
        {
          "output_type": "stream",
          "name": "stdout",
          "text": [
            "      quarter  department  day  team  targeted_productivity       smv  \\\n",
            "0           0           0    4     8                   0.80  0.450252   \n",
            "1           0           1    4     1                   0.75  0.020132   \n",
            "2           0           0    4    11                   0.80  0.164731   \n",
            "3           0           0    4    12                   0.80  0.164731   \n",
            "4           0           0    4     6                   0.80  0.445219   \n",
            "...       ...         ...  ...   ...                    ...       ...   \n",
            "1192        1           1    3    10                   0.75  0.000000   \n",
            "1193        1           1    3     8                   0.70  0.019357   \n",
            "1194        1           1    3     7                   0.65  0.019357   \n",
            "1195        1           1    3     9                   0.75  0.000000   \n",
            "1196        1           1    3     6                   0.70  0.000000   \n",
            "\n",
            "           wip  over_time  incentive  idle_time  idle_men  no_of_style_change  \\\n",
            "0     0.047631   0.273148   0.027222        0.0         0                   0   \n",
            "1     0.051179   0.037037   0.000000        0.0         0                   0   \n",
            "2     0.041575   0.141204   0.013889        0.0         0                   0   \n",
            "3     0.041575   0.141204   0.013889        0.0         0                   0   \n",
            "4     0.050314   0.074074   0.013889        0.0         0                   0   \n",
            "...        ...        ...        ...        ...       ...                 ...   \n",
            "1192  0.051179   0.037037   0.000000        0.0         0                   0   \n",
            "1193  0.051179   0.037037   0.000000        0.0         0                   0   \n",
            "1194  0.051179   0.037037   0.000000        0.0         0                   0   \n",
            "1195  0.051179   0.069444   0.000000        0.0         0                   0   \n",
            "1196  0.051179   0.027778   0.000000        0.0         0                   0   \n",
            "\n",
            "      no_of_workers  \n",
            "0          0.655172  \n",
            "1          0.068966  \n",
            "2          0.327586  \n",
            "3          0.327586  \n",
            "4          0.620690  \n",
            "...             ...  \n",
            "1192       0.068966  \n",
            "1193       0.068966  \n",
            "1194       0.068966  \n",
            "1195       0.149425  \n",
            "1196       0.045977  \n",
            "\n",
            "[1197 rows x 13 columns]\n"
          ]
        }
      ]
    },
    {
      "cell_type": "code",
      "source": [
        "Y.head(5)"
      ],
      "metadata": {
        "colab": {
          "base_uri": "https://localhost:8080/"
        },
        "id": "55cYe21z4Cbp",
        "outputId": "2da18c8c-baf8-4b67-cb0a-cd227057abf5"
      },
      "execution_count": 59,
      "outputs": [
        {
          "output_type": "execute_result",
          "data": {
            "text/plain": [
              "0    0.940725\n",
              "1    0.886500\n",
              "2    0.800570\n",
              "3    0.800570\n",
              "4    0.800382\n",
              "Name: actual_productivity, dtype: float64"
            ]
          },
          "metadata": {},
          "execution_count": 59
        }
      ]
    },
    {
      "cell_type": "code",
      "source": [
        "from sklearn.preprocessing import StandardScaler\n",
        "scaler = StandardScaler()"
      ],
      "metadata": {
        "id": "spRDtMgF3lQ_"
      },
      "execution_count": 173,
      "outputs": []
    },
    {
      "cell_type": "code",
      "source": [
        "scaler.fit(X)"
      ],
      "metadata": {
        "colab": {
          "base_uri": "https://localhost:8080/"
        },
        "id": "JcPfjnvw3lPS",
        "outputId": "ce28e504-8f30-481b-b165-141444850e58"
      },
      "execution_count": 174,
      "outputs": [
        {
          "output_type": "execute_result",
          "data": {
            "text/plain": [
              "StandardScaler()"
            ]
          },
          "metadata": {},
          "execution_count": 174
        }
      ]
    },
    {
      "cell_type": "code",
      "source": [
        "standardized_data = scaler.transform(X)"
      ],
      "metadata": {
        "id": "C-nZsIWq33Sk"
      },
      "execution_count": 176,
      "outputs": []
    },
    {
      "cell_type": "code",
      "source": [
        "print(standardized_data)"
      ],
      "metadata": {
        "colab": {
          "base_uri": "https://localhost:8080/"
        },
        "id": "s9-HyDXo399B",
        "outputId": "ebc51499-abe0-42be-f567-07eed29c95d9"
      },
      "execution_count": 177,
      "outputs": [
        {
          "output_type": "stream",
          "name": "stdout",
          "text": [
            "[[-1.15168784 -0.85572897  0.90358619 ... -0.11300466 -0.3516175\n",
            "   1.0992288 ]\n",
            " [-1.15168784  1.1685943   0.90358619 ... -0.11300466 -0.3516175\n",
            "  -1.19926822]\n",
            " [-1.15168784 -0.85572897  0.90358619 ... -0.11300466 -0.3516175\n",
            "  -0.18522542]\n",
            " ...\n",
            " [-0.32866077  1.1685943   0.31319718 ... -0.11300466 -0.3516175\n",
            "  -1.19926822]\n",
            " [-0.32866077  1.1685943   0.31319718 ... -0.11300466 -0.3516175\n",
            "  -0.88378824]\n",
            " [-0.32866077  1.1685943   0.31319718 ... -0.11300466 -0.3516175\n",
            "  -1.28940536]]\n"
          ]
        }
      ]
    },
    {
      "cell_type": "code",
      "source": [
        "X = standardized_data\n",
        "Y = p_dataframe['actual_productivity']"
      ],
      "metadata": {
        "id": "O2MMEcGx4DNZ"
      },
      "execution_count": 192,
      "outputs": []
    },
    {
      "cell_type": "markdown",
      "source": [
        "Splitting Training and Test Data"
      ],
      "metadata": {
        "id": "4z_3clPI4Q8R"
      }
    },
    {
      "cell_type": "code",
      "source": [
        "X_train, X_test, Y_train, Y_test = train_test_split(X,Y, test_size = 0.3)"
      ],
      "metadata": {
        "id": "IcPo24134PMA"
      },
      "execution_count": 193,
      "outputs": []
    },
    {
      "cell_type": "code",
      "source": [
        "print(X.shape, X_train.shape, X_test.shape)"
      ],
      "metadata": {
        "colab": {
          "base_uri": "https://localhost:8080/"
        },
        "id": "-99Xdfp8Num-",
        "outputId": "62792cfb-478c-4de8-f389-262055ce3488"
      },
      "execution_count": 194,
      "outputs": [
        {
          "output_type": "stream",
          "name": "stdout",
          "text": [
            "(1197, 13) (837, 13) (360, 13)\n"
          ]
        }
      ]
    },
    {
      "cell_type": "code",
      "source": [
        "input_shape = 13"
      ],
      "metadata": {
        "id": "W235luY-IxfZ"
      },
      "execution_count": 181,
      "outputs": []
    },
    {
      "cell_type": "markdown",
      "source": [
        "Check best Algorithmn"
      ],
      "metadata": {
        "id": "0MTbD_irFbbJ"
      }
    },
    {
      "cell_type": "markdown",
      "source": [
        "Calculation of model evaluation using Metrics"
      ],
      "metadata": {
        "id": "T5hIxduaPl2H"
      }
    },
    {
      "cell_type": "code",
      "source": [
        "metrics_Cal = pd.DataFrame(columns = [ 'Model Name','Mean Absolute Error','Mean Squared Error','R2 Squared Error'])\n",
        "def evaluate_model(model,Y_actual,Y_Predicted, df): \n",
        "    mae=metrics.mean_absolute_error(Y_actual, Y_Predicted)\n",
        "    mse=metrics.mean_squared_error(Y_actual, Y_Predicted)\n",
        "    r2 = metrics.r2_score(Y_actual, Y_Predicted)\n",
        "    df2 = {'Model Name':model,'Mean Absolute Error':mae,'Mean Squared Error':mse,'R2 Squared Error': r2}\n",
        "    df = df.append(df2, ignore_index = True)\n",
        "    return df"
      ],
      "metadata": {
        "id": "JyWCnIRHPlMj"
      },
      "execution_count": 182,
      "outputs": []
    },
    {
      "cell_type": "markdown",
      "source": [
        "Linear Regression Model"
      ],
      "metadata": {
        "id": "MFeQTVTqOyMm"
      }
    },
    {
      "cell_type": "code",
      "source": [
        "linear = LinearRegression()"
      ],
      "metadata": {
        "id": "L46hlv-PO1Jl"
      },
      "execution_count": 183,
      "outputs": []
    },
    {
      "cell_type": "code",
      "source": [
        "linear.fit(X_train,Y_train)"
      ],
      "metadata": {
        "colab": {
          "base_uri": "https://localhost:8080/"
        },
        "id": "hXG7XWCPO9J4",
        "outputId": "05e28e2e-ffc8-414a-8a82-cb721f244a96"
      },
      "execution_count": 184,
      "outputs": [
        {
          "output_type": "execute_result",
          "data": {
            "text/plain": [
              "LinearRegression()"
            ]
          },
          "metadata": {},
          "execution_count": 184
        }
      ]
    },
    {
      "cell_type": "markdown",
      "source": [
        "Linear Regression Model Evaluation"
      ],
      "metadata": {
        "id": "PVIkHgqfS_am"
      }
    },
    {
      "cell_type": "code",
      "source": [
        "linear_predict = linear.predict(X_test)\n"
      ],
      "metadata": {
        "id": "3sCWw1lxPUn8"
      },
      "execution_count": 185,
      "outputs": []
    },
    {
      "cell_type": "code",
      "source": [
        "print(linear_predict)"
      ],
      "metadata": {
        "id": "UJZ7MTlcTHat"
      },
      "execution_count": null,
      "outputs": []
    },
    {
      "cell_type": "code",
      "source": [
        "metrics_Cal = evaluate_model('Linear Regression', Y_test, linear_predict, metrics_Cal)"
      ],
      "metadata": {
        "id": "aNFI4Yo8SU93"
      },
      "execution_count": 187,
      "outputs": []
    },
    {
      "cell_type": "code",
      "source": [
        "# getting R squred error\n",
        "error_score = metrics.r2_score(Y_test,linear_predict)\n",
        "print(\"R squared Error : \", error_score)"
      ],
      "metadata": {
        "colab": {
          "base_uri": "https://localhost:8080/"
        },
        "id": "AvqFsI7jTanV",
        "outputId": "b806d679-1a6f-49e4-ff64-8dfcb1c9ebb0"
      },
      "execution_count": 188,
      "outputs": [
        {
          "output_type": "stream",
          "name": "stdout",
          "text": [
            "R squared Error :  0.22945093419262952\n"
          ]
        }
      ]
    },
    {
      "cell_type": "code",
      "source": [
        "metrics_Cal"
      ],
      "metadata": {
        "colab": {
          "base_uri": "https://localhost:8080/",
          "height": 81
        },
        "id": "GXtywNlzT-mE",
        "outputId": "0db77049-32f0-4fee-9591-da43230b347e"
      },
      "execution_count": 71,
      "outputs": [
        {
          "output_type": "execute_result",
          "data": {
            "text/html": [
              "\n",
              "  <div id=\"df-c6bbfe17-3355-4243-a33f-2b760a710fac\">\n",
              "    <div class=\"colab-df-container\">\n",
              "      <div>\n",
              "<style scoped>\n",
              "    .dataframe tbody tr th:only-of-type {\n",
              "        vertical-align: middle;\n",
              "    }\n",
              "\n",
              "    .dataframe tbody tr th {\n",
              "        vertical-align: top;\n",
              "    }\n",
              "\n",
              "    .dataframe thead th {\n",
              "        text-align: right;\n",
              "    }\n",
              "</style>\n",
              "<table border=\"1\" class=\"dataframe\">\n",
              "  <thead>\n",
              "    <tr style=\"text-align: right;\">\n",
              "      <th></th>\n",
              "      <th>Model Name</th>\n",
              "      <th>Mean Absolute Error</th>\n",
              "      <th>Mean Squared Error</th>\n",
              "      <th>R2 Squared Error</th>\n",
              "    </tr>\n",
              "  </thead>\n",
              "  <tbody>\n",
              "    <tr>\n",
              "      <th>0</th>\n",
              "      <td>Linear Regression</td>\n",
              "      <td>0.115333</td>\n",
              "      <td>0.024412</td>\n",
              "      <td>0.229902</td>\n",
              "    </tr>\n",
              "  </tbody>\n",
              "</table>\n",
              "</div>\n",
              "      <button class=\"colab-df-convert\" onclick=\"convertToInteractive('df-c6bbfe17-3355-4243-a33f-2b760a710fac')\"\n",
              "              title=\"Convert this dataframe to an interactive table.\"\n",
              "              style=\"display:none;\">\n",
              "        \n",
              "  <svg xmlns=\"http://www.w3.org/2000/svg\" height=\"24px\"viewBox=\"0 0 24 24\"\n",
              "       width=\"24px\">\n",
              "    <path d=\"M0 0h24v24H0V0z\" fill=\"none\"/>\n",
              "    <path d=\"M18.56 5.44l.94 2.06.94-2.06 2.06-.94-2.06-.94-.94-2.06-.94 2.06-2.06.94zm-11 1L8.5 8.5l.94-2.06 2.06-.94-2.06-.94L8.5 2.5l-.94 2.06-2.06.94zm10 10l.94 2.06.94-2.06 2.06-.94-2.06-.94-.94-2.06-.94 2.06-2.06.94z\"/><path d=\"M17.41 7.96l-1.37-1.37c-.4-.4-.92-.59-1.43-.59-.52 0-1.04.2-1.43.59L10.3 9.45l-7.72 7.72c-.78.78-.78 2.05 0 2.83L4 21.41c.39.39.9.59 1.41.59.51 0 1.02-.2 1.41-.59l7.78-7.78 2.81-2.81c.8-.78.8-2.07 0-2.86zM5.41 20L4 18.59l7.72-7.72 1.47 1.35L5.41 20z\"/>\n",
              "  </svg>\n",
              "      </button>\n",
              "      \n",
              "  <style>\n",
              "    .colab-df-container {\n",
              "      display:flex;\n",
              "      flex-wrap:wrap;\n",
              "      gap: 12px;\n",
              "    }\n",
              "\n",
              "    .colab-df-convert {\n",
              "      background-color: #E8F0FE;\n",
              "      border: none;\n",
              "      border-radius: 50%;\n",
              "      cursor: pointer;\n",
              "      display: none;\n",
              "      fill: #1967D2;\n",
              "      height: 32px;\n",
              "      padding: 0 0 0 0;\n",
              "      width: 32px;\n",
              "    }\n",
              "\n",
              "    .colab-df-convert:hover {\n",
              "      background-color: #E2EBFA;\n",
              "      box-shadow: 0px 1px 2px rgba(60, 64, 67, 0.3), 0px 1px 3px 1px rgba(60, 64, 67, 0.15);\n",
              "      fill: #174EA6;\n",
              "    }\n",
              "\n",
              "    [theme=dark] .colab-df-convert {\n",
              "      background-color: #3B4455;\n",
              "      fill: #D2E3FC;\n",
              "    }\n",
              "\n",
              "    [theme=dark] .colab-df-convert:hover {\n",
              "      background-color: #434B5C;\n",
              "      box-shadow: 0px 1px 3px 1px rgba(0, 0, 0, 0.15);\n",
              "      filter: drop-shadow(0px 1px 2px rgba(0, 0, 0, 0.3));\n",
              "      fill: #FFFFFF;\n",
              "    }\n",
              "  </style>\n",
              "\n",
              "      <script>\n",
              "        const buttonEl =\n",
              "          document.querySelector('#df-c6bbfe17-3355-4243-a33f-2b760a710fac button.colab-df-convert');\n",
              "        buttonEl.style.display =\n",
              "          google.colab.kernel.accessAllowed ? 'block' : 'none';\n",
              "\n",
              "        async function convertToInteractive(key) {\n",
              "          const element = document.querySelector('#df-c6bbfe17-3355-4243-a33f-2b760a710fac');\n",
              "          const dataTable =\n",
              "            await google.colab.kernel.invokeFunction('convertToInteractive',\n",
              "                                                     [key], {});\n",
              "          if (!dataTable) return;\n",
              "\n",
              "          const docLinkHtml = 'Like what you see? Visit the ' +\n",
              "            '<a target=\"_blank\" href=https://colab.research.google.com/notebooks/data_table.ipynb>data table notebook</a>'\n",
              "            + ' to learn more about interactive tables.';\n",
              "          element.innerHTML = '';\n",
              "          dataTable['output_type'] = 'display_data';\n",
              "          await google.colab.output.renderOutput(dataTable, element);\n",
              "          const docLink = document.createElement('div');\n",
              "          docLink.innerHTML = docLinkHtml;\n",
              "          element.appendChild(docLink);\n",
              "        }\n",
              "      </script>\n",
              "    </div>\n",
              "  </div>\n",
              "  "
            ],
            "text/plain": [
              "          Model Name  Mean Absolute Error  Mean Squared Error  \\\n",
              "0  Linear Regression             0.115333            0.024412   \n",
              "\n",
              "   R2 Squared Error  \n",
              "0          0.229902  "
            ]
          },
          "metadata": {},
          "execution_count": 71
        }
      ]
    },
    {
      "cell_type": "markdown",
      "source": [
        "Compare with actual values and predicted values in a plot"
      ],
      "metadata": {
        "id": "Z6v8060nUGnr"
      }
    },
    {
      "cell_type": "code",
      "source": [
        "Y_test = list(Y_test)\n"
      ],
      "metadata": {
        "id": "Humczl55UMn7"
      },
      "execution_count": 72,
      "outputs": []
    },
    {
      "cell_type": "code",
      "source": [
        "plt.plot(Y_test, color='red', label='Actual Value')\n",
        "plt.plot(linear_predict, color='green', label='Predicted Value')\n",
        "plt.title('Actual Value Vs Predicted Value')\n",
        "plt.xlabel('No of Values')\n",
        "plt.ylabel('actual_productivity')\n",
        "plt.legend()\n",
        "plt.show()\n"
      ],
      "metadata": {
        "colab": {
          "base_uri": "https://localhost:8080/",
          "height": 295
        },
        "id": "PRd-vDtbUTHX",
        "outputId": "a4ebfd59-9719-495b-ccf1-962662a70c2e"
      },
      "execution_count": 74,
      "outputs": [
        {
          "output_type": "display_data",
          "data": {
            "image/png": "[encoded data removed]",
            "text/plain": [
              "<Figure size 432x288 with 1 Axes>"
            ]
          },
          "metadata": {
            "needs_background": "light"
          }
        }
      ]
    },
    {
      "cell_type": "markdown",
      "source": [
        "Decision Tree Model"
      ],
      "metadata": {
        "id": "Yjt82dipYVBz"
      }
    },
    {
      "cell_type": "code",
      "source": [
        "DTree = DecisionTreeRegressor(random_state = 0)"
      ],
      "metadata": {
        "id": "s5-1K0a6YXwz"
      },
      "execution_count": 76,
      "outputs": []
    },
    {
      "cell_type": "code",
      "source": [
        "DTree.fit(X_train,Y_train)"
      ],
      "metadata": {
        "colab": {
          "base_uri": "https://localhost:8080/"
        },
        "id": "dpA33gFIaFD4",
        "outputId": "72a9df56-8ad8-4c82-b7c4-34becbebca73"
      },
      "execution_count": 77,
      "outputs": [
        {
          "output_type": "execute_result",
          "data": {
            "text/plain": [
              "DecisionTreeRegressor(random_state=0)"
            ]
          },
          "metadata": {},
          "execution_count": 77
        }
      ]
    },
    {
      "cell_type": "markdown",
      "source": [
        "Decision Tree Model Evaluating"
      ],
      "metadata": {
        "id": "oWNij7Y8aTbM"
      }
    },
    {
      "cell_type": "code",
      "source": [
        "DTree_predict = DTree.predict(X_test)"
      ],
      "metadata": {
        "id": "D_FAJ4WiaOq4"
      },
      "execution_count": 78,
      "outputs": []
    },
    {
      "cell_type": "code",
      "source": [
        "print(DTree_predict)"
      ],
      "metadata": {
        "id": "mwKMy2hCcEKI"
      },
      "execution_count": null,
      "outputs": []
    },
    {
      "cell_type": "code",
      "source": [
        "metrics_Cal = evaluate_model('Decision Tree Regressor', Y_test, DTree_predict, metrics_Cal)"
      ],
      "metadata": {
        "id": "5LdjGdJncMqE"
      },
      "execution_count": 81,
      "outputs": []
    },
    {
      "cell_type": "code",
      "source": [
        "# getting R squred error\n",
        "error_score = metrics.r2_score(Y_test,DTree_predict)\n",
        "print(\"R squared Error : \", error_score)"
      ],
      "metadata": {
        "colab": {
          "base_uri": "https://localhost:8080/"
        },
        "id": "ZvEmozz4cinF",
        "outputId": "ff4b04a6-2e7a-4cdf-a2b6-83a4d944c2fd"
      },
      "execution_count": 82,
      "outputs": [
        {
          "output_type": "stream",
          "name": "stdout",
          "text": [
            "R squared Error :  0.1690929720065142\n"
          ]
        }
      ]
    },
    {
      "cell_type": "code",
      "source": [
        "metrics_Cal"
      ],
      "metadata": {
        "colab": {
          "base_uri": "https://localhost:8080/",
          "height": 143
        },
        "id": "JPVnCRj-c3PT",
        "outputId": "1c824262-55c0-4b36-d3e3-94bec4ee3294"
      },
      "execution_count": 83,
      "outputs": [
        {
          "output_type": "execute_result",
          "data": {
            "text/html": [
              "\n",
              "  <div id=\"df-913a3cc1-086f-4fdb-8281-21891ea774a7\">\n",
              "    <div class=\"colab-df-container\">\n",
              "      <div>\n",
              "<style scoped>\n",
              "    .dataframe tbody tr th:only-of-type {\n",
              "        vertical-align: middle;\n",
              "    }\n",
              "\n",
              "    .dataframe tbody tr th {\n",
              "        vertical-align: top;\n",
              "    }\n",
              "\n",
              "    .dataframe thead th {\n",
              "        text-align: right;\n",
              "    }\n",
              "</style>\n",
              "<table border=\"1\" class=\"dataframe\">\n",
              "  <thead>\n",
              "    <tr style=\"text-align: right;\">\n",
              "      <th></th>\n",
              "      <th>Model Name</th>\n",
              "      <th>Mean Absolute Error</th>\n",
              "      <th>Mean Squared Error</th>\n",
              "      <th>R2 Squared Error</th>\n",
              "    </tr>\n",
              "  </thead>\n",
              "  <tbody>\n",
              "    <tr>\n",
              "      <th>0</th>\n",
              "      <td>Linear Regression</td>\n",
              "      <td>0.115333</td>\n",
              "      <td>0.024412</td>\n",
              "      <td>0.229902</td>\n",
              "    </tr>\n",
              "    <tr>\n",
              "      <th>1</th>\n",
              "      <td>Decision Tree Regressor</td>\n",
              "      <td>0.115333</td>\n",
              "      <td>0.024412</td>\n",
              "      <td>0.229902</td>\n",
              "    </tr>\n",
              "    <tr>\n",
              "      <th>2</th>\n",
              "      <td>Decision Tree Regressor</td>\n",
              "      <td>0.094622</td>\n",
              "      <td>0.026340</td>\n",
              "      <td>0.169093</td>\n",
              "    </tr>\n",
              "  </tbody>\n",
              "</table>\n",
              "</div>\n",
              "      <button class=\"colab-df-convert\" onclick=\"convertToInteractive('df-913a3cc1-086f-4fdb-8281-21891ea774a7')\"\n",
              "              title=\"Convert this dataframe to an interactive table.\"\n",
              "              style=\"display:none;\">\n",
              "        \n",
              "  <svg xmlns=\"http://www.w3.org/2000/svg\" height=\"24px\"viewBox=\"0 0 24 24\"\n",
              "       width=\"24px\">\n",
              "    <path d=\"M0 0h24v24H0V0z\" fill=\"none\"/>\n",
              "    <path d=\"M18.56 5.44l.94 2.06.94-2.06 2.06-.94-2.06-.94-.94-2.06-.94 2.06-2.06.94zm-11 1L8.5 8.5l.94-2.06 2.06-.94-2.06-.94L8.5 2.5l-.94 2.06-2.06.94zm10 10l.94 2.06.94-2.06 2.06-.94-2.06-.94-.94-2.06-.94 2.06-2.06.94z\"/><path d=\"M17.41 7.96l-1.37-1.37c-.4-.4-.92-.59-1.43-.59-.52 0-1.04.2-1.43.59L10.3 9.45l-7.72 7.72c-.78.78-.78 2.05 0 2.83L4 21.41c.39.39.9.59 1.41.59.51 0 1.02-.2 1.41-.59l7.78-7.78 2.81-2.81c.8-.78.8-2.07 0-2.86zM5.41 20L4 18.59l7.72-7.72 1.47 1.35L5.41 20z\"/>\n",
              "  </svg>\n",
              "      </button>\n",
              "      \n",
              "  <style>\n",
              "    .colab-df-container {\n",
              "      display:flex;\n",
              "      flex-wrap:wrap;\n",
              "      gap: 12px;\n",
              "    }\n",
              "\n",
              "    .colab-df-convert {\n",
              "      background-color: #E8F0FE;\n",
              "      border: none;\n",
              "      border-radius: 50%;\n",
              "      cursor: pointer;\n",
              "      display: none;\n",
              "      fill: #1967D2;\n",
              "      height: 32px;\n",
              "      padding: 0 0 0 0;\n",
              "      width: 32px;\n",
              "    }\n",
              "\n",
              "    .colab-df-convert:hover {\n",
              "      background-color: #E2EBFA;\n",
              "      box-shadow: 0px 1px 2px rgba(60, 64, 67, 0.3), 0px 1px 3px 1px rgba(60, 64, 67, 0.15);\n",
              "      fill: #174EA6;\n",
              "    }\n",
              "\n",
              "    [theme=dark] .colab-df-convert {\n",
              "      background-color: #3B4455;\n",
              "      fill: #D2E3FC;\n",
              "    }\n",
              "\n",
              "    [theme=dark] .colab-df-convert:hover {\n",
              "      background-color: #434B5C;\n",
              "      box-shadow: 0px 1px 3px 1px rgba(0, 0, 0, 0.15);\n",
              "      filter: drop-shadow(0px 1px 2px rgba(0, 0, 0, 0.3));\n",
              "      fill: #FFFFFF;\n",
              "    }\n",
              "  </style>\n",
              "\n",
              "      <script>\n",
              "        const buttonEl =\n",
              "          document.querySelector('#df-913a3cc1-086f-4fdb-8281-21891ea774a7 button.colab-df-convert');\n",
              "        buttonEl.style.display =\n",
              "          google.colab.kernel.accessAllowed ? 'block' : 'none';\n",
              "\n",
              "        async function convertToInteractive(key) {\n",
              "          const element = document.querySelector('#df-913a3cc1-086f-4fdb-8281-21891ea774a7');\n",
              "          const dataTable =\n",
              "            await google.colab.kernel.invokeFunction('convertToInteractive',\n",
              "                                                     [key], {});\n",
              "          if (!dataTable) return;\n",
              "\n",
              "          const docLinkHtml = 'Like what you see? Visit the ' +\n",
              "            '<a target=\"_blank\" href=https://colab.research.google.com/notebooks/data_table.ipynb>data table notebook</a>'\n",
              "            + ' to learn more about interactive tables.';\n",
              "          element.innerHTML = '';\n",
              "          dataTable['output_type'] = 'display_data';\n",
              "          await google.colab.output.renderOutput(dataTable, element);\n",
              "          const docLink = document.createElement('div');\n",
              "          docLink.innerHTML = docLinkHtml;\n",
              "          element.appendChild(docLink);\n",
              "        }\n",
              "      </script>\n",
              "    </div>\n",
              "  </div>\n",
              "  "
            ],
            "text/plain": [
              "                Model Name  Mean Absolute Error  Mean Squared Error  \\\n",
              "0        Linear Regression             0.115333            0.024412   \n",
              "1  Decision Tree Regressor             0.115333            0.024412   \n",
              "2  Decision Tree Regressor             0.094622            0.026340   \n",
              "\n",
              "   R2 Squared Error  \n",
              "0          0.229902  \n",
              "1          0.229902  \n",
              "2          0.169093  "
            ]
          },
          "metadata": {},
          "execution_count": 83
        }
      ]
    },
    {
      "cell_type": "markdown",
      "source": [
        "Compare with actual values and predicted values in a plot"
      ],
      "metadata": {
        "id": "LfGf9Bs1dPA8"
      }
    },
    {
      "cell_type": "code",
      "source": [
        "Y_test = list(Y_test)"
      ],
      "metadata": {
        "id": "WmPcZrGrdNWa"
      },
      "execution_count": 84,
      "outputs": []
    },
    {
      "cell_type": "code",
      "source": [
        "plt.plot(Y_test, color='red', label='Actual Value')\n",
        "plt.plot(DTree_predict, color='green', label='Predicted Value')\n",
        "plt.title('Actual Value Vs Predicted Value')\n",
        "plt.xlabel('No of Values')\n",
        "plt.ylabel('actual_productivity')\n",
        "plt.legend()\n",
        "plt.show()"
      ],
      "metadata": {
        "colab": {
          "base_uri": "https://localhost:8080/",
          "height": 295
        },
        "id": "Tr6Tqdl4T5Sc",
        "outputId": "72068fc2-2d34-4c98-c36b-47454b42346f"
      },
      "execution_count": 85,
      "outputs": [
        {
          "output_type": "display_data",
          "data": {
            "image/png": "[encoded data removed]",
            "text/plain": [
              "<Figure size 432x288 with 1 Axes>"
            ]
          },
          "metadata": {
            "needs_background": "light"
          }
        }
      ]
    },
    {
      "cell_type": "markdown",
      "source": [
        "Random Forest Model"
      ],
      "metadata": {
        "id": "n-f2Rf0SdbCq"
      }
    },
    {
      "cell_type": "code",
      "source": [
        "RModel = RandomForestRegressor(n_estimators = 100)"
      ],
      "metadata": {
        "id": "O5deze3ZnGFc"
      },
      "execution_count": 195,
      "outputs": []
    },
    {
      "cell_type": "code",
      "source": [
        "RModel.fit(X_train,Y_train)"
      ],
      "metadata": {
        "colab": {
          "base_uri": "https://localhost:8080/"
        },
        "id": "cAINN2kC_VPV",
        "outputId": "5e3bf401-7530-4d7c-9d37-85e0a6b7420e"
      },
      "execution_count": 196,
      "outputs": [
        {
          "output_type": "execute_result",
          "data": {
            "text/plain": [
              "RandomForestRegressor()"
            ]
          },
          "metadata": {},
          "execution_count": 196
        }
      ]
    },
    {
      "cell_type": "markdown",
      "source": [
        "RandomForest Model Evaluating"
      ],
      "metadata": {
        "id": "JE3FMedodyBj"
      }
    },
    {
      "cell_type": "code",
      "source": [
        "RModel_predict = RModel.predict(X_test)"
      ],
      "metadata": {
        "id": "nJQMfOktdwBK"
      },
      "execution_count": 197,
      "outputs": []
    },
    {
      "cell_type": "code",
      "source": [
        "print(RModel_predict)"
      ],
      "metadata": {
        "colab": {
          "base_uri": "https://localhost:8080/"
        },
        "id": "I2MDtohYeBNw",
        "outputId": "c0b9f067-7ebe-48b7-a319-9bf35b3b65ad"
      },
      "execution_count": 198,
      "outputs": [
        {
          "output_type": "stream",
          "name": "stdout",
          "text": [
            "[0.72108127 0.91727988 0.75267322 0.6385132  0.90417776 0.78934915\n",
            " 0.81402991 0.97409169 0.8532445  0.74194934 0.48519676 0.65239983\n",
            " 0.40382427 0.7329418  0.63731922 0.72706744 0.49642048 0.5539352\n",
            " 0.85599734 0.91726643 0.71288002 0.87650257 0.84564203 0.51418157\n",
            " 0.54241408 0.5659398  0.62587738 0.73514199 0.49076698 0.78319902\n",
            " 0.89515942 0.72373934 0.82918274 0.68216339 0.85551708 0.56284973\n",
            " 0.85298679 0.75434282 0.80366278 0.53766712 0.85355063 0.65608359\n",
            " 0.75460365 0.53209383 0.74696965 0.58222452 0.67442288 0.50037353\n",
            " 0.79060013 0.49785145 0.80040682 0.66019185 0.90459519 0.58348485\n",
            " 0.80127536 0.91504814 0.78039389 0.80077919 0.61606545 0.56033091\n",
            " 0.76681416 0.8019571  0.80966135 0.70976278 1.00517163 0.61222848\n",
            " 0.91978739 0.40458557 0.73087101 0.98770839 0.70330106 0.60381177\n",
            " 0.75261432 0.95862786 0.58778509 0.79714999 0.74487005 0.86136512\n",
            " 0.87378191 0.69705545 0.5450943  0.88337678 0.82019472 0.79258999\n",
            " 0.80766024 0.80305322 0.62328539 0.55594027 0.56606161 0.81122507\n",
            " 0.91145992 0.50847683 0.56071154 0.86234328 0.87592901 0.66751312\n",
            " 0.45001362 0.80636196 0.79178213 0.69351089 0.79875994 0.67837841\n",
            " 0.85295216 0.93553608 0.68584319 0.65191639 0.50919472 0.75274935\n",
            " 0.87919433 0.52897218 0.45035291 0.7990077  0.57362841 0.92944298\n",
            " 0.78549232 0.79959108 0.79969987 0.8713794  0.57618502 0.72504811\n",
            " 0.88765597 0.69524302 0.55219562 0.80586814 0.80298788 0.62143912\n",
            " 0.75550579 0.69281214 0.54659342 0.82878088 0.80235245 0.80050881\n",
            " 0.75766032 0.92499331 0.75226642 0.96315461 0.86020705 0.55643209\n",
            " 0.9221343  0.82779124 0.90471279 0.74175662 0.75368967 0.80280622\n",
            " 0.74403986 0.48139424 0.73447343 0.86168056 0.91292297 0.6417506\n",
            " 0.69647564 0.8534672  0.55863337 0.57960419 0.80230849 0.58015899\n",
            " 0.88894795 0.5425871  0.8493908  0.68844313 0.80578877 0.89035393\n",
            " 0.75920402 0.67134816 0.70231572 0.75642975 0.64156232 0.74839247\n",
            " 0.86613278 0.75515336 0.86388055 0.97600447 0.52508444 0.67527574\n",
            " 0.67629327 0.88334655 0.8708806  0.56463275 0.75560209 0.95069383\n",
            " 0.55334353 0.7162298  0.5575621  0.80089101 0.49866148 0.91488456\n",
            " 0.80138633 0.70311411 0.59192068 0.85159569 0.63166601 0.74732863\n",
            " 0.84386372 0.84504308 0.61516616 0.81537129 0.85244539 0.75035138\n",
            " 0.7538393  0.89862964 0.80020922 0.61418229 0.50335668 0.7629684\n",
            " 0.92277212 0.58459602 0.49202258 0.86791364 0.87898277 0.78644351\n",
            " 0.76802429 0.59843768 0.42455966 0.86792024 0.74910536 0.79133625\n",
            " 0.9591668  0.79656264 0.74844786 0.58765849 0.76526382 0.64781607\n",
            " 0.75151333 0.86126743 0.7541222  0.88271727 0.79993834 0.80074165\n",
            " 0.76499604 0.81006418 0.75471652 0.41245606 0.84817168 0.80312647\n",
            " 0.903581   0.51706642 0.96802288 0.85097276 0.84195404 0.69549916\n",
            " 0.7521904  0.74797016 0.45002241 0.91721311 0.70619875 0.76384198\n",
            " 0.46972934 0.91115018 0.78665309 0.79355813 0.52718516 0.78854073\n",
            " 0.58553557 0.80022284 0.81275934 0.79347134 0.41132026 0.66962402\n",
            " 0.57718342 0.57977559 0.74629699 0.80073239 0.79790695 0.6455733\n",
            " 0.7116322  0.78399082 0.90260166 0.76219175 0.65686825 0.65800829\n",
            " 0.71701432 0.81686959 0.80520626 0.67018237 0.63623475 0.71801948\n",
            " 0.9865169  0.80624626 0.5710121  0.8092857  0.85219732 0.70803885\n",
            " 0.79908936 0.67921515 0.67565286 0.54530104 0.73232086 0.67789524\n",
            " 0.82789568 0.65640153 0.90146822 0.74471492 1.00587007 0.69541682\n",
            " 0.81145086 0.69255018 0.6620145  0.86243712 0.79082795 0.84316087\n",
            " 0.67610099 0.43373146 0.71450385 0.84118312 0.63982074 0.80102029\n",
            " 0.80910046 0.81129646 0.73969379 0.62204215 0.64989877 0.80038292\n",
            " 0.85928002 0.83984922 0.80554411 0.90020337 0.71557662 0.90138302\n",
            " 0.85728292 0.74622582 0.74196077 0.79901774 0.70266291 0.40626283\n",
            " 0.76339575 0.75454776 0.97859151 0.70295177 0.74857609 0.69550876\n",
            " 0.6600948  0.99720576 0.87416478 0.94595853 0.6949389  0.75501163\n",
            " 0.59562521 0.679708   0.91474736 0.83588419 0.45511919 0.70520623\n",
            " 0.80039592 0.89629339 0.85876814 0.91573853 0.66266614 0.88461169\n",
            " 0.83179415 0.75986583 0.77484912 0.81020423 0.75289987 0.60224181\n",
            " 0.81834691 0.74909374 0.80148027 0.91423833 0.50305226 0.69636092]\n"
          ]
        }
      ]
    },
    {
      "cell_type": "code",
      "source": [
        "metrics_Cal = evaluate_model('RandomForest Regressor', Y_test, RModel_predict, metrics_Cal)"
      ],
      "metadata": {
        "id": "HoDcBBk4eVMg"
      },
      "execution_count": 199,
      "outputs": []
    },
    {
      "cell_type": "code",
      "source": [
        "metrics_Cal"
      ],
      "metadata": {
        "colab": {
          "base_uri": "https://localhost:8080/",
          "height": 112
        },
        "id": "yzda00Aleeds",
        "outputId": "dc4ba247-6d1b-4f47-d777-dd02ff9cab91"
      },
      "execution_count": 200,
      "outputs": [
        {
          "output_type": "execute_result",
          "data": {
            "text/html": [
              "\n",
              "  <div id=\"df-54ce35a1-eb39-470b-b0c5-22e152bd07c0\">\n",
              "    <div class=\"colab-df-container\">\n",
              "      <div>\n",
              "<style scoped>\n",
              "    .dataframe tbody tr th:only-of-type {\n",
              "        vertical-align: middle;\n",
              "    }\n",
              "\n",
              "    .dataframe tbody tr th {\n",
              "        vertical-align: top;\n",
              "    }\n",
              "\n",
              "    .dataframe thead th {\n",
              "        text-align: right;\n",
              "    }\n",
              "</style>\n",
              "<table border=\"1\" class=\"dataframe\">\n",
              "  <thead>\n",
              "    <tr style=\"text-align: right;\">\n",
              "      <th></th>\n",
              "      <th>Model Name</th>\n",
              "      <th>Mean Absolute Error</th>\n",
              "      <th>Mean Squared Error</th>\n",
              "      <th>R2 Squared Error</th>\n",
              "    </tr>\n",
              "  </thead>\n",
              "  <tbody>\n",
              "    <tr>\n",
              "      <th>0</th>\n",
              "      <td>Linear Regression</td>\n",
              "      <td>0.110258</td>\n",
              "      <td>0.023247</td>\n",
              "      <td>0.229451</td>\n",
              "    </tr>\n",
              "    <tr>\n",
              "      <th>1</th>\n",
              "      <td>RandomForest Regressor</td>\n",
              "      <td>0.073681</td>\n",
              "      <td>0.014140</td>\n",
              "      <td>0.503446</td>\n",
              "    </tr>\n",
              "  </tbody>\n",
              "</table>\n",
              "</div>\n",
              "      <button class=\"colab-df-convert\" onclick=\"convertToInteractive('df-54ce35a1-eb39-470b-b0c5-22e152bd07c0')\"\n",
              "              title=\"Convert this dataframe to an interactive table.\"\n",
              "              style=\"display:none;\">\n",
              "        \n",
              "  <svg xmlns=\"http://www.w3.org/2000/svg\" height=\"24px\"viewBox=\"0 0 24 24\"\n",
              "       width=\"24px\">\n",
              "    <path d=\"M0 0h24v24H0V0z\" fill=\"none\"/>\n",
              "    <path d=\"M18.56 5.44l.94 2.06.94-2.06 2.06-.94-2.06-.94-.94-2.06-.94 2.06-2.06.94zm-11 1L8.5 8.5l.94-2.06 2.06-.94-2.06-.94L8.5 2.5l-.94 2.06-2.06.94zm10 10l.94 2.06.94-2.06 2.06-.94-2.06-.94-.94-2.06-.94 2.06-2.06.94z\"/><path d=\"M17.41 7.96l-1.37-1.37c-.4-.4-.92-.59-1.43-.59-.52 0-1.04.2-1.43.59L10.3 9.45l-7.72 7.72c-.78.78-.78 2.05 0 2.83L4 21.41c.39.39.9.59 1.41.59.51 0 1.02-.2 1.41-.59l7.78-7.78 2.81-2.81c.8-.78.8-2.07 0-2.86zM5.41 20L4 18.59l7.72-7.72 1.47 1.35L5.41 20z\"/>\n",
              "  </svg>\n",
              "      </button>\n",
              "      \n",
              "  <style>\n",
              "    .colab-df-container {\n",
              "      display:flex;\n",
              "      flex-wrap:wrap;\n",
              "      gap: 12px;\n",
              "    }\n",
              "\n",
              "    .colab-df-convert {\n",
              "      background-color: #E8F0FE;\n",
              "      border: none;\n",
              "      border-radius: 50%;\n",
              "      cursor: pointer;\n",
              "      display: none;\n",
              "      fill: #1967D2;\n",
              "      height: 32px;\n",
              "      padding: 0 0 0 0;\n",
              "      width: 32px;\n",
              "    }\n",
              "\n",
              "    .colab-df-convert:hover {\n",
              "      background-color: #E2EBFA;\n",
              "      box-shadow: 0px 1px 2px rgba(60, 64, 67, 0.3), 0px 1px 3px 1px rgba(60, 64, 67, 0.15);\n",
              "      fill: #174EA6;\n",
              "    }\n",
              "\n",
              "    [theme=dark] .colab-df-convert {\n",
              "      background-color: #3B4455;\n",
              "      fill: #D2E3FC;\n",
              "    }\n",
              "\n",
              "    [theme=dark] .colab-df-convert:hover {\n",
              "      background-color: #434B5C;\n",
              "      box-shadow: 0px 1px 3px 1px rgba(0, 0, 0, 0.15);\n",
              "      filter: drop-shadow(0px 1px 2px rgba(0, 0, 0, 0.3));\n",
              "      fill: #FFFFFF;\n",
              "    }\n",
              "  </style>\n",
              "\n",
              "      <script>\n",
              "        const buttonEl =\n",
              "          document.querySelector('#df-54ce35a1-eb39-470b-b0c5-22e152bd07c0 button.colab-df-convert');\n",
              "        buttonEl.style.display =\n",
              "          google.colab.kernel.accessAllowed ? 'block' : 'none';\n",
              "\n",
              "        async function convertToInteractive(key) {\n",
              "          const element = document.querySelector('#df-54ce35a1-eb39-470b-b0c5-22e152bd07c0');\n",
              "          const dataTable =\n",
              "            await google.colab.kernel.invokeFunction('convertToInteractive',\n",
              "                                                     [key], {});\n",
              "          if (!dataTable) return;\n",
              "\n",
              "          const docLinkHtml = 'Like what you see? Visit the ' +\n",
              "            '<a target=\"_blank\" href=https://colab.research.google.com/notebooks/data_table.ipynb>data table notebook</a>'\n",
              "            + ' to learn more about interactive tables.';\n",
              "          element.innerHTML = '';\n",
              "          dataTable['output_type'] = 'display_data';\n",
              "          await google.colab.output.renderOutput(dataTable, element);\n",
              "          const docLink = document.createElement('div');\n",
              "          docLink.innerHTML = docLinkHtml;\n",
              "          element.appendChild(docLink);\n",
              "        }\n",
              "      </script>\n",
              "    </div>\n",
              "  </div>\n",
              "  "
            ],
            "text/plain": [
              "               Model Name  Mean Absolute Error  Mean Squared Error  \\\n",
              "0       Linear Regression             0.110258            0.023247   \n",
              "1  RandomForest Regressor             0.073681            0.014140   \n",
              "\n",
              "   R2 Squared Error  \n",
              "0          0.229451  \n",
              "1          0.503446  "
            ]
          },
          "metadata": {},
          "execution_count": 200
        }
      ]
    },
    {
      "cell_type": "markdown",
      "source": [
        "Compare with actual values and predicted values in a plot"
      ],
      "metadata": {
        "id": "4Zj0eAlDeryg"
      }
    },
    {
      "cell_type": "code",
      "source": [
        "Y_test = list(Y_test)"
      ],
      "metadata": {
        "id": "NrFBjfOgeslI"
      },
      "execution_count": 201,
      "outputs": []
    },
    {
      "cell_type": "code",
      "source": [
        "plt.plot(Y_test, color='red', label='Actual Value')\n",
        "plt.plot(RModel_predict, color='green', label='Predicted Value')\n",
        "plt.title('Actual Value Vs Predicted Value')\n",
        "plt.xlabel('No of Values')\n",
        "plt.ylabel('actual_productivity')\n",
        "plt.legend()\n",
        "plt.show()"
      ],
      "metadata": {
        "colab": {
          "base_uri": "https://localhost:8080/",
          "height": 301
        },
        "id": "qx52VDAje1-w",
        "outputId": "78c15fd1-585c-451a-e426-5f8416ee2778"
      },
      "execution_count": 202,
      "outputs": [
        {
          "output_type": "display_data",
          "data": {
            "image/png": "[encoded data removed]",
            "text/plain": [
              "<Figure size 432x288 with 1 Axes>"
            ]
          },
          "metadata": {}
        }
      ]
    },
    {
      "cell_type": "markdown",
      "source": [
        "Support Vector Machine Model"
      ],
      "metadata": {
        "id": "wgWYbmB7e71X"
      }
    },
    {
      "cell_type": "code",
      "source": [
        "svModel = SVR(C=25) "
      ],
      "metadata": {
        "id": "WctkNGD0fBzG"
      },
      "execution_count": 128,
      "outputs": []
    },
    {
      "cell_type": "code",
      "source": [
        "svModel.fit(X_train,Y_train)"
      ],
      "metadata": {
        "colab": {
          "base_uri": "https://localhost:8080/"
        },
        "id": "GNpuOrM9g2lt",
        "outputId": "1b0d3f59-f87b-47b2-b879-1b81ec26160e"
      },
      "execution_count": 129,
      "outputs": [
        {
          "output_type": "execute_result",
          "data": {
            "text/plain": [
              "SVR(C=25)"
            ]
          },
          "metadata": {},
          "execution_count": 129
        }
      ]
    },
    {
      "cell_type": "markdown",
      "source": [
        "Support Vector Regressor Model Evaluation"
      ],
      "metadata": {
        "id": "RgoP5dHahcWL"
      }
    },
    {
      "cell_type": "code",
      "source": [
        "svModel_predict = svModel.predict(X_test)"
      ],
      "metadata": {
        "id": "QFdVm4JWhV27"
      },
      "execution_count": 130,
      "outputs": []
    },
    {
      "cell_type": "code",
      "source": [
        "metrics_Cal = evaluate_model('Support Vector Regressor', Y_test, svModel_predict, metrics_Cal)"
      ],
      "metadata": {
        "id": "pvSCfPv8hhUr"
      },
      "execution_count": 131,
      "outputs": []
    },
    {
      "cell_type": "code",
      "source": [
        "metrics_Cal"
      ],
      "metadata": {
        "colab": {
          "base_uri": "https://localhost:8080/",
          "height": 332
        },
        "id": "u3H9gSkjhp6u",
        "outputId": "8dffab52-b4ed-4d8f-cfe3-e099b3f7a095"
      },
      "execution_count": 132,
      "outputs": [
        {
          "output_type": "execute_result",
          "data": {
            "text/html": [
              "\n",
              "  <div id=\"df-535e66de-365c-4d1b-921c-b8d568eafae4\">\n",
              "    <div class=\"colab-df-container\">\n",
              "      <div>\n",
              "<style scoped>\n",
              "    .dataframe tbody tr th:only-of-type {\n",
              "        vertical-align: middle;\n",
              "    }\n",
              "\n",
              "    .dataframe tbody tr th {\n",
              "        vertical-align: top;\n",
              "    }\n",
              "\n",
              "    .dataframe thead th {\n",
              "        text-align: right;\n",
              "    }\n",
              "</style>\n",
              "<table border=\"1\" class=\"dataframe\">\n",
              "  <thead>\n",
              "    <tr style=\"text-align: right;\">\n",
              "      <th></th>\n",
              "      <th>Model Name</th>\n",
              "      <th>Mean Absolute Error</th>\n",
              "      <th>Mean Squared Error</th>\n",
              "      <th>R2 Squared Error</th>\n",
              "    </tr>\n",
              "  </thead>\n",
              "  <tbody>\n",
              "    <tr>\n",
              "      <th>0</th>\n",
              "      <td>Linear Regression</td>\n",
              "      <td>0.115333</td>\n",
              "      <td>0.024412</td>\n",
              "      <td>0.229902</td>\n",
              "    </tr>\n",
              "    <tr>\n",
              "      <th>1</th>\n",
              "      <td>Decision Tree Regressor</td>\n",
              "      <td>0.115333</td>\n",
              "      <td>0.024412</td>\n",
              "      <td>0.229902</td>\n",
              "    </tr>\n",
              "    <tr>\n",
              "      <th>2</th>\n",
              "      <td>Decision Tree Regressor</td>\n",
              "      <td>0.094622</td>\n",
              "      <td>0.026340</td>\n",
              "      <td>0.169093</td>\n",
              "    </tr>\n",
              "    <tr>\n",
              "      <th>3</th>\n",
              "      <td>RandomForest Regressor</td>\n",
              "      <td>0.084591</td>\n",
              "      <td>0.017730</td>\n",
              "      <td>0.440701</td>\n",
              "    </tr>\n",
              "    <tr>\n",
              "      <th>4</th>\n",
              "      <td>RandomForest Regressor</td>\n",
              "      <td>0.084999</td>\n",
              "      <td>0.017823</td>\n",
              "      <td>0.437770</td>\n",
              "    </tr>\n",
              "    <tr>\n",
              "      <th>5</th>\n",
              "      <td>RandomForest Regressor</td>\n",
              "      <td>0.084470</td>\n",
              "      <td>0.017817</td>\n",
              "      <td>0.437953</td>\n",
              "    </tr>\n",
              "    <tr>\n",
              "      <th>6</th>\n",
              "      <td>Support Vector Regressor</td>\n",
              "      <td>0.084470</td>\n",
              "      <td>0.017817</td>\n",
              "      <td>0.437953</td>\n",
              "    </tr>\n",
              "    <tr>\n",
              "      <th>7</th>\n",
              "      <td>Support Vector Regressor</td>\n",
              "      <td>0.119092</td>\n",
              "      <td>0.025124</td>\n",
              "      <td>0.207452</td>\n",
              "    </tr>\n",
              "    <tr>\n",
              "      <th>8</th>\n",
              "      <td>Support Vector Regressor</td>\n",
              "      <td>0.113827</td>\n",
              "      <td>0.022862</td>\n",
              "      <td>0.278805</td>\n",
              "    </tr>\n",
              "  </tbody>\n",
              "</table>\n",
              "</div>\n",
              "      <button class=\"colab-df-convert\" onclick=\"convertToInteractive('df-535e66de-365c-4d1b-921c-b8d568eafae4')\"\n",
              "              title=\"Convert this dataframe to an interactive table.\"\n",
              "              style=\"display:none;\">\n",
              "        \n",
              "  <svg xmlns=\"http://www.w3.org/2000/svg\" height=\"24px\"viewBox=\"0 0 24 24\"\n",
              "       width=\"24px\">\n",
              "    <path d=\"M0 0h24v24H0V0z\" fill=\"none\"/>\n",
              "    <path d=\"M18.56 5.44l.94 2.06.94-2.06 2.06-.94-2.06-.94-.94-2.06-.94 2.06-2.06.94zm-11 1L8.5 8.5l.94-2.06 2.06-.94-2.06-.94L8.5 2.5l-.94 2.06-2.06.94zm10 10l.94 2.06.94-2.06 2.06-.94-2.06-.94-.94-2.06-.94 2.06-2.06.94z\"/><path d=\"M17.41 7.96l-1.37-1.37c-.4-.4-.92-.59-1.43-.59-.52 0-1.04.2-1.43.59L10.3 9.45l-7.72 7.72c-.78.78-.78 2.05 0 2.83L4 21.41c.39.39.9.59 1.41.59.51 0 1.02-.2 1.41-.59l7.78-7.78 2.81-2.81c.8-.78.8-2.07 0-2.86zM5.41 20L4 18.59l7.72-7.72 1.47 1.35L5.41 20z\"/>\n",
              "  </svg>\n",
              "      </button>\n",
              "      \n",
              "  <style>\n",
              "    .colab-df-container {\n",
              "      display:flex;\n",
              "      flex-wrap:wrap;\n",
              "      gap: 12px;\n",
              "    }\n",
              "\n",
              "    .colab-df-convert {\n",
              "      background-color: #E8F0FE;\n",
              "      border: none;\n",
              "      border-radius: 50%;\n",
              "      cursor: pointer;\n",
              "      display: none;\n",
              "      fill: #1967D2;\n",
              "      height: 32px;\n",
              "      padding: 0 0 0 0;\n",
              "      width: 32px;\n",
              "    }\n",
              "\n",
              "    .colab-df-convert:hover {\n",
              "      background-color: #E2EBFA;\n",
              "      box-shadow: 0px 1px 2px rgba(60, 64, 67, 0.3), 0px 1px 3px 1px rgba(60, 64, 67, 0.15);\n",
              "      fill: #174EA6;\n",
              "    }\n",
              "\n",
              "    [theme=dark] .colab-df-convert {\n",
              "      background-color: #3B4455;\n",
              "      fill: #D2E3FC;\n",
              "    }\n",
              "\n",
              "    [theme=dark] .colab-df-convert:hover {\n",
              "      background-color: #434B5C;\n",
              "      box-shadow: 0px 1px 3px 1px rgba(0, 0, 0, 0.15);\n",
              "      filter: drop-shadow(0px 1px 2px rgba(0, 0, 0, 0.3));\n",
              "      fill: #FFFFFF;\n",
              "    }\n",
              "  </style>\n",
              "\n",
              "      <script>\n",
              "        const buttonEl =\n",
              "          document.querySelector('#df-535e66de-365c-4d1b-921c-b8d568eafae4 button.colab-df-convert');\n",
              "        buttonEl.style.display =\n",
              "          google.colab.kernel.accessAllowed ? 'block' : 'none';\n",
              "\n",
              "        async function convertToInteractive(key) {\n",
              "          const element = document.querySelector('#df-535e66de-365c-4d1b-921c-b8d568eafae4');\n",
              "          const dataTable =\n",
              "            await google.colab.kernel.invokeFunction('convertToInteractive',\n",
              "                                                     [key], {});\n",
              "          if (!dataTable) return;\n",
              "\n",
              "          const docLinkHtml = 'Like what you see? Visit the ' +\n",
              "            '<a target=\"_blank\" href=https://colab.research.google.com/notebooks/data_table.ipynb>data table notebook</a>'\n",
              "            + ' to learn more about interactive tables.';\n",
              "          element.innerHTML = '';\n",
              "          dataTable['output_type'] = 'display_data';\n",
              "          await google.colab.output.renderOutput(dataTable, element);\n",
              "          const docLink = document.createElement('div');\n",
              "          docLink.innerHTML = docLinkHtml;\n",
              "          element.appendChild(docLink);\n",
              "        }\n",
              "      </script>\n",
              "    </div>\n",
              "  </div>\n",
              "  "
            ],
            "text/plain": [
              "                 Model Name  Mean Absolute Error  Mean Squared Error  \\\n",
              "0         Linear Regression             0.115333            0.024412   \n",
              "1   Decision Tree Regressor             0.115333            0.024412   \n",
              "2   Decision Tree Regressor             0.094622            0.026340   \n",
              "3    RandomForest Regressor             0.084591            0.017730   \n",
              "4    RandomForest Regressor             0.084999            0.017823   \n",
              "5    RandomForest Regressor             0.084470            0.017817   \n",
              "6  Support Vector Regressor             0.084470            0.017817   \n",
              "7  Support Vector Regressor             0.119092            0.025124   \n",
              "8  Support Vector Regressor             0.113827            0.022862   \n",
              "\n",
              "   R2 Squared Error  \n",
              "0          0.229902  \n",
              "1          0.229902  \n",
              "2          0.169093  \n",
              "3          0.440701  \n",
              "4          0.437770  \n",
              "5          0.437953  \n",
              "6          0.437953  \n",
              "7          0.207452  \n",
              "8          0.278805  "
            ]
          },
          "metadata": {},
          "execution_count": 132
        }
      ]
    },
    {
      "cell_type": "markdown",
      "source": [
        "Compare with actual values and predicted values in a plot"
      ],
      "metadata": {
        "id": "ayZMg_JEhz3S"
      }
    },
    {
      "cell_type": "code",
      "source": [
        "plt.plot(Y_test, color='red', label='Actual Value')\n",
        "plt.plot(svModel_predict, color='green', label='Predicted Value')\n",
        "plt.title('Actual Value Vs Predicted Value')\n",
        "plt.xlabel('No of Values')\n",
        "plt.ylabel('actual_productivity')\n",
        "plt.legend()\n",
        "plt.show()"
      ],
      "metadata": {
        "colab": {
          "base_uri": "https://localhost:8080/",
          "height": 295
        },
        "id": "FvzP2FOchuNa",
        "outputId": "fae9f33e-6bb3-4474-b450-6fe5d73a186b"
      },
      "execution_count": 127,
      "outputs": [
        {
          "output_type": "display_data",
          "data": {
            "image/png": "[encoded data removed]",
            "text/plain": [
              "<Figure size 432x288 with 1 Axes>"
            ]
          },
          "metadata": {
            "needs_background": "light"
          }
        }
      ]
    },
    {
      "cell_type": "markdown",
      "source": [
        "ANN Model"
      ],
      "metadata": {
        "id": "a-jPgfrLjmhv"
      }
    },
    {
      "cell_type": "code",
      "source": [
        "from tensorflow import keras\n",
        "from keras import models\n",
        "from keras import layers\n",
        "from keras import optimizers"
      ],
      "metadata": {
        "id": "kjlO23JRkBcm"
      },
      "execution_count": 136,
      "outputs": []
    },
    {
      "cell_type": "code",
      "source": [
        "ANNmodel = keras.Sequential([keras.layers.Dense(input_shape, input_shape=(input_shape,), activation='linear'),\n",
        "                    keras.layers.Dense(1,activation='linear')\n",
        "])"
      ],
      "metadata": {
        "id": "CWH6H1e0jig_"
      },
      "execution_count": 139,
      "outputs": []
    },
    {
      "cell_type": "code",
      "source": [
        "ANNmodel.compile(\n",
        "    optimizer='adam',\n",
        "    loss='mean_squared_error'\n",
        ")"
      ],
      "metadata": {
        "id": "s_gV7lg0kiZW"
      },
      "execution_count": 140,
      "outputs": []
    },
    {
      "cell_type": "code",
      "source": [
        "ANNmodel.fit(X_train, Y_train)"
      ],
      "metadata": {
        "id": "BHdtC40YkmVc"
      },
      "execution_count": null,
      "outputs": []
    },
    {
      "cell_type": "markdown",
      "source": [
        "ANN model Evaluation"
      ],
      "metadata": {
        "id": "cF3_LuhflWcV"
      }
    },
    {
      "cell_type": "code",
      "source": [
        "ANNmodel.evaluate(X_train, Y_train)"
      ],
      "metadata": {
        "colab": {
          "base_uri": "https://localhost:8080/"
        },
        "id": "z_lIlT8Vk5L0",
        "outputId": "84ceade0-4d14-4f1e-92f7-979f4912502b"
      },
      "execution_count": 148,
      "outputs": [
        {
          "output_type": "stream",
          "name": "stdout",
          "text": [
            "27/27 [==============================] - 1s 4ms/step - loss: 0.0211\n"
          ]
        },
        {
          "output_type": "execute_result",
          "data": {
            "text/plain": [
              "0.021142810583114624"
            ]
          },
          "metadata": {},
          "execution_count": 148
        }
      ]
    },
    {
      "cell_type": "code",
      "source": [
        "ANN_predict = ANNmodel.predict( X_test )\n",
        "metrics_Cal = evaluate_model('ANN', Y_test, ANN_predict, metrics_Cal)"
      ],
      "metadata": {
        "id": "wVVQS5C0nIdY"
      },
      "execution_count": 150,
      "outputs": []
    },
    {
      "cell_type": "code",
      "source": [
        "metrics_Cal"
      ],
      "metadata": {
        "colab": {
          "base_uri": "https://localhost:8080/",
          "height": 363
        },
        "id": "7wKoOOv5nqwR",
        "outputId": "ca0f6e27-54df-4956-9591-66d9d5a4e9e1"
      },
      "execution_count": 151,
      "outputs": [
        {
          "output_type": "execute_result",
          "data": {
            "text/html": [
              "\n",
              "  <div id=\"df-dd666096-70de-48b7-a3ad-63e58465cf8b\">\n",
              "    <div class=\"colab-df-container\">\n",
              "      <div>\n",
              "<style scoped>\n",
              "    .dataframe tbody tr th:only-of-type {\n",
              "        vertical-align: middle;\n",
              "    }\n",
              "\n",
              "    .dataframe tbody tr th {\n",
              "        vertical-align: top;\n",
              "    }\n",
              "\n",
              "    .dataframe thead th {\n",
              "        text-align: right;\n",
              "    }\n",
              "</style>\n",
              "<table border=\"1\" class=\"dataframe\">\n",
              "  <thead>\n",
              "    <tr style=\"text-align: right;\">\n",
              "      <th></th>\n",
              "      <th>Model Name</th>\n",
              "      <th>Mean Absolute Error</th>\n",
              "      <th>Mean Squared Error</th>\n",
              "      <th>R2 Squared Error</th>\n",
              "    </tr>\n",
              "  </thead>\n",
              "  <tbody>\n",
              "    <tr>\n",
              "      <th>0</th>\n",
              "      <td>Linear Regression</td>\n",
              "      <td>0.115333</td>\n",
              "      <td>0.024412</td>\n",
              "      <td>0.229902</td>\n",
              "    </tr>\n",
              "    <tr>\n",
              "      <th>1</th>\n",
              "      <td>Decision Tree Regressor</td>\n",
              "      <td>0.115333</td>\n",
              "      <td>0.024412</td>\n",
              "      <td>0.229902</td>\n",
              "    </tr>\n",
              "    <tr>\n",
              "      <th>2</th>\n",
              "      <td>Decision Tree Regressor</td>\n",
              "      <td>0.094622</td>\n",
              "      <td>0.026340</td>\n",
              "      <td>0.169093</td>\n",
              "    </tr>\n",
              "    <tr>\n",
              "      <th>3</th>\n",
              "      <td>RandomForest Regressor</td>\n",
              "      <td>0.084591</td>\n",
              "      <td>0.017730</td>\n",
              "      <td>0.440701</td>\n",
              "    </tr>\n",
              "    <tr>\n",
              "      <th>4</th>\n",
              "      <td>RandomForest Regressor</td>\n",
              "      <td>0.084999</td>\n",
              "      <td>0.017823</td>\n",
              "      <td>0.437770</td>\n",
              "    </tr>\n",
              "    <tr>\n",
              "      <th>5</th>\n",
              "      <td>RandomForest Regressor</td>\n",
              "      <td>0.084470</td>\n",
              "      <td>0.017817</td>\n",
              "      <td>0.437953</td>\n",
              "    </tr>\n",
              "    <tr>\n",
              "      <th>6</th>\n",
              "      <td>Support Vector Regressor</td>\n",
              "      <td>0.084470</td>\n",
              "      <td>0.017817</td>\n",
              "      <td>0.437953</td>\n",
              "    </tr>\n",
              "    <tr>\n",
              "      <th>7</th>\n",
              "      <td>Support Vector Regressor</td>\n",
              "      <td>0.119092</td>\n",
              "      <td>0.025124</td>\n",
              "      <td>0.207452</td>\n",
              "    </tr>\n",
              "    <tr>\n",
              "      <th>8</th>\n",
              "      <td>Support Vector Regressor</td>\n",
              "      <td>0.113827</td>\n",
              "      <td>0.022862</td>\n",
              "      <td>0.278805</td>\n",
              "    </tr>\n",
              "    <tr>\n",
              "      <th>9</th>\n",
              "      <td>ANN</td>\n",
              "      <td>0.118319</td>\n",
              "      <td>0.024692</td>\n",
              "      <td>0.221072</td>\n",
              "    </tr>\n",
              "  </tbody>\n",
              "</table>\n",
              "</div>\n",
              "      <button class=\"colab-df-convert\" onclick=\"convertToInteractive('df-dd666096-70de-48b7-a3ad-63e58465cf8b')\"\n",
              "              title=\"Convert this dataframe to an interactive table.\"\n",
              "              style=\"display:none;\">\n",
              "        \n",
              "  <svg xmlns=\"http://www.w3.org/2000/svg\" height=\"24px\"viewBox=\"0 0 24 24\"\n",
              "       width=\"24px\">\n",
              "    <path d=\"M0 0h24v24H0V0z\" fill=\"none\"/>\n",
              "    <path d=\"M18.56 5.44l.94 2.06.94-2.06 2.06-.94-2.06-.94-.94-2.06-.94 2.06-2.06.94zm-11 1L8.5 8.5l.94-2.06 2.06-.94-2.06-.94L8.5 2.5l-.94 2.06-2.06.94zm10 10l.94 2.06.94-2.06 2.06-.94-2.06-.94-.94-2.06-.94 2.06-2.06.94z\"/><path d=\"M17.41 7.96l-1.37-1.37c-.4-.4-.92-.59-1.43-.59-.52 0-1.04.2-1.43.59L10.3 9.45l-7.72 7.72c-.78.78-.78 2.05 0 2.83L4 21.41c.39.39.9.59 1.41.59.51 0 1.02-.2 1.41-.59l7.78-7.78 2.81-2.81c.8-.78.8-2.07 0-2.86zM5.41 20L4 18.59l7.72-7.72 1.47 1.35L5.41 20z\"/>\n",
              "  </svg>\n",
              "      </button>\n",
              "      \n",
              "  <style>\n",
              "    .colab-df-container {\n",
              "      display:flex;\n",
              "      flex-wrap:wrap;\n",
              "      gap: 12px;\n",
              "    }\n",
              "\n",
              "    .colab-df-convert {\n",
              "      background-color: #E8F0FE;\n",
              "      border: none;\n",
              "      border-radius: 50%;\n",
              "      cursor: pointer;\n",
              "      display: none;\n",
              "      fill: #1967D2;\n",
              "      height: 32px;\n",
              "      padding: 0 0 0 0;\n",
              "      width: 32px;\n",
              "    }\n",
              "\n",
              "    .colab-df-convert:hover {\n",
              "      background-color: #E2EBFA;\n",
              "      box-shadow: 0px 1px 2px rgba(60, 64, 67, 0.3), 0px 1px 3px 1px rgba(60, 64, 67, 0.15);\n",
              "      fill: #174EA6;\n",
              "    }\n",
              "\n",
              "    [theme=dark] .colab-df-convert {\n",
              "      background-color: #3B4455;\n",
              "      fill: #D2E3FC;\n",
              "    }\n",
              "\n",
              "    [theme=dark] .colab-df-convert:hover {\n",
              "      background-color: #434B5C;\n",
              "      box-shadow: 0px 1px 3px 1px rgba(0, 0, 0, 0.15);\n",
              "      filter: drop-shadow(0px 1px 2px rgba(0, 0, 0, 0.3));\n",
              "      fill: #FFFFFF;\n",
              "    }\n",
              "  </style>\n",
              "\n",
              "      <script>\n",
              "        const buttonEl =\n",
              "          document.querySelector('#df-dd666096-70de-48b7-a3ad-63e58465cf8b button.colab-df-convert');\n",
              "        buttonEl.style.display =\n",
              "          google.colab.kernel.accessAllowed ? 'block' : 'none';\n",
              "\n",
              "        async function convertToInteractive(key) {\n",
              "          const element = document.querySelector('#df-dd666096-70de-48b7-a3ad-63e58465cf8b');\n",
              "          const dataTable =\n",
              "            await google.colab.kernel.invokeFunction('convertToInteractive',\n",
              "                                                     [key], {});\n",
              "          if (!dataTable) return;\n",
              "\n",
              "          const docLinkHtml = 'Like what you see? Visit the ' +\n",
              "            '<a target=\"_blank\" href=https://colab.research.google.com/notebooks/data_table.ipynb>data table notebook</a>'\n",
              "            + ' to learn more about interactive tables.';\n",
              "          element.innerHTML = '';\n",
              "          dataTable['output_type'] = 'display_data';\n",
              "          await google.colab.output.renderOutput(dataTable, element);\n",
              "          const docLink = document.createElement('div');\n",
              "          docLink.innerHTML = docLinkHtml;\n",
              "          element.appendChild(docLink);\n",
              "        }\n",
              "      </script>\n",
              "    </div>\n",
              "  </div>\n",
              "  "
            ],
            "text/plain": [
              "                 Model Name  Mean Absolute Error  Mean Squared Error  \\\n",
              "0         Linear Regression             0.115333            0.024412   \n",
              "1   Decision Tree Regressor             0.115333            0.024412   \n",
              "2   Decision Tree Regressor             0.094622            0.026340   \n",
              "3    RandomForest Regressor             0.084591            0.017730   \n",
              "4    RandomForest Regressor             0.084999            0.017823   \n",
              "5    RandomForest Regressor             0.084470            0.017817   \n",
              "6  Support Vector Regressor             0.084470            0.017817   \n",
              "7  Support Vector Regressor             0.119092            0.025124   \n",
              "8  Support Vector Regressor             0.113827            0.022862   \n",
              "9                       ANN             0.118319            0.024692   \n",
              "\n",
              "   R2 Squared Error  \n",
              "0          0.229902  \n",
              "1          0.229902  \n",
              "2          0.169093  \n",
              "3          0.440701  \n",
              "4          0.437770  \n",
              "5          0.437953  \n",
              "6          0.437953  \n",
              "7          0.207452  \n",
              "8          0.278805  \n",
              "9          0.221072  "
            ]
          },
          "metadata": {},
          "execution_count": 151
        }
      ]
    },
    {
      "cell_type": "markdown",
      "source": [
        "Compare with actual values and predicted values in a plot"
      ],
      "metadata": {
        "id": "pfTgxoSsoL5N"
      }
    },
    {
      "cell_type": "code",
      "source": [
        "plt.plot(Y_test, color='red', label='Actual Value')\n",
        "plt.plot(ANN_predict, color='green', label='Predicted Value')\n",
        "plt.title('Actual Value Vs Predicted Value')\n",
        "plt.xlabel('No of Values')\n",
        "plt.ylabel('actual_productivity')\n",
        "plt.legend()\n",
        "plt.show()"
      ],
      "metadata": {
        "colab": {
          "base_uri": "https://localhost:8080/",
          "height": 295
        },
        "id": "Aiv1zsVpoTBl",
        "outputId": "455b7086-bd14-4411-c20a-5caae8d0d4cf"
      },
      "execution_count": 152,
      "outputs": [
        {
          "output_type": "display_data",
          "data": {
            "image/png": "[encoded data removed]",
            "text/plain": [
              "<Figure size 432x288 with 1 Axes>"
            ]
          },
          "metadata": {
            "needs_background": "light"
          }
        }
      ]
    },
    {
      "cell_type": "markdown",
      "source": [
        "Deep Neural Network Model"
      ],
      "metadata": {
        "id": "FqAM8rApoAwH"
      }
    },
    {
      "cell_type": "code",
      "source": [
        "DNNmodel = keras.Sequential([\n",
        "                          keras.layers.Dense(input_shape, input_shape=(input_shape,), activation='linear'),\n",
        "                          keras.layers.Dense(64, activation='linear'),\n",
        "                          keras.layers.Dense(32, activation='linear'),\n",
        "                          keras.layers.Dense(1,activation='linear')\n",
        "])"
      ],
      "metadata": {
        "id": "lVb2z0OWoHP3"
      },
      "execution_count": 153,
      "outputs": []
    },
    {
      "cell_type": "code",
      "source": [
        "DNNmodel.compile(\n",
        "    optimizer='adam',\n",
        "    loss='mean_squared_error'\n",
        ")"
      ],
      "metadata": {
        "id": "QInSFT2ZpKLt"
      },
      "execution_count": 154,
      "outputs": []
    },
    {
      "cell_type": "code",
      "source": [
        "DNNmodel.fit(X_train, Y_train, epochs=100)"
      ],
      "metadata": {
        "id": "kd5Bqr5DpRHd"
      },
      "execution_count": null,
      "outputs": []
    },
    {
      "cell_type": "markdown",
      "source": [
        "DNN Model Evaluation"
      ],
      "metadata": {
        "id": "YriDZ5LspgC9"
      }
    },
    {
      "cell_type": "code",
      "source": [
        "DNNmodel.evaluate(X_train, Y_train)"
      ],
      "metadata": {
        "colab": {
          "base_uri": "https://localhost:8080/"
        },
        "id": "qgLg1aJtpd9s",
        "outputId": "cdf44d2a-167a-4eee-af05-6125549e3051"
      },
      "execution_count": 158,
      "outputs": [
        {
          "output_type": "stream",
          "name": "stdout",
          "text": [
            "27/27 [==============================] - 0s 4ms/step - loss: 0.0357\n"
          ]
        },
        {
          "output_type": "execute_result",
          "data": {
            "text/plain": [
              "0.03571990132331848"
            ]
          },
          "metadata": {},
          "execution_count": 158
        }
      ]
    },
    {
      "cell_type": "code",
      "source": [
        "DNN_predict = DNNmodel.predict( X_test )\n",
        "metrics_Cal = evaluate_model('DNN', Y_test, DNN_predict, metrics_Cal)"
      ],
      "metadata": {
        "id": "AAt98vDup8jy"
      },
      "execution_count": 159,
      "outputs": []
    },
    {
      "cell_type": "code",
      "source": [
        "metrics_Cal"
      ],
      "metadata": {
        "colab": {
          "base_uri": "https://localhost:8080/",
          "height": 394
        },
        "id": "yh4St91wqFKq",
        "outputId": "21e54521-698b-4e75-fd71-79112087968a"
      },
      "execution_count": 160,
      "outputs": [
        {
          "output_type": "execute_result",
          "data": {
            "text/html": [
              "\n",
              "  <div id=\"df-3b20b249-dc74-4987-a1d1-a941caef7f87\">\n",
              "    <div class=\"colab-df-container\">\n",
              "      <div>\n",
              "<style scoped>\n",
              "    .dataframe tbody tr th:only-of-type {\n",
              "        vertical-align: middle;\n",
              "    }\n",
              "\n",
              "    .dataframe tbody tr th {\n",
              "        vertical-align: top;\n",
              "    }\n",
              "\n",
              "    .dataframe thead th {\n",
              "        text-align: right;\n",
              "    }\n",
              "</style>\n",
              "<table border=\"1\" class=\"dataframe\">\n",
              "  <thead>\n",
              "    <tr style=\"text-align: right;\">\n",
              "      <th></th>\n",
              "      <th>Model Name</th>\n",
              "      <th>Mean Absolute Error</th>\n",
              "      <th>Mean Squared Error</th>\n",
              "      <th>R2 Squared Error</th>\n",
              "    </tr>\n",
              "  </thead>\n",
              "  <tbody>\n",
              "    <tr>\n",
              "      <th>0</th>\n",
              "      <td>Linear Regression</td>\n",
              "      <td>0.115333</td>\n",
              "      <td>0.024412</td>\n",
              "      <td>0.229902</td>\n",
              "    </tr>\n",
              "    <tr>\n",
              "      <th>1</th>\n",
              "      <td>Decision Tree Regressor</td>\n",
              "      <td>0.115333</td>\n",
              "      <td>0.024412</td>\n",
              "      <td>0.229902</td>\n",
              "    </tr>\n",
              "    <tr>\n",
              "      <th>2</th>\n",
              "      <td>Decision Tree Regressor</td>\n",
              "      <td>0.094622</td>\n",
              "      <td>0.026340</td>\n",
              "      <td>0.169093</td>\n",
              "    </tr>\n",
              "    <tr>\n",
              "      <th>3</th>\n",
              "      <td>RandomForest Regressor</td>\n",
              "      <td>0.084591</td>\n",
              "      <td>0.017730</td>\n",
              "      <td>0.440701</td>\n",
              "    </tr>\n",
              "    <tr>\n",
              "      <th>4</th>\n",
              "      <td>RandomForest Regressor</td>\n",
              "      <td>0.084999</td>\n",
              "      <td>0.017823</td>\n",
              "      <td>0.437770</td>\n",
              "    </tr>\n",
              "    <tr>\n",
              "      <th>5</th>\n",
              "      <td>RandomForest Regressor</td>\n",
              "      <td>0.084470</td>\n",
              "      <td>0.017817</td>\n",
              "      <td>0.437953</td>\n",
              "    </tr>\n",
              "    <tr>\n",
              "      <th>6</th>\n",
              "      <td>Support Vector Regressor</td>\n",
              "      <td>0.084470</td>\n",
              "      <td>0.017817</td>\n",
              "      <td>0.437953</td>\n",
              "    </tr>\n",
              "    <tr>\n",
              "      <th>7</th>\n",
              "      <td>Support Vector Regressor</td>\n",
              "      <td>0.119092</td>\n",
              "      <td>0.025124</td>\n",
              "      <td>0.207452</td>\n",
              "    </tr>\n",
              "    <tr>\n",
              "      <th>8</th>\n",
              "      <td>Support Vector Regressor</td>\n",
              "      <td>0.113827</td>\n",
              "      <td>0.022862</td>\n",
              "      <td>0.278805</td>\n",
              "    </tr>\n",
              "    <tr>\n",
              "      <th>9</th>\n",
              "      <td>ANN</td>\n",
              "      <td>0.118319</td>\n",
              "      <td>0.024692</td>\n",
              "      <td>0.221072</td>\n",
              "    </tr>\n",
              "    <tr>\n",
              "      <th>10</th>\n",
              "      <td>DNN</td>\n",
              "      <td>0.148570</td>\n",
              "      <td>0.046094</td>\n",
              "      <td>-0.454069</td>\n",
              "    </tr>\n",
              "  </tbody>\n",
              "</table>\n",
              "</div>\n",
              "      <button class=\"colab-df-convert\" onclick=\"convertToInteractive('df-3b20b249-dc74-4987-a1d1-a941caef7f87')\"\n",
              "              title=\"Convert this dataframe to an interactive table.\"\n",
              "              style=\"display:none;\">\n",
              "        \n",
              "  <svg xmlns=\"http://www.w3.org/2000/svg\" height=\"24px\"viewBox=\"0 0 24 24\"\n",
              "       width=\"24px\">\n",
              "    <path d=\"M0 0h24v24H0V0z\" fill=\"none\"/>\n",
              "    <path d=\"M18.56 5.44l.94 2.06.94-2.06 2.06-.94-2.06-.94-.94-2.06-.94 2.06-2.06.94zm-11 1L8.5 8.5l.94-2.06 2.06-.94-2.06-.94L8.5 2.5l-.94 2.06-2.06.94zm10 10l.94 2.06.94-2.06 2.06-.94-2.06-.94-.94-2.06-.94 2.06-2.06.94z\"/><path d=\"M17.41 7.96l-1.37-1.37c-.4-.4-.92-.59-1.43-.59-.52 0-1.04.2-1.43.59L10.3 9.45l-7.72 7.72c-.78.78-.78 2.05 0 2.83L4 21.41c.39.39.9.59 1.41.59.51 0 1.02-.2 1.41-.59l7.78-7.78 2.81-2.81c.8-.78.8-2.07 0-2.86zM5.41 20L4 18.59l7.72-7.72 1.47 1.35L5.41 20z\"/>\n",
              "  </svg>\n",
              "      </button>\n",
              "      \n",
              "  <style>\n",
              "    .colab-df-container {\n",
              "      display:flex;\n",
              "      flex-wrap:wrap;\n",
              "      gap: 12px;\n",
              "    }\n",
              "\n",
              "    .colab-df-convert {\n",
              "      background-color: #E8F0FE;\n",
              "      border: none;\n",
              "      border-radius: 50%;\n",
              "      cursor: pointer;\n",
              "      display: none;\n",
              "      fill: #1967D2;\n",
              "      height: 32px;\n",
              "      padding: 0 0 0 0;\n",
              "      width: 32px;\n",
              "    }\n",
              "\n",
              "    .colab-df-convert:hover {\n",
              "      background-color: #E2EBFA;\n",
              "      box-shadow: 0px 1px 2px rgba(60, 64, 67, 0.3), 0px 1px 3px 1px rgba(60, 64, 67, 0.15);\n",
              "      fill: #174EA6;\n",
              "    }\n",
              "\n",
              "    [theme=dark] .colab-df-convert {\n",
              "      background-color: #3B4455;\n",
              "      fill: #D2E3FC;\n",
              "    }\n",
              "\n",
              "    [theme=dark] .colab-df-convert:hover {\n",
              "      background-color: #434B5C;\n",
              "      box-shadow: 0px 1px 3px 1px rgba(0, 0, 0, 0.15);\n",
              "      filter: drop-shadow(0px 1px 2px rgba(0, 0, 0, 0.3));\n",
              "      fill: #FFFFFF;\n",
              "    }\n",
              "  </style>\n",
              "\n",
              "      <script>\n",
              "        const buttonEl =\n",
              "          document.querySelector('#df-3b20b249-dc74-4987-a1d1-a941caef7f87 button.colab-df-convert');\n",
              "        buttonEl.style.display =\n",
              "          google.colab.kernel.accessAllowed ? 'block' : 'none';\n",
              "\n",
              "        async function convertToInteractive(key) {\n",
              "          const element = document.querySelector('#df-3b20b249-dc74-4987-a1d1-a941caef7f87');\n",
              "          const dataTable =\n",
              "            await google.colab.kernel.invokeFunction('convertToInteractive',\n",
              "                                                     [key], {});\n",
              "          if (!dataTable) return;\n",
              "\n",
              "          const docLinkHtml = 'Like what you see? Visit the ' +\n",
              "            '<a target=\"_blank\" href=https://colab.research.google.com/notebooks/data_table.ipynb>data table notebook</a>'\n",
              "            + ' to learn more about interactive tables.';\n",
              "          element.innerHTML = '';\n",
              "          dataTable['output_type'] = 'display_data';\n",
              "          await google.colab.output.renderOutput(dataTable, element);\n",
              "          const docLink = document.createElement('div');\n",
              "          docLink.innerHTML = docLinkHtml;\n",
              "          element.appendChild(docLink);\n",
              "        }\n",
              "      </script>\n",
              "    </div>\n",
              "  </div>\n",
              "  "
            ],
            "text/plain": [
              "                  Model Name  Mean Absolute Error  Mean Squared Error  \\\n",
              "0          Linear Regression             0.115333            0.024412   \n",
              "1    Decision Tree Regressor             0.115333            0.024412   \n",
              "2    Decision Tree Regressor             0.094622            0.026340   \n",
              "3     RandomForest Regressor             0.084591            0.017730   \n",
              "4     RandomForest Regressor             0.084999            0.017823   \n",
              "5     RandomForest Regressor             0.084470            0.017817   \n",
              "6   Support Vector Regressor             0.084470            0.017817   \n",
              "7   Support Vector Regressor             0.119092            0.025124   \n",
              "8   Support Vector Regressor             0.113827            0.022862   \n",
              "9                        ANN             0.118319            0.024692   \n",
              "10                       DNN             0.148570            0.046094   \n",
              "\n",
              "    R2 Squared Error  \n",
              "0           0.229902  \n",
              "1           0.229902  \n",
              "2           0.169093  \n",
              "3           0.440701  \n",
              "4           0.437770  \n",
              "5           0.437953  \n",
              "6           0.437953  \n",
              "7           0.207452  \n",
              "8           0.278805  \n",
              "9           0.221072  \n",
              "10         -0.454069  "
            ]
          },
          "metadata": {},
          "execution_count": 160
        }
      ]
    },
    {
      "cell_type": "markdown",
      "source": [
        "Compare with actual values and predicted values in a plot"
      ],
      "metadata": {
        "id": "fonnVLNxqUHa"
      }
    },
    {
      "cell_type": "code",
      "source": [
        "plt.plot(Y_test, color='red', label='Actual Value')\n",
        "plt.plot(DNN_predict, color='green', label='Predicted Value')\n",
        "plt.title('Actual Value Vs Predicted Value')\n",
        "plt.xlabel('No of Values')\n",
        "plt.ylabel('actual_productivity')\n",
        "plt.legend()\n",
        "plt.show()"
      ],
      "metadata": {
        "colab": {
          "base_uri": "https://localhost:8080/",
          "height": 295
        },
        "id": "cvy3BQMdqTWq",
        "outputId": "4eca98fd-7d8a-4240-e149-f3830e5860fe"
      },
      "execution_count": 161,
      "outputs": [
        {
          "output_type": "display_data",
          "data": {
            "image/png": "[encoded data removed]",
            "text/plain": [
              "<Figure size 432x288 with 1 Axes>"
            ]
          },
          "metadata": {
            "needs_background": "light"
          }
        }
      ]
    },
    {
      "cell_type": "code",
      "source": [
        "Summary_metrics = metrics_Cal.drop([2, 4, 5,6,7], axis=0)\n",
        "Summary_metrics"
      ],
      "metadata": {
        "colab": {
          "base_uri": "https://localhost:8080/",
          "height": 238
        },
        "id": "SidYufxmq4Ax",
        "outputId": "b97a8ab4-3321-4693-fed6-a2affcd50170"
      },
      "execution_count": 162,
      "outputs": [
        {
          "output_type": "execute_result",
          "data": {
            "text/html": [
              "\n",
              "  <div id=\"df-00b43a37-3cac-4bce-873d-68e983a1daef\">\n",
              "    <div class=\"colab-df-container\">\n",
              "      <div>\n",
              "<style scoped>\n",
              "    .dataframe tbody tr th:only-of-type {\n",
              "        vertical-align: middle;\n",
              "    }\n",
              "\n",
              "    .dataframe tbody tr th {\n",
              "        vertical-align: top;\n",
              "    }\n",
              "\n",
              "    .dataframe thead th {\n",
              "        text-align: right;\n",
              "    }\n",
              "</style>\n",
              "<table border=\"1\" class=\"dataframe\">\n",
              "  <thead>\n",
              "    <tr style=\"text-align: right;\">\n",
              "      <th></th>\n",
              "      <th>Model Name</th>\n",
              "      <th>Mean Absolute Error</th>\n",
              "      <th>Mean Squared Error</th>\n",
              "      <th>R2 Squared Error</th>\n",
              "    </tr>\n",
              "  </thead>\n",
              "  <tbody>\n",
              "    <tr>\n",
              "      <th>0</th>\n",
              "      <td>Linear Regression</td>\n",
              "      <td>0.115333</td>\n",
              "      <td>0.024412</td>\n",
              "      <td>0.229902</td>\n",
              "    </tr>\n",
              "    <tr>\n",
              "      <th>1</th>\n",
              "      <td>Decision Tree Regressor</td>\n",
              "      <td>0.115333</td>\n",
              "      <td>0.024412</td>\n",
              "      <td>0.229902</td>\n",
              "    </tr>\n",
              "    <tr>\n",
              "      <th>3</th>\n",
              "      <td>RandomForest Regressor</td>\n",
              "      <td>0.084591</td>\n",
              "      <td>0.017730</td>\n",
              "      <td>0.440701</td>\n",
              "    </tr>\n",
              "    <tr>\n",
              "      <th>8</th>\n",
              "      <td>Support Vector Regressor</td>\n",
              "      <td>0.113827</td>\n",
              "      <td>0.022862</td>\n",
              "      <td>0.278805</td>\n",
              "    </tr>\n",
              "    <tr>\n",
              "      <th>9</th>\n",
              "      <td>ANN</td>\n",
              "      <td>0.118319</td>\n",
              "      <td>0.024692</td>\n",
              "      <td>0.221072</td>\n",
              "    </tr>\n",
              "    <tr>\n",
              "      <th>10</th>\n",
              "      <td>DNN</td>\n",
              "      <td>0.148570</td>\n",
              "      <td>0.046094</td>\n",
              "      <td>-0.454069</td>\n",
              "    </tr>\n",
              "  </tbody>\n",
              "</table>\n",
              "</div>\n",
              "      <button class=\"colab-df-convert\" onclick=\"convertToInteractive('df-00b43a37-3cac-4bce-873d-68e983a1daef')\"\n",
              "              title=\"Convert this dataframe to an interactive table.\"\n",
              "              style=\"display:none;\">\n",
              "        \n",
              "  <svg xmlns=\"http://www.w3.org/2000/svg\" height=\"24px\"viewBox=\"0 0 24 24\"\n",
              "       width=\"24px\">\n",
              "    <path d=\"M0 0h24v24H0V0z\" fill=\"none\"/>\n",
              "    <path d=\"M18.56 5.44l.94 2.06.94-2.06 2.06-.94-2.06-.94-.94-2.06-.94 2.06-2.06.94zm-11 1L8.5 8.5l.94-2.06 2.06-.94-2.06-.94L8.5 2.5l-.94 2.06-2.06.94zm10 10l.94 2.06.94-2.06 2.06-.94-2.06-.94-.94-2.06-.94 2.06-2.06.94z\"/><path d=\"M17.41 7.96l-1.37-1.37c-.4-.4-.92-.59-1.43-.59-.52 0-1.04.2-1.43.59L10.3 9.45l-7.72 7.72c-.78.78-.78 2.05 0 2.83L4 21.41c.39.39.9.59 1.41.59.51 0 1.02-.2 1.41-.59l7.78-7.78 2.81-2.81c.8-.78.8-2.07 0-2.86zM5.41 20L4 18.59l7.72-7.72 1.47 1.35L5.41 20z\"/>\n",
              "  </svg>\n",
              "      </button>\n",
              "      \n",
              "  <style>\n",
              "    .colab-df-container {\n",
              "      display:flex;\n",
              "      flex-wrap:wrap;\n",
              "      gap: 12px;\n",
              "    }\n",
              "\n",
              "    .colab-df-convert {\n",
              "      background-color: #E8F0FE;\n",
              "      border: none;\n",
              "      border-radius: 50%;\n",
              "      cursor: pointer;\n",
              "      display: none;\n",
              "      fill: #1967D2;\n",
              "      height: 32px;\n",
              "      padding: 0 0 0 0;\n",
              "      width: 32px;\n",
              "    }\n",
              "\n",
              "    .colab-df-convert:hover {\n",
              "      background-color: #E2EBFA;\n",
              "      box-shadow: 0px 1px 2px rgba(60, 64, 67, 0.3), 0px 1px 3px 1px rgba(60, 64, 67, 0.15);\n",
              "      fill: #174EA6;\n",
              "    }\n",
              "\n",
              "    [theme=dark] .colab-df-convert {\n",
              "      background-color: #3B4455;\n",
              "      fill: #D2E3FC;\n",
              "    }\n",
              "\n",
              "    [theme=dark] .colab-df-convert:hover {\n",
              "      background-color: #434B5C;\n",
              "      box-shadow: 0px 1px 3px 1px rgba(0, 0, 0, 0.15);\n",
              "      filter: drop-shadow(0px 1px 2px rgba(0, 0, 0, 0.3));\n",
              "      fill: #FFFFFF;\n",
              "    }\n",
              "  </style>\n",
              "\n",
              "      <script>\n",
              "        const buttonEl =\n",
              "          document.querySelector('#df-00b43a37-3cac-4bce-873d-68e983a1daef button.colab-df-convert');\n",
              "        buttonEl.style.display =\n",
              "          google.colab.kernel.accessAllowed ? 'block' : 'none';\n",
              "\n",
              "        async function convertToInteractive(key) {\n",
              "          const element = document.querySelector('#df-00b43a37-3cac-4bce-873d-68e983a1daef');\n",
              "          const dataTable =\n",
              "            await google.colab.kernel.invokeFunction('convertToInteractive',\n",
              "                                                     [key], {});\n",
              "          if (!dataTable) return;\n",
              "\n",
              "          const docLinkHtml = 'Like what you see? Visit the ' +\n",
              "            '<a target=\"_blank\" href=https://colab.research.google.com/notebooks/data_table.ipynb>data table notebook</a>'\n",
              "            + ' to learn more about interactive tables.';\n",
              "          element.innerHTML = '';\n",
              "          dataTable['output_type'] = 'display_data';\n",
              "          await google.colab.output.renderOutput(dataTable, element);\n",
              "          const docLink = document.createElement('div');\n",
              "          docLink.innerHTML = docLinkHtml;\n",
              "          element.appendChild(docLink);\n",
              "        }\n",
              "      </script>\n",
              "    </div>\n",
              "  </div>\n",
              "  "
            ],
            "text/plain": [
              "                  Model Name  Mean Absolute Error  Mean Squared Error  \\\n",
              "0          Linear Regression             0.115333            0.024412   \n",
              "1    Decision Tree Regressor             0.115333            0.024412   \n",
              "3     RandomForest Regressor             0.084591            0.017730   \n",
              "8   Support Vector Regressor             0.113827            0.022862   \n",
              "9                        ANN             0.118319            0.024692   \n",
              "10                       DNN             0.148570            0.046094   \n",
              "\n",
              "    R2 Squared Error  \n",
              "0           0.229902  \n",
              "1           0.229902  \n",
              "3           0.440701  \n",
              "8           0.278805  \n",
              "9           0.221072  \n",
              "10         -0.454069  "
            ]
          },
          "metadata": {},
          "execution_count": 162
        }
      ]
    },
    {
      "cell_type": "markdown",
      "source": [
        "Creating plot using R2 Value"
      ],
      "metadata": {
        "id": "IAvIh9MUrnuZ"
      }
    },
    {
      "cell_type": "code",
      "source": [
        "plot_dset = Summary_metrics"
      ],
      "metadata": {
        "id": "MdmY6p4Ate1E"
      },
      "execution_count": 168,
      "outputs": []
    },
    {
      "cell_type": "code",
      "source": [
        "plt.figure(figsize=(10, 5))\n",
        "sns.set_theme(style=\"whitegrid\")\n",
        "ax = sns.barplot(x=\"Model Name\", y=\"R2 Squared Error\", data=plot_dset)\n",
        "plt.xticks(rotation=90)"
      ],
      "metadata": {
        "colab": {
          "base_uri": "https://localhost:8080/",
          "height": 487
        },
        "id": "kPkxgSDnrqbH",
        "outputId": "c716a7e8-be2b-47c0-e314-5720b0e2fbe7"
      },
      "execution_count": 169,
      "outputs": [
        {
          "output_type": "execute_result",
          "data": {
            "text/plain": [
              "(array([0, 1, 2, 3, 4, 5]), <a list of 6 Text major ticklabel objects>)"
            ]
          },
          "metadata": {},
          "execution_count": 169
        },
        {
          "output_type": "display_data",
          "data": {
            "image/png": "[encoded data removed]",
            "text/plain": [
              "<Figure size 720x360 with 1 Axes>"
            ]
          },
          "metadata": {}
        }
      ]
    },
    {
      "cell_type": "markdown",
      "source": [
        "Custom Input Data"
      ],
      "metadata": {
        "id": "iEqdM1lRvdeJ"
      }
    },
    {
      "cell_type": "code",
      "source": [
        "input_data = (1,1,4,8,0.8,26.16,1108,7080,98,0,0,0,59)\n",
        "\n",
        "#changing the input data to numpy array\n",
        "input_data_as_numpy_array = np.asarray(input_data)\n",
        "\n",
        "# reshape the array as we are predicting for one instance\n",
        "input_data_reshaped = input_data_as_numpy_array.reshape(1,-1)\n",
        "\n",
        "# standardize the input data\n",
        "#std_data = scaler.transform(input_data_reshaped)\n",
        "\n",
        "prediction = RModel.predict(input_data_reshaped)\n",
        "print('Your Productivity =',prediction)"
      ],
      "metadata": {
        "colab": {
          "base_uri": "https://localhost:8080/"
        },
        "id": "NYarFGHbvfhh",
        "outputId": "b080e11e-7b8e-49e0-f1c1-c85a79970900"
      },
      "execution_count": 213,
      "outputs": [
        {
          "output_type": "stream",
          "name": "stdout",
          "text": [
            "Your Productivity = [0.93911974]\n"
          ]
        }
      ]
    },
    {
      "cell_type": "markdown",
      "source": [
        "Save the Trained Model"
      ],
      "metadata": {
        "id": "EEcUYNfB9wpe"
      }
    },
    {
      "cell_type": "code",
      "source": [
        "import pickle"
      ],
      "metadata": {
        "id": "OZwncKSu96_W"
      },
      "execution_count": 214,
      "outputs": []
    },
    {
      "cell_type": "code",
      "source": [
        "# file operation part\n",
        "filename = 'productivity.sav'\n",
        "pickle.dump(RModel, open(filename, 'wb')) \n",
        "# wb = written binary"
      ],
      "metadata": {
        "id": "pToODSI69-vO"
      },
      "execution_count": 215,
      "outputs": []
    },
    {
      "cell_type": "code",
      "source": [
        "# loading our model\n",
        "# rb = reading binary\n",
        "load_model = pickle.load(open('/content/productivity.sav','rb'))"
      ],
      "metadata": {
        "id": "idOomZ8Z-zxN"
      },
      "execution_count": 216,
      "outputs": []
    },
    {
      "cell_type": "code",
      "source": [
        "input_data = (1,1,4,8,0.8,26.16,1108,7080,98,0,0,0,59)\n",
        "\n",
        "#changing the input data to numpy array\n",
        "input_data_as_numpy_array = np.asarray(input_data)\n",
        "\n",
        "# reshape the array as we are predicting for one instance\n",
        "input_data_reshaped = input_data_as_numpy_array.reshape(1,-1)\n",
        "\n",
        "# standardize the input data\n",
        "#std_data = scaler.transform(input_data_reshaped)\n",
        "\n",
        "prediction = load_model.predict(input_data_reshaped)\n",
        "print('Your Productivity =',prediction)"
      ],
      "metadata": {
        "colab": {
          "base_uri": "https://localhost:8080/"
        },
        "id": "_mxSyzHu_Vfr",
        "outputId": "58eb863b-4540-44d4-fb41-f982db6ee67f"
      },
      "execution_count": 217,
      "outputs": [
        {
          "output_type": "stream",
          "name": "stdout",
          "text": [
            "Your Productivity = [0.93911974]\n"
          ]
        }
      ]
    }
  ],
  "metadata": {
    "colab": {
      "name": "Productivity.ipynb",
      "provenance": [],
      "collapsed_sections": []
    },
    "kernelspec": {
      "display_name": "Python 3",
      "name": "python3"
    },
    "language_info": {
      "name": "python"
    }
  },
  "nbformat": 4,
  "nbformat_minor": 0
}